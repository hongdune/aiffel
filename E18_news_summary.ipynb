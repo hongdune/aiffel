{
 "cells": [
  {
   "cell_type": "markdown",
   "metadata": {},
   "source": [
    "# 18-13. 프로젝트: 뉴스기사 요약해보기"
   ]
  },
  {
   "cell_type": "markdown",
   "metadata": {},
   "source": [
    "## Step 1. 데이터 수집하기"
   ]
  },
  {
   "cell_type": "code",
   "execution_count": 47,
   "metadata": {},
   "outputs": [
    {
     "name": "stderr",
     "output_type": "stream",
     "text": [
      "[nltk_data] Downloading package stopwords to\n",
      "[nltk_data]     /home/aiffel0042/nltk_data...\n",
      "[nltk_data]   Package stopwords is already up-to-date!\n"
     ]
    }
   ],
   "source": [
    "# 도구 준비\n",
    "import nltk\n",
    "nltk.download('stopwords')\n",
    "\n",
    "import numpy as np\n",
    "import pandas as pd\n",
    "import os\n",
    "import re\n",
    "import matplotlib.pyplot as plt\n",
    "from nltk.corpus import stopwords\n",
    "from bs4 import BeautifulSoup \n",
    "from tensorflow.keras.preprocessing.text import Tokenizer \n",
    "from tensorflow.keras.preprocessing.sequence import pad_sequences\n",
    "import urllib.request\n",
    "urllib.request.urlretrieve(\"https://raw.githubusercontent.com/thushv89/attention_keras/master/src/layers/attention.py\", filename=\"attention.py\")\n",
    "from attention import AttentionLayer\n",
    "from tensorflow.keras.layers import Input, LSTM, Embedding, Dense, Concatenate\n",
    "from tensorflow.keras.models import Model\n",
    "from tensorflow.keras.callbacks import EarlyStopping, ModelCheckpoint"
   ]
  },
  {
   "cell_type": "code",
   "execution_count": 2,
   "metadata": {},
   "outputs": [
    {
     "name": "stdout",
     "output_type": "stream",
     "text": [
      "전체 샘플수 : 98401\n"
     ]
    }
   ],
   "source": [
    "urllib.request.urlretrieve(\"https://raw.githubusercontent.com/sunnysai12345/News_Summary/master/news_summary_more.csv\", filename=\"news_summary_more.csv\")\n",
    "data = pd.read_csv('news_summary_more.csv', encoding='iso-8859-1')\n",
    "print('전체 샘플수 :',(len(data)))"
   ]
  },
  {
   "cell_type": "code",
   "execution_count": 3,
   "metadata": {},
   "outputs": [
    {
     "data": {
      "text/html": [
       "<div>\n",
       "<style scoped>\n",
       "    .dataframe tbody tr th:only-of-type {\n",
       "        vertical-align: middle;\n",
       "    }\n",
       "\n",
       "    .dataframe tbody tr th {\n",
       "        vertical-align: top;\n",
       "    }\n",
       "\n",
       "    .dataframe thead th {\n",
       "        text-align: right;\n",
       "    }\n",
       "</style>\n",
       "<table border=\"1\" class=\"dataframe\">\n",
       "  <thead>\n",
       "    <tr style=\"text-align: right;\">\n",
       "      <th></th>\n",
       "      <th>headlines</th>\n",
       "      <th>text</th>\n",
       "    </tr>\n",
       "  </thead>\n",
       "  <tbody>\n",
       "    <tr>\n",
       "      <th>39136</th>\n",
       "      <td>K'taka CM Kumaraswamy keeps 11 ministries incl...</td>\n",
       "      <td>Karnataka CM HD Kumaraswamy has allotted himse...</td>\n",
       "    </tr>\n",
       "    <tr>\n",
       "      <th>55693</th>\n",
       "      <td>US lifts funding ban on research to make virus...</td>\n",
       "      <td>The US government has lifted a three-year fund...</td>\n",
       "    </tr>\n",
       "    <tr>\n",
       "      <th>43823</th>\n",
       "      <td>Indian holds world record for memorising most ...</td>\n",
       "      <td>In October 2015, Jaipur's Suresh Kumar Sharma ...</td>\n",
       "    </tr>\n",
       "    <tr>\n",
       "      <th>76838</th>\n",
       "      <td>India to witness partial lunar eclipse on Augu...</td>\n",
       "      <td>A lunar eclipse will occur on August 7 night, ...</td>\n",
       "    </tr>\n",
       "    <tr>\n",
       "      <th>65219</th>\n",
       "      <td>Talwars donate Ã¢ÂÂ¹98,000 earned in jail to ...</td>\n",
       "      <td>Aarushi Talwar's parents had earned Ã¢ÂÂ¹49,0...</td>\n",
       "    </tr>\n",
       "    <tr>\n",
       "      <th>87248</th>\n",
       "      <td>Girls should avoid places where they can be mo...</td>\n",
       "      <td>Uttar Pradesh MLA and veteran Samajwadi Party ...</td>\n",
       "    </tr>\n",
       "    <tr>\n",
       "      <th>67757</th>\n",
       "      <td>US cuts embassy staff in Cuba amid sonic attacks</td>\n",
       "      <td>The US is withdrawing more than half of its di...</td>\n",
       "    </tr>\n",
       "    <tr>\n",
       "      <th>75834</th>\n",
       "      <td>Pahlaj Nihalani fired as India's Censor Board ...</td>\n",
       "      <td>The Ministry of Information &amp; Broadcasting has...</td>\n",
       "    </tr>\n",
       "    <tr>\n",
       "      <th>83036</th>\n",
       "      <td>Jayant Sinha likens GST launch to 'happy India...</td>\n",
       "      <td>Likening the roll-out of GST to an Indian wedd...</td>\n",
       "    </tr>\n",
       "    <tr>\n",
       "      <th>14823</th>\n",
       "      <td>Govt cuts petrol, diesel prices by Ã¢ÂÂ¹2.50 ...</td>\n",
       "      <td>The central government has cut the prices of p...</td>\n",
       "    </tr>\n",
       "  </tbody>\n",
       "</table>\n",
       "</div>"
      ],
      "text/plain": [
       "                                               headlines  \\\n",
       "39136  K'taka CM Kumaraswamy keeps 11 ministries incl...   \n",
       "55693  US lifts funding ban on research to make virus...   \n",
       "43823  Indian holds world record for memorising most ...   \n",
       "76838  India to witness partial lunar eclipse on Augu...   \n",
       "65219  Talwars donate Ã¢ÂÂ¹98,000 earned in jail to ...   \n",
       "87248  Girls should avoid places where they can be mo...   \n",
       "67757   US cuts embassy staff in Cuba amid sonic attacks   \n",
       "75834  Pahlaj Nihalani fired as India's Censor Board ...   \n",
       "83036  Jayant Sinha likens GST launch to 'happy India...   \n",
       "14823  Govt cuts petrol, diesel prices by Ã¢ÂÂ¹2.50 ...   \n",
       "\n",
       "                                                    text  \n",
       "39136  Karnataka CM HD Kumaraswamy has allotted himse...  \n",
       "55693  The US government has lifted a three-year fund...  \n",
       "43823  In October 2015, Jaipur's Suresh Kumar Sharma ...  \n",
       "76838  A lunar eclipse will occur on August 7 night, ...  \n",
       "65219  Aarushi Talwar's parents had earned Ã¢ÂÂ¹49,0...  \n",
       "87248  Uttar Pradesh MLA and veteran Samajwadi Party ...  \n",
       "67757  The US is withdrawing more than half of its di...  \n",
       "75834  The Ministry of Information & Broadcasting has...  \n",
       "83036  Likening the roll-out of GST to an Indian wedd...  \n",
       "14823  The central government has cut the prices of p...  "
      ]
     },
     "execution_count": 3,
     "metadata": {},
     "output_type": "execute_result"
    }
   ],
   "source": [
    "data.sample(10)"
   ]
  },
  {
   "cell_type": "markdown",
   "metadata": {},
   "source": [
    "## Step 2. 데이터 전처리하기 (추상적 요약)\n",
    "\n",
    "실습에서 사용된 전처리를 참고하여 각자 필요하다고 생각하는 전처리를 추가 사용하여 텍스트를 정규화 또는 정제해 보세요. 만약, 불용어 제거를 선택한다면 상대적으로 길이가 짧은 요약 데이터에 대해서도 불용어를 제거하는 것이 좋을지 고민해보세요."
   ]
  },
  {
   "cell_type": "code",
   "execution_count": 4,
   "metadata": {
    "scrolled": true
   },
   "outputs": [
    {
     "name": "stdout",
     "output_type": "stream",
     "text": [
      "text 열에서 중복을 배제한 유일한 샘플의 수 : 98360\n",
      "headlines 열에서 중복을 배제한 유일한 샘플의 수 : 98280\n"
     ]
    }
   ],
   "source": [
    "print('text 열에서 중복을 배제한 유일한 샘플의 수 :', data['text'].nunique())\n",
    "print('headlines 열에서 중복을 배제한 유일한 샘플의 수 :', data['headlines'].nunique())"
   ]
  },
  {
   "cell_type": "markdown",
   "metadata": {},
   "source": [
    "headlines에서 중복되는 경우가 80개가 발견되었다. 그러나 본문의 중복건수는 0건이기 때문에 우연의 일치로 제목이 동일하게 달린것으로 판단한다."
   ]
  },
  {
   "cell_type": "code",
   "execution_count": 5,
   "metadata": {},
   "outputs": [
    {
     "name": "stdout",
     "output_type": "stream",
     "text": [
      "전체 샘플수 : 98360\n"
     ]
    }
   ],
   "source": [
    "data.drop_duplicates(subset = ['text'], inplace = True)\n",
    "print('전체 샘플수 :',(len(data)))"
   ]
  },
  {
   "cell_type": "code",
   "execution_count": 6,
   "metadata": {},
   "outputs": [
    {
     "name": "stdout",
     "output_type": "stream",
     "text": [
      "headlines    0\n",
      "text         0\n",
      "dtype: int64\n"
     ]
    }
   ],
   "source": [
    "print(data.isnull().sum())"
   ]
  },
  {
   "cell_type": "markdown",
   "metadata": {},
   "source": [
    "news article에서 사용되는 contraction은 상대적으로 적은 편이다. ain't같은 비문은 사용되지 않기도 하고 I, you 같은 주어의 빈도가 일상대화에 비해 빈도가 낮은 편이기도 하다. 물론 여전히 연산을 줄이기 위한 사전을 갖춰야할 필요성은 있다. 다만 중복 연산되는 것은 contraction 이외에도 US, U.S.A, USA, America 등 동의어가 존재하며 fomal writing에선 같은 어휘를 반복사용하는 것을 지양하여 동의어, 유의어를 적극적으로 활용하기 때문에 이를 고려해야한다. 그러나 이 작업에는 많은 시간이 소요되기 때문에 본 노드에서는 따로 제작하지 않고 NLTK에서 제공하는 불용어만을 제거하겠다. summary에선 해당 작업을 진행하지 않는다."
   ]
  },
  {
   "cell_type": "code",
   "execution_count": 7,
   "metadata": {},
   "outputs": [
    {
     "name": "stdout",
     "output_type": "stream",
     "text": [
      "정규화 사전의 수:  120\n"
     ]
    }
   ],
   "source": [
    "contractions = {\"ain't\": \"is not\", \"aren't\": \"are not\",\"can't\": \"cannot\", \"'cause\": \"because\", \"could've\": \"could have\", \"couldn't\": \"could not\",\n",
    "                           \"didn't\": \"did not\",  \"doesn't\": \"does not\", \"don't\": \"do not\", \"hadn't\": \"had not\", \"hasn't\": \"has not\", \"haven't\": \"have not\",\n",
    "                           \"he'd\": \"he would\",\"he'll\": \"he will\", \"he's\": \"he is\", \"how'd\": \"how did\", \"how'd'y\": \"how do you\", \"how'll\": \"how will\", \"how's\": \"how is\",\n",
    "                           \"I'd\": \"I would\", \"I'd've\": \"I would have\", \"I'll\": \"I will\", \"I'll've\": \"I will have\",\"I'm\": \"I am\", \"I've\": \"I have\", \"i'd\": \"i would\",\n",
    "                           \"i'd've\": \"i would have\", \"i'll\": \"i will\",  \"i'll've\": \"i will have\",\"i'm\": \"i am\", \"i've\": \"i have\", \"isn't\": \"is not\", \"it'd\": \"it would\",\n",
    "                           \"it'd've\": \"it would have\", \"it'll\": \"it will\", \"it'll've\": \"it will have\",\"it's\": \"it is\", \"let's\": \"let us\", \"ma'am\": \"madam\",\n",
    "                           \"mayn't\": \"may not\", \"might've\": \"might have\",\"mightn't\": \"might not\",\"mightn't've\": \"might not have\", \"must've\": \"must have\",\n",
    "                           \"mustn't\": \"must not\", \"mustn't've\": \"must not have\", \"needn't\": \"need not\", \"needn't've\": \"need not have\",\"o'clock\": \"of the clock\",\n",
    "                           \"oughtn't\": \"ought not\", \"oughtn't've\": \"ought not have\", \"shan't\": \"shall not\", \"sha'n't\": \"shall not\", \"shan't've\": \"shall not have\",\n",
    "                           \"she'd\": \"she would\", \"she'd've\": \"she would have\", \"she'll\": \"she will\", \"she'll've\": \"she will have\", \"she's\": \"she is\",\n",
    "                           \"should've\": \"should have\", \"shouldn't\": \"should not\", \"shouldn't've\": \"should not have\", \"so've\": \"so have\",\"so's\": \"so as\",\n",
    "                           \"this's\": \"this is\",\"that'd\": \"that would\", \"that'd've\": \"that would have\", \"that's\": \"that is\", \"there'd\": \"there would\",\n",
    "                           \"there'd've\": \"there would have\", \"there's\": \"there is\", \"here's\": \"here is\",\"they'd\": \"they would\", \"they'd've\": \"they would have\",\n",
    "                           \"they'll\": \"they will\", \"they'll've\": \"they will have\", \"they're\": \"they are\", \"they've\": \"they have\", \"to've\": \"to have\",\n",
    "                           \"wasn't\": \"was not\", \"we'd\": \"we would\", \"we'd've\": \"we would have\", \"we'll\": \"we will\", \"we'll've\": \"we will have\", \"we're\": \"we are\",\n",
    "                           \"we've\": \"we have\", \"weren't\": \"were not\", \"what'll\": \"what will\", \"what'll've\": \"what will have\", \"what're\": \"what are\",\n",
    "                           \"what's\": \"what is\", \"what've\": \"what have\", \"when's\": \"when is\", \"when've\": \"when have\", \"where'd\": \"where did\", \"where's\": \"where is\",\n",
    "                           \"where've\": \"where have\", \"who'll\": \"who will\", \"who'll've\": \"who will have\", \"who's\": \"who is\", \"who've\": \"who have\",\n",
    "                           \"why's\": \"why is\", \"why've\": \"why have\", \"will've\": \"will have\", \"won't\": \"will not\", \"won't've\": \"will not have\",\n",
    "                           \"would've\": \"would have\", \"wouldn't\": \"would not\", \"wouldn't've\": \"would not have\", \"y'all\": \"you all\",\n",
    "                           \"y'all'd\": \"you all would\",\"y'all'd've\": \"you all would have\",\"y'all're\": \"you all are\",\"y'all've\": \"you all have\",\n",
    "                           \"you'd\": \"you would\", \"you'd've\": \"you would have\", \"you'll\": \"you will\", \"you'll've\": \"you will have\",\n",
    "                           \"you're\": \"you are\", \"you've\": \"you have\"}\n",
    "\n",
    "print(\"정규화 사전의 수: \",len(contractions))"
   ]
  },
  {
   "cell_type": "code",
   "execution_count": 8,
   "metadata": {},
   "outputs": [
    {
     "name": "stdout",
     "output_type": "stream",
     "text": [
      "불용어 개수 : 179\n",
      "['i', 'me', 'my', 'myself', 'we', 'our', 'ours', 'ourselves', 'you', \"you're\", \"you've\", \"you'll\", \"you'd\", 'your', 'yours', 'yourself', 'yourselves', 'he', 'him', 'his', 'himself', 'she', \"she's\", 'her', 'hers', 'herself', 'it', \"it's\", 'its', 'itself', 'they', 'them', 'their', 'theirs', 'themselves', 'what', 'which', 'who', 'whom', 'this', 'that', \"that'll\", 'these', 'those', 'am', 'is', 'are', 'was', 'were', 'be', 'been', 'being', 'have', 'has', 'had', 'having', 'do', 'does', 'did', 'doing', 'a', 'an', 'the', 'and', 'but', 'if', 'or', 'because', 'as', 'until', 'while', 'of', 'at', 'by', 'for', 'with', 'about', 'against', 'between', 'into', 'through', 'during', 'before', 'after', 'above', 'below', 'to', 'from', 'up', 'down', 'in', 'out', 'on', 'off', 'over', 'under', 'again', 'further', 'then', 'once', 'here', 'there', 'when', 'where', 'why', 'how', 'all', 'any', 'both', 'each', 'few', 'more', 'most', 'other', 'some', 'such', 'no', 'nor', 'not', 'only', 'own', 'same', 'so', 'than', 'too', 'very', 's', 't', 'can', 'will', 'just', 'don', \"don't\", 'should', \"should've\", 'now', 'd', 'll', 'm', 'o', 're', 've', 'y', 'ain', 'aren', \"aren't\", 'couldn', \"couldn't\", 'didn', \"didn't\", 'doesn', \"doesn't\", 'hadn', \"hadn't\", 'hasn', \"hasn't\", 'haven', \"haven't\", 'isn', \"isn't\", 'ma', 'mightn', \"mightn't\", 'mustn', \"mustn't\", 'needn', \"needn't\", 'shan', \"shan't\", 'shouldn', \"shouldn't\", 'wasn', \"wasn't\", 'weren', \"weren't\", 'won', \"won't\", 'wouldn', \"wouldn't\"]\n"
     ]
    }
   ],
   "source": [
    "print('불용어 개수 :', len(stopwords.words('english') ))\n",
    "print(stopwords.words('english'))"
   ]
  },
  {
   "cell_type": "code",
   "execution_count": 9,
   "metadata": {},
   "outputs": [],
   "source": [
    "#데이터 전처리 함수\n",
    "def preprocess_sentence(sentence, remove_stopwords=True):\n",
    "    sentence = sentence.lower() # 텍스트 소문자화\n",
    "    sentence = BeautifulSoup(sentence, \"lxml\").text # <br />, <a href = ...> 등의 html 태그 제거\n",
    "    sentence = re.sub(r'\\([^)]*\\)', '', sentence) # 괄호로 닫힌 문자열 (...) 제거 Ex) my husband (and myself!) for => my husband for\n",
    "    sentence = re.sub('\"','', sentence) # 쌍따옴표 \" 제거\n",
    "    sentence = ' '.join([contractions[t] if t in contractions else t for t in sentence.split(\" \")]) # 약어 정규화\n",
    "    sentence = re.sub(r\"'s\\b\",\"\",sentence) # 소유격 제거. Ex) roland's -> roland\n",
    "    sentence = re.sub(\"[^a-zA-Z]\", \" \", sentence) # 영어 외 문자(숫자, 특수문자 등) 공백으로 변환\n",
    "    sentence = re.sub('[m]{2,}', 'mm', sentence) # m이 3개 이상이면 2개로 변경. Ex) ummmmmmm yeah -> umm yeah\n",
    "    \n",
    "    # 불용어 제거 (Text)\n",
    "    if remove_stopwords:\n",
    "        tokens = ' '.join(word for word in sentence.split() if not word in stopwords.words('english') if len(word) > 1)\n",
    "    # 불용어 미제거 (Summary)\n",
    "    else:\n",
    "        tokens = ' '.join(word for word in sentence.split() if len(word) > 1)\n",
    "    return tokens"
   ]
  },
  {
   "cell_type": "code",
   "execution_count": 10,
   "metadata": {},
   "outputs": [
    {
     "name": "stdout",
     "output_type": "stream",
     "text": [
      "everything bought great infact ordered twice third ordered wasfor mother father\n",
      "great way to start the day\n"
     ]
    }
   ],
   "source": [
    "#정규화 확인\n",
    "temp_text = 'Everything I bought was great, infact I ordered twice and the third ordered was<br />for my mother and father.'\n",
    "temp_summary = 'Great way to start (or finish) the day!!!'\n",
    "\n",
    "print(preprocess_sentence(temp_text))\n",
    "print(preprocess_sentence(temp_summary, False))  # 불용어를 제거하지 않습니다."
   ]
  },
  {
   "cell_type": "code",
   "execution_count": 11,
   "metadata": {},
   "outputs": [
    {
     "data": {
      "text/plain": [
       "['saurav kant alumnus upgrad iiit pg program machine learning artificial intelligence sr systems engineer infosys almost years work experience program upgrad degree career support helped transition data scientist tech mahindra salary hike upgrad online power learning powered lakh careers',\n",
       " 'kunal shah credit card bill payment platform cred gave users chance win free food swiggy one year pranav kaushik delhi techie bagged reward spending cred coins users get one cred coin per rupee bill paid used avail rewards brands like ixigo bookmyshow ubereats cult fit',\n",
       " 'new zealand defeated india wickets fourth odi hamilton thursday win first match five match odi series india lost international match rohit sharma captaincy consecutive victories dating back march match witnessed india getting seventh lowest total odi cricket history',\n",
       " 'aegon life iterm insurance plan customers enjoy tax benefits premiums paid save taxes plan provides life cover age years also customers options insure critical illnesses disability accidental death benefit rider life cover age years',\n",
       " 'speaking sexual harassment allegations rajkumar hirani sonam kapoor said known hirani many years true metoo movement get derailed metoo movement always believe woman case need reserve judgment added hirani accused assistant worked sanju']"
      ]
     },
     "execution_count": 11,
     "metadata": {},
     "output_type": "execute_result"
    }
   ],
   "source": [
    "clean_text = []\n",
    "\n",
    "for s in data['text']:\n",
    "    clean_text.append(preprocess_sentence(s))\n",
    "\n",
    "# 전처리 후 출력\n",
    "clean_text[:5]"
   ]
  },
  {
   "cell_type": "code",
   "execution_count": 12,
   "metadata": {},
   "outputs": [
    {
     "data": {
      "text/plain": [
       "['upgrad learner switches to career in ml al with salary hike',\n",
       " 'delhi techie wins free food from swiggy for one year on cred',\n",
       " 'new zealand end rohit sharma led india match winning streak',\n",
       " 'aegon life iterm insurance plan helps customers save tax',\n",
       " 'have known hirani for yrs what if metoo claims are not true sonam']"
      ]
     },
     "execution_count": 12,
     "metadata": {},
     "output_type": "execute_result"
    }
   ],
   "source": [
    "clean_summary = []\n",
    "\n",
    "for s in data['headlines']:\n",
    "    clean_summary.append(preprocess_sentence(s, False))\n",
    "\n",
    "clean_summary[:5]"
   ]
  },
  {
   "cell_type": "code",
   "execution_count": 13,
   "metadata": {},
   "outputs": [],
   "source": [
    "data['text'] = clean_text\n",
    "data['headlines'] = clean_summary\n",
    "\n",
    "# 빈 값을 Null 값으로 변환\n",
    "data.replace('', np.nan, inplace=True)"
   ]
  },
  {
   "cell_type": "code",
   "execution_count": 14,
   "metadata": {
    "scrolled": false
   },
   "outputs": [
    {
     "data": {
      "text/plain": [
       "headlines    0\n",
       "text         0\n",
       "dtype: int64"
      ]
     },
     "execution_count": 14,
     "metadata": {},
     "output_type": "execute_result"
    }
   ],
   "source": [
    "data.isnull().sum()"
   ]
  },
  {
   "cell_type": "code",
   "execution_count": 15,
   "metadata": {},
   "outputs": [
    {
     "name": "stdout",
     "output_type": "stream",
     "text": [
      "텍스트의 최소 길이 : 1\n",
      "텍스트의 최대 길이 : 60\n",
      "텍스트의 평균 길이 : 35.09968483123221\n",
      "요약의 최소 길이 : 1\n",
      "요약의 최대 길이 : 16\n",
      "요약의 평균 길이 : 9.299532330215534\n"
     ]
    },
    {
     "data": {
      "image/png": "[encoded data removed]",
      "text/plain": [
       "<Figure size 432x288 with 2 Axes>"
      ]
     },
     "metadata": {
      "needs_background": "light"
     },
     "output_type": "display_data"
    },
    {
     "data": {
      "image/png": "[encoded data removed]",
      "text/plain": [
       "<Figure size 432x288 with 1 Axes>"
      ]
     },
     "metadata": {
      "needs_background": "light"
     },
     "output_type": "display_data"
    },
    {
     "data": {
      "image/png": "[encoded data removed]",
      "text/plain": [
       "<Figure size 432x288 with 1 Axes>"
      ]
     },
     "metadata": {
      "needs_background": "light"
     },
     "output_type": "display_data"
    }
   ],
   "source": [
    "# 길이 분포 출력\n",
    "import matplotlib.pyplot as plt\n",
    "\n",
    "text_len = [len(s.split()) for s in data['text']]\n",
    "summary_len = [len(s.split()) for s in data['headlines']]\n",
    "\n",
    "print('텍스트의 최소 길이 : {}'.format(np.min(text_len)))\n",
    "print('텍스트의 최대 길이 : {}'.format(np.max(text_len)))\n",
    "print('텍스트의 평균 길이 : {}'.format(np.mean(text_len)))\n",
    "print('요약의 최소 길이 : {}'.format(np.min(summary_len)))\n",
    "print('요약의 최대 길이 : {}'.format(np.max(summary_len)))\n",
    "print('요약의 평균 길이 : {}'.format(np.mean(summary_len)))\n",
    "\n",
    "plt.subplot(1,2,1)\n",
    "plt.boxplot(summary_len)\n",
    "plt.title('headlines')\n",
    "plt.subplot(1,2,2)\n",
    "plt.boxplot(text_len)\n",
    "plt.title('text')\n",
    "plt.tight_layout()\n",
    "plt.show()\n",
    "\n",
    "plt.title('headlines')\n",
    "plt.hist(summary_len, bins = 40)\n",
    "plt.xlabel('length of samples')\n",
    "plt.ylabel('number of samples')\n",
    "plt.show()\n",
    "\n",
    "plt.title('text')\n",
    "plt.hist(text_len, bins = 40)\n",
    "plt.xlabel('length of samples')\n",
    "plt.ylabel('number of samples')\n",
    "plt.show()"
   ]
  },
  {
   "cell_type": "code",
   "execution_count": 16,
   "metadata": {},
   "outputs": [],
   "source": [
    "text_max_len = 60\n",
    "summary_max_len = 12"
   ]
  },
  {
   "cell_type": "code",
   "execution_count": 17,
   "metadata": {},
   "outputs": [],
   "source": [
    "def below_threshold_len(max_len, nested_list):\n",
    "  cnt = 0\n",
    "  for s in nested_list:\n",
    "    if(len(s.split()) <= max_len):\n",
    "        cnt = cnt + 1\n",
    "  print('전체 샘플 중 길이가 %s 이하인 샘플의 비율: %s'%(max_len, (cnt / len(nested_list))))"
   ]
  },
  {
   "cell_type": "code",
   "execution_count": 18,
   "metadata": {},
   "outputs": [
    {
     "name": "stdout",
     "output_type": "stream",
     "text": [
      "전체 샘플 중 길이가 60 이하인 샘플의 비율: 1.0\n",
      "전체 샘플 중 길이가 12 이하인 샘플의 비율: 0.9880337535583571\n"
     ]
    }
   ],
   "source": [
    "below_threshold_len(text_max_len, data['text'])\n",
    "below_threshold_len(summary_max_len,  data['headlines'])"
   ]
  },
  {
   "cell_type": "code",
   "execution_count": 19,
   "metadata": {},
   "outputs": [
    {
     "name": "stdout",
     "output_type": "stream",
     "text": [
      "전체 샘플수 : 97183\n"
     ]
    }
   ],
   "source": [
    "data = data[data['text'].apply(lambda x: len(x.split()) <= text_max_len)]\n",
    "data = data[data['headlines'].apply(lambda x: len(x.split()) <= summary_max_len)]\n",
    "print('전체 샘플수 :',(len(data)))"
   ]
  },
  {
   "cell_type": "code",
   "execution_count": 20,
   "metadata": {},
   "outputs": [
    {
     "data": {
      "text/html": [
       "<div>\n",
       "<style scoped>\n",
       "    .dataframe tbody tr th:only-of-type {\n",
       "        vertical-align: middle;\n",
       "    }\n",
       "\n",
       "    .dataframe tbody tr th {\n",
       "        vertical-align: top;\n",
       "    }\n",
       "\n",
       "    .dataframe thead th {\n",
       "        text-align: right;\n",
       "    }\n",
       "</style>\n",
       "<table border=\"1\" class=\"dataframe\">\n",
       "  <thead>\n",
       "    <tr style=\"text-align: right;\">\n",
       "      <th></th>\n",
       "      <th>headlines</th>\n",
       "      <th>text</th>\n",
       "      <th>decoder_input</th>\n",
       "      <th>decoder_target</th>\n",
       "    </tr>\n",
       "  </thead>\n",
       "  <tbody>\n",
       "    <tr>\n",
       "      <th>0</th>\n",
       "      <td>upgrad learner switches to career in ml al wit...</td>\n",
       "      <td>saurav kant alumnus upgrad iiit pg program mac...</td>\n",
       "      <td>sostoken upgrad learner switches to career in ...</td>\n",
       "      <td>upgrad learner switches to career in ml al wit...</td>\n",
       "    </tr>\n",
       "    <tr>\n",
       "      <th>1</th>\n",
       "      <td>delhi techie wins free food from swiggy for on...</td>\n",
       "      <td>kunal shah credit card bill payment platform c...</td>\n",
       "      <td>sostoken delhi techie wins free food from swig...</td>\n",
       "      <td>delhi techie wins free food from swiggy for on...</td>\n",
       "    </tr>\n",
       "    <tr>\n",
       "      <th>2</th>\n",
       "      <td>new zealand end rohit sharma led india match w...</td>\n",
       "      <td>new zealand defeated india wickets fourth odi ...</td>\n",
       "      <td>sostoken new zealand end rohit sharma led indi...</td>\n",
       "      <td>new zealand end rohit sharma led india match w...</td>\n",
       "    </tr>\n",
       "    <tr>\n",
       "      <th>3</th>\n",
       "      <td>aegon life iterm insurance plan helps customer...</td>\n",
       "      <td>aegon life iterm insurance plan customers enjo...</td>\n",
       "      <td>sostoken aegon life iterm insurance plan helps...</td>\n",
       "      <td>aegon life iterm insurance plan helps customer...</td>\n",
       "    </tr>\n",
       "    <tr>\n",
       "      <th>5</th>\n",
       "      <td>rahat fateh ali khan denies getting notice for...</td>\n",
       "      <td>pakistani singer rahat fateh ali khan denied r...</td>\n",
       "      <td>sostoken rahat fateh ali khan denies getting n...</td>\n",
       "      <td>rahat fateh ali khan denies getting notice for...</td>\n",
       "    </tr>\n",
       "  </tbody>\n",
       "</table>\n",
       "</div>"
      ],
      "text/plain": [
       "                                           headlines  \\\n",
       "0  upgrad learner switches to career in ml al wit...   \n",
       "1  delhi techie wins free food from swiggy for on...   \n",
       "2  new zealand end rohit sharma led india match w...   \n",
       "3  aegon life iterm insurance plan helps customer...   \n",
       "5  rahat fateh ali khan denies getting notice for...   \n",
       "\n",
       "                                                text  \\\n",
       "0  saurav kant alumnus upgrad iiit pg program mac...   \n",
       "1  kunal shah credit card bill payment platform c...   \n",
       "2  new zealand defeated india wickets fourth odi ...   \n",
       "3  aegon life iterm insurance plan customers enjo...   \n",
       "5  pakistani singer rahat fateh ali khan denied r...   \n",
       "\n",
       "                                       decoder_input  \\\n",
       "0  sostoken upgrad learner switches to career in ...   \n",
       "1  sostoken delhi techie wins free food from swig...   \n",
       "2  sostoken new zealand end rohit sharma led indi...   \n",
       "3  sostoken aegon life iterm insurance plan helps...   \n",
       "5  sostoken rahat fateh ali khan denies getting n...   \n",
       "\n",
       "                                      decoder_target  \n",
       "0  upgrad learner switches to career in ml al wit...  \n",
       "1  delhi techie wins free food from swiggy for on...  \n",
       "2  new zealand end rohit sharma led india match w...  \n",
       "3  aegon life iterm insurance plan helps customer...  \n",
       "5  rahat fateh ali khan denies getting notice for...  "
      ]
     },
     "execution_count": 20,
     "metadata": {},
     "output_type": "execute_result"
    }
   ],
   "source": [
    "data['decoder_input'] = data['headlines'].apply(lambda x : 'sostoken '+ x)\n",
    "data['decoder_target'] = data['headlines'].apply(lambda x : x + ' eostoken')\n",
    "data.head()"
   ]
  },
  {
   "cell_type": "code",
   "execution_count": 21,
   "metadata": {},
   "outputs": [],
   "source": [
    "encoder_input = np.array(data['text']) # 인코더의 입력\n",
    "decoder_input = np.array(data['decoder_input']) # 디코더의 입력\n",
    "decoder_target = np.array(data['decoder_target']) # 디코더의 레이블"
   ]
  },
  {
   "cell_type": "code",
   "execution_count": 22,
   "metadata": {},
   "outputs": [
    {
     "name": "stdout",
     "output_type": "stream",
     "text": [
      "[ 4152 12797 12371 ... 81499 53748 79652]\n"
     ]
    }
   ],
   "source": [
    "indices = np.arange(encoder_input.shape[0])\n",
    "np.random.shuffle(indices)\n",
    "print(indices)"
   ]
  },
  {
   "cell_type": "code",
   "execution_count": 23,
   "metadata": {},
   "outputs": [],
   "source": [
    "encoder_input = encoder_input[indices]\n",
    "decoder_input = decoder_input[indices]\n",
    "decoder_target = decoder_target[indices]"
   ]
  },
  {
   "cell_type": "code",
   "execution_count": 24,
   "metadata": {},
   "outputs": [
    {
     "name": "stdout",
     "output_type": "stream",
     "text": [
      "테스트 데이터의 수 : 19436\n"
     ]
    }
   ],
   "source": [
    "n_of_val = int(len(encoder_input)*0.2)\n",
    "print('테스트 데이터의 수 :',n_of_val)"
   ]
  },
  {
   "cell_type": "code",
   "execution_count": 25,
   "metadata": {},
   "outputs": [
    {
     "name": "stdout",
     "output_type": "stream",
     "text": [
      "훈련 데이터의 개수 : 77747\n",
      "훈련 레이블의 개수 : 77747\n",
      "테스트 데이터의 개수 : 19436\n",
      "테스트 레이블의 개수 : 19436\n"
     ]
    }
   ],
   "source": [
    "encoder_input_train = encoder_input[:-n_of_val]\n",
    "decoder_input_train = decoder_input[:-n_of_val]\n",
    "decoder_target_train = decoder_target[:-n_of_val]\n",
    "\n",
    "encoder_input_test = encoder_input[-n_of_val:]\n",
    "decoder_input_test = decoder_input[-n_of_val:]\n",
    "decoder_target_test = decoder_target[-n_of_val:]\n",
    "\n",
    "print('훈련 데이터의 개수 :', len(encoder_input_train))\n",
    "print('훈련 레이블의 개수 :',len(decoder_input_train))\n",
    "print('테스트 데이터의 개수 :',len(encoder_input_test))\n",
    "print('테스트 레이블의 개수 :',len(decoder_input_test))"
   ]
  },
  {
   "cell_type": "code",
   "execution_count": 26,
   "metadata": {},
   "outputs": [],
   "source": [
    "src_tokenizer = Tokenizer() # 토크나이저 정의\n",
    "src_tokenizer.fit_on_texts(encoder_input_train) # 입력된 데이터로부터 단어 집합 생성"
   ]
  },
  {
   "cell_type": "code",
   "execution_count": 27,
   "metadata": {},
   "outputs": [
    {
     "name": "stdout",
     "output_type": "stream",
     "text": [
      "단어 집합(vocabulary)의 크기 : 69478\n",
      "등장 빈도가 6번 이하인 희귀 단어의 수: 47400\n",
      "단어 집합에서 희귀 단어를 제외시킬 경우의 단어 집합의 크기 22078\n",
      "단어 집합에서 희귀 단어의 비율: 68.22303462966694\n",
      "전체 등장 빈도에서 희귀 단어 등장 빈도 비율: 3.5197228248503527\n"
     ]
    }
   ],
   "source": [
    "threshold = 7\n",
    "total_cnt = len(src_tokenizer.word_index) # 단어의 수\n",
    "rare_cnt = 0 # 등장 빈도수가 threshold보다 작은 단어의 개수를 카운트\n",
    "total_freq = 0 # 훈련 데이터의 전체 단어 빈도수 총 합\n",
    "rare_freq = 0 # 등장 빈도수가 threshold보다 작은 단어의 등장 빈도수의 총 합\n",
    "\n",
    "# 단어와 빈도수의 쌍(pair)을 key와 value로 받는다.\n",
    "for key, value in src_tokenizer.word_counts.items():\n",
    "    total_freq = total_freq + value\n",
    "\n",
    "    # 단어의 등장 빈도수가 threshold보다 작으면\n",
    "    if(value < threshold):\n",
    "        rare_cnt = rare_cnt + 1\n",
    "        rare_freq = rare_freq + value\n",
    "\n",
    "print('단어 집합(vocabulary)의 크기 :',total_cnt)\n",
    "print('등장 빈도가 %s번 이하인 희귀 단어의 수: %s'%(threshold - 1, rare_cnt))\n",
    "print('단어 집합에서 희귀 단어를 제외시킬 경우의 단어 집합의 크기 %s'%(total_cnt - rare_cnt))\n",
    "print(\"단어 집합에서 희귀 단어의 비율:\", (rare_cnt / total_cnt)*100)\n",
    "print(\"전체 등장 빈도에서 희귀 단어 등장 빈도 비율:\", (rare_freq / total_freq)*100)"
   ]
  },
  {
   "cell_type": "code",
   "execution_count": 35,
   "metadata": {},
   "outputs": [],
   "source": [
    "src_vocab = 22000\n",
    "src_tokenizer = Tokenizer(num_words = src_vocab)\n",
    "src_tokenizer.fit_on_texts(encoder_input_train)"
   ]
  },
  {
   "cell_type": "code",
   "execution_count": 36,
   "metadata": {},
   "outputs": [
    {
     "name": "stdout",
     "output_type": "stream",
     "text": [
      "[[151, 15, 112, 47, 57, 1046, 36, 1642, 1062, 266, 147, 10, 290, 830, 350, 8, 21, 8, 3358, 424, 350, 830, 1, 7035, 266, 38, 5560, 539, 49, 47, 1, 10, 39, 4297, 5831], [124, 845, 93, 536, 247, 981, 142, 2, 83, 968, 778, 2, 85, 22, 1, 2156, 9405, 968, 142, 4035, 54, 85, 127, 692, 33, 5832, 142, 2, 410, 700, 6836, 968, 142, 635, 5200, 2], [436, 15, 4062, 48, 2582, 57, 1, 4430, 3569, 448, 910, 101, 304, 14718, 5894, 3076, 4142, 148, 2461, 1666, 910, 4, 2582, 155, 4062, 2549, 267, 46, 3023, 1, 287, 910]]\n"
     ]
    }
   ],
   "source": [
    "# 텍스트 시퀀스를 정수 시퀀스로 변환\n",
    "encoder_input_train = src_tokenizer.texts_to_sequences(encoder_input_train) \n",
    "encoder_input_test = src_tokenizer.texts_to_sequences(encoder_input_test)\n",
    "\n",
    "#잘 진행되었는지 샘플 출력\n",
    "print(encoder_input_train[:3])"
   ]
  },
  {
   "cell_type": "code",
   "execution_count": 37,
   "metadata": {},
   "outputs": [],
   "source": [
    "tar_tokenizer = Tokenizer()\n",
    "tar_tokenizer.fit_on_texts(decoder_input_train)"
   ]
  },
  {
   "cell_type": "code",
   "execution_count": 38,
   "metadata": {},
   "outputs": [
    {
     "name": "stdout",
     "output_type": "stream",
     "text": [
      "단어 집합(vocabulary)의 크기 : 30068\n",
      "등장 빈도가 5번 이하인 희귀 단어의 수: 19757\n",
      "단어 집합에서 희귀 단어를 제외시킬 경우의 단어 집합의 크기 10311\n",
      "단어 집합에서 희귀 단어의 비율: 65.70772914726619\n",
      "전체 등장 빈도에서 희귀 단어 등장 빈도 비율: 4.750401970596572\n"
     ]
    }
   ],
   "source": [
    "threshold = 6\n",
    "total_cnt = len(tar_tokenizer.word_index) # 단어의 수\n",
    "rare_cnt = 0 # 등장 빈도수가 threshold보다 작은 단어의 개수를 카운트\n",
    "total_freq = 0 # 훈련 데이터의 전체 단어 빈도수 총 합\n",
    "rare_freq = 0 # 등장 빈도수가 threshold보다 작은 단어의 등장 빈도수의 총 합\n",
    "\n",
    "# 단어와 빈도수의 쌍(pair)을 key와 value로 받는다.\n",
    "for key, value in tar_tokenizer.word_counts.items():\n",
    "    total_freq = total_freq + value\n",
    "\n",
    "    # 단어의 등장 빈도수가 threshold보다 작으면\n",
    "    if(value < threshold):\n",
    "        rare_cnt = rare_cnt + 1\n",
    "        rare_freq = rare_freq + value\n",
    "\n",
    "print('단어 집합(vocabulary)의 크기 :',total_cnt)\n",
    "print('등장 빈도가 %s번 이하인 희귀 단어의 수: %s'%(threshold - 1, rare_cnt))\n",
    "print('단어 집합에서 희귀 단어를 제외시킬 경우의 단어 집합의 크기 %s'%(total_cnt - rare_cnt))\n",
    "print(\"단어 집합에서 희귀 단어의 비율:\", (rare_cnt / total_cnt)*100)\n",
    "print(\"전체 등장 빈도에서 희귀 단어 등장 빈도 비율:\", (rare_freq / total_freq)*100)"
   ]
  },
  {
   "cell_type": "code",
   "execution_count": 39,
   "metadata": {},
   "outputs": [
    {
     "name": "stdout",
     "output_type": "stream",
     "text": [
      "input\n",
      "input  [[1, 319, 23, 983, 1940, 221, 820, 22, 39], [1, 413, 8, 11, 9, 2153, 198, 634, 34], [1, 427, 32, 6778, 11, 1361, 7, 217, 6137], [1, 525, 8744, 1157, 6, 220, 30, 1822, 8745], [1, 4100, 170, 3988, 15, 45, 2541, 5, 2332, 56, 3295]]\n",
      "target\n",
      "decoder  [[319, 23, 983, 1940, 221, 820, 22, 39, 2], [413, 8, 11, 9, 2153, 198, 634, 34, 2], [427, 32, 6778, 11, 1361, 7, 217, 6137, 2], [525, 8744, 1157, 6, 220, 30, 1822, 8745, 2], [4100, 170, 3988, 15, 45, 2541, 5, 2332, 56, 3295, 2]]\n"
     ]
    }
   ],
   "source": [
    "tar_vocab = 10000\n",
    "tar_tokenizer = Tokenizer(num_words = tar_vocab) \n",
    "tar_tokenizer.fit_on_texts(decoder_input_train)\n",
    "tar_tokenizer.fit_on_texts(decoder_target_train)\n",
    "\n",
    "# 텍스트 시퀀스를 정수 시퀀스로 변환\n",
    "decoder_input_train = tar_tokenizer.texts_to_sequences(decoder_input_train) \n",
    "decoder_target_train = tar_tokenizer.texts_to_sequences(decoder_target_train)\n",
    "decoder_input_test = tar_tokenizer.texts_to_sequences(decoder_input_test)\n",
    "decoder_target_test = tar_tokenizer.texts_to_sequences(decoder_target_test)\n",
    "\n",
    "#잘 변환되었는지 확인\n",
    "print('input')\n",
    "print('input ',decoder_input_train[:5])\n",
    "print('target')\n",
    "print('decoder ',decoder_target_train[:5])"
   ]
  },
  {
   "cell_type": "code",
   "execution_count": 40,
   "metadata": {},
   "outputs": [
    {
     "name": "stdout",
     "output_type": "stream",
     "text": [
      "삭제할 훈련 데이터의 개수 : 1\n",
      "삭제할 테스트 데이터의 개수 : 0\n",
      "훈련 데이터의 개수 : 77746\n",
      "훈련 레이블의 개수 : 77746\n",
      "테스트 데이터의 개수 : 19436\n",
      "테스트 레이블의 개수 : 19436\n"
     ]
    }
   ],
   "source": [
    "drop_train = [index for index, sentence in enumerate(decoder_input_train) if len(sentence) == 1]\n",
    "drop_test = [index for index, sentence in enumerate(decoder_input_test) if len(sentence) == 1]\n",
    "\n",
    "print('삭제할 훈련 데이터의 개수 :',len(drop_train))\n",
    "print('삭제할 테스트 데이터의 개수 :',len(drop_test))\n",
    "\n",
    "encoder_input_train = np.delete(encoder_input_train, drop_train, axis=0)\n",
    "decoder_input_train = np.delete(decoder_input_train, drop_train, axis=0)\n",
    "decoder_target_train = np.delete(decoder_target_train, drop_train, axis=0)\n",
    "\n",
    "encoder_input_test = np.delete(encoder_input_test, drop_test, axis=0)\n",
    "decoder_input_test = np.delete(decoder_input_test, drop_test, axis=0)\n",
    "decoder_target_test = np.delete(decoder_target_test, drop_test, axis=0)\n",
    "\n",
    "print('훈련 데이터의 개수 :', len(encoder_input_train))\n",
    "print('훈련 레이블의 개수 :',len(decoder_input_train))\n",
    "print('테스트 데이터의 개수 :',len(encoder_input_test))\n",
    "print('테스트 레이블의 개수 :',len(decoder_input_test))"
   ]
  },
  {
   "cell_type": "code",
   "execution_count": 41,
   "metadata": {},
   "outputs": [],
   "source": [
    "encoder_input_train = pad_sequences(encoder_input_train, maxlen = text_max_len, padding='post')\n",
    "encoder_input_test = pad_sequences(encoder_input_test, maxlen = text_max_len, padding='post')\n",
    "decoder_input_train = pad_sequences(decoder_input_train, maxlen = summary_max_len, padding='post')\n",
    "decoder_target_train = pad_sequences(decoder_target_train, maxlen = summary_max_len, padding='post')\n",
    "decoder_input_test = pad_sequences(decoder_input_test, maxlen = summary_max_len, padding='post')\n",
    "decoder_target_test = pad_sequences(decoder_target_test, maxlen = summary_max_len, padding='post')"
   ]
  },
  {
   "cell_type": "markdown",
   "metadata": {},
   "source": [
    "## Step 3. 어텐션 메커니즘 사용하기 (추상적 요약)"
   ]
  },
  {
   "cell_type": "code",
   "execution_count": 48,
   "metadata": {},
   "outputs": [
    {
     "name": "stdout",
     "output_type": "stream",
     "text": [
      "WARNING:tensorflow:Layer lstm will not use cuDNN kernel since it doesn't meet the cuDNN kernel criteria. It will use generic GPU kernel as fallback when running on GPU\n",
      "WARNING:tensorflow:Layer lstm_1 will not use cuDNN kernel since it doesn't meet the cuDNN kernel criteria. It will use generic GPU kernel as fallback when running on GPU\n",
      "WARNING:tensorflow:Layer lstm_2 will not use cuDNN kernel since it doesn't meet the cuDNN kernel criteria. It will use generic GPU kernel as fallback when running on GPU\n"
     ]
    }
   ],
   "source": [
    "# 인코더 설계 시작\n",
    "embedding_dim = 128\n",
    "hidden_size = 256\n",
    "\n",
    "# 인코더\n",
    "encoder_inputs = Input(shape=(text_max_len,))\n",
    "\n",
    "# 인코더의 임베딩 층\n",
    "enc_emb = Embedding(src_vocab, embedding_dim)(encoder_inputs)\n",
    "\n",
    "# 인코더의 LSTM 1\n",
    "encoder_lstm1 = LSTM(hidden_size, return_sequences=True, return_state=True ,dropout = 0.4, recurrent_dropout = 0.4)\n",
    "encoder_output1, state_h1, state_c1 = encoder_lstm1(enc_emb)\n",
    "\n",
    "# 인코더의 LSTM 2\n",
    "encoder_lstm2 = LSTM(hidden_size, return_sequences=True, return_state=True, dropout=0.4, recurrent_dropout=0.4)\n",
    "encoder_output2, state_h2, state_c2 = encoder_lstm2(encoder_output1)\n",
    "\n",
    "# 인코더의 LSTM 3\n",
    "encoder_lstm3 = LSTM(hidden_size, return_state=True, return_sequences=True, dropout=0.4, recurrent_dropout=0.4)\n",
    "encoder_outputs, state_h, state_c= encoder_lstm3(encoder_output2)"
   ]
  },
  {
   "cell_type": "code",
   "execution_count": 49,
   "metadata": {},
   "outputs": [
    {
     "name": "stdout",
     "output_type": "stream",
     "text": [
      "WARNING:tensorflow:Layer lstm_3 will not use cuDNN kernel since it doesn't meet the cuDNN kernel criteria. It will use generic GPU kernel as fallback when running on GPU\n"
     ]
    }
   ],
   "source": [
    "# 디코더 설계\n",
    "\n",
    "decoder_inputs = Input(shape=(None,))\n",
    "\n",
    "# 디코더의 임베딩 층\n",
    "dec_emb_layer = Embedding(tar_vocab, embedding_dim)\n",
    "dec_emb = dec_emb_layer(decoder_inputs)\n",
    "\n",
    "# 디코더의 LSTM\n",
    "decoder_lstm = LSTM(hidden_size, return_sequences = True, return_state = True, dropout = 0.4, recurrent_dropout=0.2)\n",
    "decoder_outputs, _, _ = decoder_lstm(dec_emb, initial_state = [state_h, state_c])"
   ]
  },
  {
   "cell_type": "code",
   "execution_count": 50,
   "metadata": {},
   "outputs": [
    {
     "name": "stdout",
     "output_type": "stream",
     "text": [
      "Model: \"model\"\n",
      "__________________________________________________________________________________________________\n",
      "Layer (type)                    Output Shape         Param #     Connected to                     \n",
      "==================================================================================================\n",
      "input_2 (InputLayer)            [(None, 60)]         0                                            \n",
      "__________________________________________________________________________________________________\n",
      "embedding (Embedding)           (None, 60, 128)      2816000     input_2[0][0]                    \n",
      "__________________________________________________________________________________________________\n",
      "lstm (LSTM)                     [(None, 60, 256), (N 394240      embedding[0][0]                  \n",
      "__________________________________________________________________________________________________\n",
      "input_3 (InputLayer)            [(None, None)]       0                                            \n",
      "__________________________________________________________________________________________________\n",
      "lstm_1 (LSTM)                   [(None, 60, 256), (N 525312      lstm[0][0]                       \n",
      "__________________________________________________________________________________________________\n",
      "embedding_1 (Embedding)         (None, None, 128)    1280000     input_3[0][0]                    \n",
      "__________________________________________________________________________________________________\n",
      "lstm_2 (LSTM)                   [(None, 60, 256), (N 525312      lstm_1[0][0]                     \n",
      "__________________________________________________________________________________________________\n",
      "lstm_3 (LSTM)                   [(None, None, 256),  394240      embedding_1[0][0]                \n",
      "                                                                 lstm_2[0][1]                     \n",
      "                                                                 lstm_2[0][2]                     \n",
      "__________________________________________________________________________________________________\n",
      "dense (Dense)                   (None, None, 10000)  2570000     lstm_3[0][0]                     \n",
      "==================================================================================================\n",
      "Total params: 8,505,104\n",
      "Trainable params: 8,505,104\n",
      "Non-trainable params: 0\n",
      "__________________________________________________________________________________________________\n"
     ]
    }
   ],
   "source": [
    "# 디코더의 출력층\n",
    "decoder_softmax_layer = Dense(tar_vocab, activation = 'softmax')\n",
    "decoder_softmax_outputs = decoder_softmax_layer(decoder_outputs) \n",
    "\n",
    "# 모델 정의\n",
    "model = Model([encoder_inputs, decoder_inputs], decoder_softmax_outputs)\n",
    "model.summary()"
   ]
  },
  {
   "cell_type": "code",
   "execution_count": 51,
   "metadata": {
    "scrolled": true
   },
   "outputs": [
    {
     "name": "stdout",
     "output_type": "stream",
     "text": [
      "Model: \"model_1\"\n",
      "__________________________________________________________________________________________________\n",
      "Layer (type)                    Output Shape         Param #     Connected to                     \n",
      "==================================================================================================\n",
      "input_2 (InputLayer)            [(None, 60)]         0                                            \n",
      "__________________________________________________________________________________________________\n",
      "embedding (Embedding)           (None, 60, 128)      2816000     input_2[0][0]                    \n",
      "__________________________________________________________________________________________________\n",
      "lstm (LSTM)                     [(None, 60, 256), (N 394240      embedding[0][0]                  \n",
      "__________________________________________________________________________________________________\n",
      "input_3 (InputLayer)            [(None, None)]       0                                            \n",
      "__________________________________________________________________________________________________\n",
      "lstm_1 (LSTM)                   [(None, 60, 256), (N 525312      lstm[0][0]                       \n",
      "__________________________________________________________________________________________________\n",
      "embedding_1 (Embedding)         (None, None, 128)    1280000     input_3[0][0]                    \n",
      "__________________________________________________________________________________________________\n",
      "lstm_2 (LSTM)                   [(None, 60, 256), (N 525312      lstm_1[0][0]                     \n",
      "__________________________________________________________________________________________________\n",
      "lstm_3 (LSTM)                   [(None, None, 256),  394240      embedding_1[0][0]                \n",
      "                                                                 lstm_2[0][1]                     \n",
      "                                                                 lstm_2[0][2]                     \n",
      "__________________________________________________________________________________________________\n",
      "attention_layer (AttentionLayer ((None, None, 256),  131328      lstm_2[0][0]                     \n",
      "                                                                 lstm_3[0][0]                     \n",
      "__________________________________________________________________________________________________\n",
      "concat_layer (Concatenate)      (None, None, 512)    0           lstm_3[0][0]                     \n",
      "                                                                 attention_layer[0][0]            \n",
      "__________________________________________________________________________________________________\n",
      "dense_1 (Dense)                 (None, None, 10000)  5130000     concat_layer[0][0]               \n",
      "==================================================================================================\n",
      "Total params: 11,196,432\n",
      "Trainable params: 11,196,432\n",
      "Non-trainable params: 0\n",
      "__________________________________________________________________________________________________\n"
     ]
    }
   ],
   "source": [
    "# 어텐션 층(어텐션 함수)\n",
    "attn_layer = AttentionLayer(name='attention_layer')\n",
    "# 인코더와 디코더의 모든 time step의 hidden state를 어텐션 층에 전달하고 결과를 리턴\n",
    "attn_out, attn_states = attn_layer([encoder_outputs, decoder_outputs])\n",
    "\n",
    "# 어텐션의 결과와 디코더의 hidden state들을 연결\n",
    "decoder_concat_input = Concatenate(axis = -1, name='concat_layer')([decoder_outputs, attn_out])\n",
    "\n",
    "# 디코더의 출력층\n",
    "decoder_softmax_layer = Dense(tar_vocab, activation='softmax')\n",
    "decoder_softmax_outputs = decoder_softmax_layer(decoder_concat_input)\n",
    "\n",
    "# 모델 정의\n",
    "model = Model([encoder_inputs, decoder_inputs], decoder_softmax_outputs)\n",
    "model.summary()"
   ]
  },
  {
   "cell_type": "code",
   "execution_count": 52,
   "metadata": {
    "scrolled": false
   },
   "outputs": [
    {
     "name": "stdout",
     "output_type": "stream",
     "text": [
      "Epoch 1/50\n",
      "304/304 [==============================] - 125s 412ms/step - loss: 5.6026 - val_loss: 5.1825\n",
      "Epoch 2/50\n",
      "304/304 [==============================] - 128s 420ms/step - loss: 5.0283 - val_loss: 4.8233\n",
      "Epoch 3/50\n",
      "304/304 [==============================] - 132s 433ms/step - loss: 4.7031 - val_loss: 4.5555\n",
      "Epoch 4/50\n",
      "304/304 [==============================] - 123s 405ms/step - loss: 4.4423 - val_loss: 4.3538\n",
      "Epoch 5/50\n",
      "304/304 [==============================] - 125s 410ms/step - loss: 4.2328 - val_loss: 4.2110\n",
      "Epoch 6/50\n",
      "304/304 [==============================] - 123s 404ms/step - loss: 4.0619 - val_loss: 4.1009\n",
      "Epoch 7/50\n",
      "304/304 [==============================] - 122s 400ms/step - loss: 3.9169 - val_loss: 4.0199\n",
      "Epoch 8/50\n",
      "304/304 [==============================] - 121s 399ms/step - loss: 3.7922 - val_loss: 3.9344\n",
      "Epoch 9/50\n",
      "304/304 [==============================] - 119s 392ms/step - loss: 3.6823 - val_loss: 3.8743\n",
      "Epoch 10/50\n",
      "304/304 [==============================] - 120s 395ms/step - loss: 3.5845 - val_loss: 3.8197\n",
      "Epoch 11/50\n",
      "304/304 [==============================] - 120s 395ms/step - loss: 3.4984 - val_loss: 3.7856\n",
      "Epoch 12/50\n",
      "304/304 [==============================] - 129s 424ms/step - loss: 3.4179 - val_loss: 3.7408\n",
      "Epoch 13/50\n",
      "304/304 [==============================] - 123s 405ms/step - loss: 3.3467 - val_loss: 3.7150\n",
      "Epoch 14/50\n",
      "304/304 [==============================] - 124s 407ms/step - loss: 3.2805 - val_loss: 3.6923\n",
      "Epoch 15/50\n",
      "304/304 [==============================] - 132s 433ms/step - loss: 3.2164 - val_loss: 3.6641\n",
      "Epoch 16/50\n",
      "304/304 [==============================] - 122s 402ms/step - loss: 3.1615 - val_loss: 3.6417\n",
      "Epoch 17/50\n",
      "304/304 [==============================] - 122s 401ms/step - loss: 3.1091 - val_loss: 3.6318\n",
      "Epoch 18/50\n",
      "304/304 [==============================] - 121s 399ms/step - loss: 3.0623 - val_loss: 3.6173\n",
      "Epoch 19/50\n",
      "304/304 [==============================] - 122s 402ms/step - loss: 3.0192 - val_loss: 3.6054\n",
      "Epoch 20/50\n",
      "304/304 [==============================] - 126s 414ms/step - loss: 2.9742 - val_loss: 3.6019\n",
      "Epoch 21/50\n",
      "304/304 [==============================] - 127s 418ms/step - loss: 2.9342 - val_loss: 3.5875\n",
      "Epoch 22/50\n",
      "304/304 [==============================] - 130s 426ms/step - loss: 2.8939 - val_loss: 3.5792\n",
      "Epoch 23/50\n",
      "304/304 [==============================] - 129s 425ms/step - loss: 2.8564 - val_loss: 3.5712\n",
      "Epoch 24/50\n",
      "304/304 [==============================] - 128s 421ms/step - loss: 2.8260 - val_loss: 3.5748\n",
      "Epoch 25/50\n",
      "304/304 [==============================] - 123s 405ms/step - loss: 2.7936 - val_loss: 3.5621\n",
      "Epoch 26/50\n",
      "304/304 [==============================] - 123s 404ms/step - loss: 2.7619 - val_loss: 3.5532\n",
      "Epoch 27/50\n",
      "304/304 [==============================] - 122s 402ms/step - loss: 2.7366 - val_loss: 3.5561\n",
      "Epoch 28/50\n",
      "304/304 [==============================] - 122s 401ms/step - loss: 2.7106 - val_loss: 3.5529\n",
      "Epoch 29/50\n",
      "304/304 [==============================] - 123s 404ms/step - loss: 2.6849 - val_loss: 3.5560\n",
      "Epoch 30/50\n",
      "304/304 [==============================] - 124s 408ms/step - loss: 2.6597 - val_loss: 3.5434\n",
      "Epoch 31/50\n",
      "304/304 [==============================] - 125s 411ms/step - loss: 2.6334 - val_loss: 3.5506\n",
      "Epoch 32/50\n",
      "304/304 [==============================] - 124s 407ms/step - loss: 2.6066 - val_loss: 3.5497\n",
      "Epoch 00032: early stopping\n"
     ]
    }
   ],
   "source": [
    "# 모델 훈련\n",
    "\n",
    "model.compile(optimizer='rmsprop', loss='sparse_categorical_crossentropy')\n",
    "es = EarlyStopping(monitor='val_loss', mode='min', verbose=1, patience = 2)\n",
    "history = model.fit(x = [encoder_input_train, decoder_input_train], y = decoder_target_train, \\\n",
    "          validation_data = ([encoder_input_test, decoder_input_test], decoder_target_test),\n",
    "          batch_size = 256, callbacks=[es], epochs = 50)"
   ]
  },
  {
   "cell_type": "code",
   "execution_count": 53,
   "metadata": {},
   "outputs": [
    {
     "data": {
      "image/png": "[encoded data removed]",
      "text/plain": [
       "<Figure size 432x288 with 1 Axes>"
      ]
     },
     "metadata": {
      "needs_background": "light"
     },
     "output_type": "display_data"
    }
   ],
   "source": [
    "plt.plot(history.history['loss'], label='train')\n",
    "plt.plot(history.history['val_loss'], label='test')\n",
    "plt.legend()\n",
    "plt.show()"
   ]
  },
  {
   "cell_type": "markdown",
   "metadata": {},
   "source": [
    "## Step 4. 실제 결과와 요약문 비교하기 (추상적 요약)"
   ]
  },
  {
   "cell_type": "code",
   "execution_count": 54,
   "metadata": {},
   "outputs": [],
   "source": [
    "src_index_to_word = src_tokenizer.index_word # 원문 단어 집합에서 정수 -> 단어를 얻음\n",
    "tar_word_to_index = tar_tokenizer.word_index # 요약 단어 집합에서 단어 -> 정수를 얻음\n",
    "tar_index_to_word = tar_tokenizer.index_word # 요약 단어 집합에서 정수 -> 단어를 얻음"
   ]
  },
  {
   "cell_type": "code",
   "execution_count": 55,
   "metadata": {},
   "outputs": [],
   "source": [
    "# 인코더 설계\n",
    "encoder_model = Model(inputs=encoder_inputs, outputs=[encoder_outputs, state_h, state_c])\n",
    "\n",
    "# 이전 시점의 상태들을 저장하는 텐서\n",
    "decoder_state_input_h = Input(shape=(hidden_size,))\n",
    "decoder_state_input_c = Input(shape=(hidden_size,))\n",
    "\n",
    "dec_emb2 = dec_emb_layer(decoder_inputs)\n",
    "# 문장의 다음 단어를 예측하기 위해서 초기 상태(initial_state)를 이전 시점의 상태로 사용. 이는 뒤의 함수 decode_sequence()에 구현\n",
    "# 훈련 과정에서와 달리 LSTM의 리턴하는 은닉 상태와 셀 상태인 state_h와 state_c를 버리지 않음.\n",
    "decoder_outputs2, state_h2, state_c2 = decoder_lstm(dec_emb2, initial_state=[decoder_state_input_h, decoder_state_input_c])"
   ]
  },
  {
   "cell_type": "code",
   "execution_count": 56,
   "metadata": {},
   "outputs": [],
   "source": [
    "# 어텐션 함수\n",
    "decoder_hidden_state_input = Input(shape=(text_max_len, hidden_size))\n",
    "attn_out_inf, attn_states_inf = attn_layer([decoder_hidden_state_input, decoder_outputs2])\n",
    "decoder_inf_concat = Concatenate(axis=-1, name='concat')([decoder_outputs2, attn_out_inf])\n",
    "\n",
    "# 디코더의 출력층\n",
    "decoder_outputs2 = decoder_softmax_layer(decoder_inf_concat) \n",
    "\n",
    "# 최종 디코더 모델\n",
    "decoder_model = Model(\n",
    "    [decoder_inputs] + [decoder_hidden_state_input,decoder_state_input_h, decoder_state_input_c],\n",
    "    [decoder_outputs2] + [state_h2, state_c2])"
   ]
  },
  {
   "cell_type": "code",
   "execution_count": 57,
   "metadata": {},
   "outputs": [],
   "source": [
    "def decode_sequence(input_seq):\n",
    "    # 입력으로부터 인코더의 상태를 얻음\n",
    "    e_out, e_h, e_c = encoder_model.predict(input_seq)\n",
    "\n",
    "     # <SOS>에 해당하는 토큰 생성\n",
    "    target_seq = np.zeros((1,1))\n",
    "    target_seq[0, 0] = tar_word_to_index['sostoken']\n",
    "\n",
    "    stop_condition = False\n",
    "    decoded_sentence = ''\n",
    "    while not stop_condition: # stop_condition이 True가 될 때까지 루프 반복\n",
    "\n",
    "        output_tokens, h, c = decoder_model.predict([target_seq] + [e_out, e_h, e_c])\n",
    "        sampled_token_index = np.argmax(output_tokens[0, -1, :])\n",
    "        sampled_token = tar_index_to_word[sampled_token_index]\n",
    "\n",
    "        if(sampled_token!='eostoken'):\n",
    "            decoded_sentence += ' '+sampled_token\n",
    "\n",
    "        #  <eos>에 도달하거나 최대 길이를 넘으면 중단.\n",
    "        if (sampled_token == 'eostoken'  or len(decoded_sentence.split()) >= (summary_max_len-1)):\n",
    "            stop_condition = True\n",
    "\n",
    "        # 길이가 1인 타겟 시퀀스를 업데이트\n",
    "        target_seq = np.zeros((1,1))\n",
    "        target_seq[0, 0] = sampled_token_index\n",
    "\n",
    "        # 상태를 업데이트 합니다.\n",
    "        e_h, e_c = h, c\n",
    "\n",
    "    return decoded_sentence"
   ]
  },
  {
   "cell_type": "code",
   "execution_count": 58,
   "metadata": {},
   "outputs": [],
   "source": [
    "# 원문의 정수 시퀀스를 텍스트 시퀀스로 변환\n",
    "def seq2text(input_seq):\n",
    "    temp=''\n",
    "    for i in input_seq:\n",
    "        if(i!=0):\n",
    "            temp = temp + src_index_to_word[i]+' '\n",
    "    return temp\n",
    "\n",
    "# 요약문의 정수 시퀀스를 텍스트 시퀀스로 변환\n",
    "def seq2summary(input_seq):\n",
    "    temp=''\n",
    "    for i in input_seq:\n",
    "        if((i!=0 and i!=tar_word_to_index['sostoken']) and i!=tar_word_to_index['eostoken']):\n",
    "            temp = temp + tar_index_to_word[i] + ' '\n",
    "    return temp"
   ]
  },
  {
   "cell_type": "code",
   "execution_count": 59,
   "metadata": {
    "scrolled": true
   },
   "outputs": [
    {
     "name": "stdout",
     "output_type": "stream",
     "text": [
      "실제 요약 : maharashtra government to buy chopper for vips \n",
      "예측 요약 :  maharashtra to air india to give fighter jet air\n",
      "\n",
      "\n",
      "실제 요약 : rafael nadal clinches record th barcelona open title \n",
      "예측 요약 :  nadal wins th title of the year in st of the\n",
      "\n",
      "\n",
      "실제 요약 : asteroid with similar orbit as jupiter sun \n",
      "예측 요약 :  scientists discover new asteroid by sun\n",
      "\n",
      "\n",
      "실제 요약 : not on my agenda right now varun on rumours of his marriage \n",
      "예측 요약 :  it is not single wedding jacqueline on rumoured girlfriend\n",
      "\n",
      "\n",
      "실제 요약 : cash with public doubles since note ban to record tn \n",
      "예측 요약 :  currency inflation hits record high of in\n",
      "\n",
      "\n",
      "실제 요약 : mob attacks men transporting dead buffalo in uttar pradesh \n",
      "예측 요약 :  mob lynching police attacked by mob in up\n",
      "\n",
      "\n",
      "실제 요약 : china pak increasing fleet we must jets sitharaman \n",
      "예측 요약 :  india should not be allowed to make defence defence minister\n",
      "\n",
      "\n",
      "실제 요약 : award winning photo disqualified judges say animal is fake \n",
      "예측 요약 :  uk museum named new year award for\n",
      "\n",
      "\n",
      "실제 요약 : to play villain in new spider man film reports \n",
      "예측 요약 :  tiger shroff spider spider man spider from spider man\n",
      "\n",
      "\n",
      "실제 요약 : coach had been asking me to hit since many days fakhar \n",
      "예측 요약 :  only odi was never batting in odi cricket history\n",
      "\n",
      "\n",
      "실제 요약 : ancient roman unearthed in france \n",
      "예측 요약 :  year old chinese discovered in egypt\n",
      "\n",
      "\n",
      "실제 요약 : you cannot use your wife atm card says sbi court agrees \n",
      "예측 요약 :  sbi sends notice to man who hiked from his wallet\n",
      "\n",
      "\n",
      "실제 요약 : researchers find internal clock within live human cells \n",
      "예측 요약 :  scientists identify human body to identify human cells\n",
      "\n",
      "\n",
      "실제 요약 : trump govt scraps obama era campus sexual assault guidance \n",
      "예측 요약 :  trump defends fbi nominee in sexual violence\n",
      "\n",
      "\n",
      "실제 요약 : former us basketball star travels to north korea fifth time \n",
      "예측 요약 :  nba player korea sends korea jong un to korea\n",
      "\n",
      "\n",
      "실제 요약 : amit shah calls himself hindu but he is jain raj babbar \n",
      "예측 요약 :  rahul gandhi is an opposition amit shah\n",
      "\n",
      "\n",
      "실제 요약 : deepika named most stylish female at most stylish awards \n",
      "예측 요약 :  deepika padukone named indian woman at asian awards\n",
      "\n",
      "\n",
      "실제 요약 : which operate without made \n",
      "예측 요약 :  firm plans to use of yr old for st time\n",
      "\n",
      "\n",
      "실제 요약 : trump administration cuts short anti teen pregnancy grants \n",
      "예측 요약 :  yr old baby girl to fund trump bn in tax fund\n",
      "\n",
      "\n",
      "실제 요약 : our government has kept inflation on tight pm modi \n",
      "예측 요약 :  congress has record for tn congress\n",
      "\n",
      "\n",
      "실제 요약 : ranveer singh dance to dj babu \n",
      "예측 요약 :  ranveer singh dance dance to dance at ipl ceremony\n",
      "\n",
      "\n",
      "실제 요약 : tamil nadu government reduces bus fares after protests \n",
      "예측 요약 :  tamil nadu farmers protest over salary hike on strike\n",
      "\n",
      "\n",
      "실제 요약 : lalu daughter her husband granted bail in laundering case \n",
      "예측 요약 :  lalu daughter granted bail in lalu prasad case\n",
      "\n",
      "\n",
      "실제 요약 : google chrome testing feature to warn of lookalike \n",
      "예측 요약 :  google chrome extension shows users based on its news\n",
      "\n",
      "\n",
      "실제 요약 : congress shares user data from its party app with firms bjp \n",
      "예측 요약 :  modi on rahul data on bjp data in us\n",
      "\n",
      "\n",
      "실제 요약 : jo hai woh hai nana on tanushree allegations \n",
      "예측 요약 :  tanushree denies tanushree of him in film industry\n",
      "\n",
      "\n",
      "실제 요약 : ronaldo stands on chair and sings for juventus teammates \n",
      "예측 요약 :  ronaldo to be called by ronaldo at delhi airport\n",
      "\n",
      "\n",
      "실제 요약 : wb govt bans display of arms at ram celebrations \n",
      "예측 요약 :  mamata banerjee to be in wb cm\n",
      "\n",
      "\n",
      "실제 요약 : ex us prez bush delivers pizza to unpaid secret service personnel \n",
      "예측 요약 :  former us prez george hw bush bush of wikileaks\n",
      "\n",
      "\n",
      "실제 요약 : learned of akbar relationship by her late night calls wife \n",
      "예측 요약 :  journo brother tried to kiss me weinstein on metoo allegations\n",
      "\n",
      "\n",
      "실제 요약 : piyush goyal new rail minister nirmala sitharaman gets defence \n",
      "예측 요약 :  piyush goyal resigns from piyush goyal\n",
      "\n",
      "\n",
      "실제 요약 : sim cards not linked to aadhaar to be reports \n",
      "예측 요약 :  govt to link aadhaar with aadhaar for linking aadhaar\n",
      "\n",
      "\n",
      "실제 요약 : india to allow foreign firms to store oil in reserve \n",
      "예측 요약 :  cabinet approves bn plan to buy oil products in india\n",
      "\n",
      "\n",
      "실제 요약 : army sends back boys from pok who crossed loc by mistake \n",
      "예측 요약 :  army officers to fight with pak army in jammu and kashmir\n",
      "\n",
      "\n",
      "실제 요약 : akhilesh yadav slams up govt over move to rename allahabad \n",
      "예측 요약 :  will be the new quota of the year end up govt\n",
      "\n",
      "\n",
      "실제 요약 : india only nuclear powered attack submarine damaged \n",
      "예측 요약 :  us navy fires new navy officer for terrorism\n",
      "\n",
      "\n",
      "실제 요약 : kerala does not need advice on nationalism from rss cm \n",
      "예측 요약 :  rss rss trying to rss leader on rss kerala remark\n",
      "\n",
      "\n",
      "실제 요약 : first eating found in philippines \n",
      "예측 요약 :  scientists discover spider species of\n",
      "\n",
      "\n",
      "실제 요약 : firm makes colour changing that signals food \n",
      "예측 요약 :  researchers make roads that can be made\n",
      "\n",
      "\n",
      "실제 요약 : delhi school for not giving free books uniform \n",
      "예측 요약 :  delhi govt to send schools to students to schools\n",
      "\n",
      "\n",
      "실제 요약 : new promo of anushka sharma starrer pari released \n",
      "예측 요약 :  anushka sharma starrer pari hits the theatres\n",
      "\n",
      "\n",
      "실제 요약 : left unity wins all seats in jnu students union elections \n",
      "예측 요약 :  students attend jnu election rally\n",
      "\n",
      "\n",
      "실제 요약 : days after bjp congress moves its karnataka mlas to resort \n",
      "예측 요약 :  taka mlas mlas get into party mlas in taka\n",
      "\n",
      "\n",
      "실제 요약 : lakh bounty announced on hp hotelier who killed official \n",
      "예측 요약 :  lakh youths arrested for duping woman in gujarat\n",
      "\n",
      "\n",
      "실제 요약 : serena williams gives birth to baby girl \n",
      "예측 요약 :  serena williams loses baby giving birth to baby girl\n",
      "\n",
      "\n",
      "실제 요약 : musk spacex wins approval to deploy over satellites \n",
      "예측 요약 :  spacex to launch satellites to build satellites\n",
      "\n",
      "\n",
      "실제 요약 : paytm mall in talks with softbank to raise mn report \n",
      "예측 요약 :  paytm mall raises mn from softbank\n",
      "\n",
      "\n",
      "실제 요약 : rajasthan assembly increases obc quota to \n",
      "예측 요약 :  rajasthan passes bill reservation for reservation\n",
      "\n",
      "\n",
      "실제 요약 : love azaan but sonu opinion should be kangana \n",
      "예측 요약 :  kangana slams me for calling her manikarnika\n",
      "\n",
      "\n",
      "실제 요약 : isis taliban militants join peace process in afghanistan \n",
      "예측 요약 :  isis militants killed in taliban talks in afghanistan\n",
      "\n",
      "\n"
     ]
    }
   ],
   "source": [
    "for i in range(50, 100):\n",
    "    print(\"원문 :\", seq2text(encoder_input_test[i]))\n",
    "    print(\"실제 요약 :\", seq2summary(decoder_input_test[i]))\n",
    "    print(\"예측 요약 :\", decode_sequence(encoder_input_test[i].reshape(1, text_max_len)))\n",
    "    print(\"\\n\")"
   ]
  },
  {
   "cell_type": "markdown",
   "metadata": {},
   "source": [
    "키워드 면에선 어느정도 비슷한 면을 뽑아내는 것을 확인할 수 있지만 문법적으로 맞지 않는 경우가 대다수며 이를 개선해줄 추가적인 모듈이 필요하다."
   ]
  },
  {
   "cell_type": "markdown",
   "metadata": {},
   "source": [
    "## Step 5. Summa을 이용해서 추출적 요약해보기"
   ]
  },
  {
   "cell_type": "code",
   "execution_count": 60,
   "metadata": {},
   "outputs": [],
   "source": [
    "from summa.summarizer import summarize"
   ]
  },
  {
   "cell_type": "code",
   "execution_count": 64,
   "metadata": {
    "scrolled": false
   },
   "outputs": [
    {
     "name": "stdout",
     "output_type": "stream",
     "text": [
      "실제 요약 : muslim family donates its land for temple in bihar \n",
      "Abstractive 요약 :  muslims to donate cr to donate land to land\n",
      "Extractive 요약 : \n",
      "\n",
      "\n",
      "실제 요약 : iit bombay students on hunger strike against fee hike \n",
      "Abstractive 요약 :  students protest against fee hike in tamil nadu\n",
      "Extractive 요약 : \n",
      "\n",
      "\n",
      "실제 요약 : huma to star opposite rajinikanth in upcoming film reports \n",
      "Abstractive 요약 :  huma qureshi to rajinikanth film\n",
      "Extractive 요약 : \n",
      "\n",
      "\n",
      "실제 요약 : protesters spell out in flash mob against trump \n",
      "Abstractive 요약 :  protesters use trump to protest against trump leaders\n",
      "Extractive 요약 : \n",
      "\n",
      "\n",
      "실제 요약 : flipkart banned from goods sale under on trademark issue \n",
      "Abstractive 요약 :  delhi hc fines delhi based on trademark\n",
      "Extractive 요약 : \n",
      "\n",
      "\n",
      "실제 요약 : only woman has won nobel in economic in years \n",
      "Abstractive 요약 :  indian origin woman wins nobel prize prize\n",
      "Extractive 요약 : \n",
      "\n",
      "\n",
      "실제 요약 : touching experience csk lungi on training at local club \n",
      "Abstractive 요약 :  csk watson shares video of his physical transformation\n",
      "Extractive 요약 : \n",
      "\n",
      "\n",
      "실제 요약 : non bailable arrest warrant issued against sanjay dutt \n",
      "Abstractive 요약 :  arrest warrant issued against sanjay dutt over arrest\n",
      "Extractive 요약 : \n",
      "\n",
      "\n",
      "실제 요약 : speeding major cause of accidents in gurugram police \n",
      "Abstractive 요약 :  gurugram traffic police to build roads\n",
      "Extractive 요약 : \n",
      "\n",
      "\n",
      "실제 요약 : bharat needs eid release could not fit in time for katrina \n",
      "Abstractive 요약 :  katrina kaif to play in katrina next film reports\n",
      "Extractive 요약 : \n",
      "\n",
      "\n"
     ]
    }
   ],
   "source": [
    "for i in range(10, 20):\n",
    "#    print(\"원문 :\", seq2text(encoder_input_test[i]))\n",
    "    print(\"실제 요약 :\", seq2summary(decoder_input_test[i]))\n",
    "    print(\"Abstractive 요약 :\", decode_sequence(encoder_input_test[i].reshape(1, text_max_len)))\n",
    "    print(\"Extractive 요약 :\", summarize(seq2text(encoder_input_test[i]), ratio=0.005))\n",
    "    print(\"\\n\")"
   ]
  },
  {
   "cell_type": "markdown",
   "metadata": {},
   "source": [
    "추출이 진행되지 않는 문제가 발생했다."
   ]
  },
  {
   "cell_type": "code",
   "execution_count": 122,
   "metadata": {},
   "outputs": [
    {
     "name": "stdout",
     "output_type": "stream",
     "text": [
      "Extractive 요약 : \n",
      "\n",
      "\n",
      "Extractive 요약 : \n",
      "\n",
      "\n",
      "Extractive 요약 : \n",
      "\n",
      "\n",
      "Extractive 요약 : \n",
      "\n",
      "\n",
      "Extractive 요약 : \n",
      "\n",
      "\n",
      "Extractive 요약 : \n",
      "\n",
      "\n",
      "Extractive 요약 : \n",
      "\n",
      "\n",
      "Extractive 요약 : \n",
      "\n",
      "\n",
      "Extractive 요약 : \n",
      "\n",
      "\n",
      "Extractive 요약 : \n",
      "\n",
      "\n",
      "Extractive 요약 : \n",
      "\n",
      "\n",
      "Extractive 요약 : \n",
      "\n",
      "\n",
      "Extractive 요약 : \n",
      "\n",
      "\n",
      "Extractive 요약 : \n",
      "\n",
      "\n",
      "Extractive 요약 : \n",
      "\n",
      "\n",
      "Extractive 요약 : \n",
      "\n",
      "\n",
      "Extractive 요약 : \n",
      "\n",
      "\n",
      "Extractive 요약 : \n",
      "\n",
      "\n",
      "Extractive 요약 : \n",
      "\n",
      "\n",
      "Extractive 요약 : \n",
      "\n",
      "\n",
      "Extractive 요약 : \n",
      "\n",
      "\n",
      "Extractive 요약 : \n",
      "\n",
      "\n",
      "Extractive 요약 : \n",
      "\n",
      "\n",
      "Extractive 요약 : \n",
      "\n",
      "\n",
      "Extractive 요약 : \n",
      "\n",
      "\n",
      "Extractive 요약 : \n",
      "\n",
      "\n",
      "Extractive 요약 : \n",
      "\n",
      "\n",
      "Extractive 요약 : \n",
      "\n",
      "\n",
      "Extractive 요약 : \n",
      "\n",
      "\n",
      "Extractive 요약 : \n",
      "\n",
      "\n",
      "Extractive 요약 : \n",
      "\n",
      "\n",
      "Extractive 요약 : \n",
      "\n",
      "\n",
      "Extractive 요약 : \n",
      "\n",
      "\n",
      "Extractive 요약 : \n",
      "\n",
      "\n",
      "Extractive 요약 : \n",
      "\n",
      "\n",
      "Extractive 요약 : \n",
      "\n",
      "\n",
      "Extractive 요약 : \n",
      "\n",
      "\n",
      "Extractive 요약 : \n",
      "\n",
      "\n",
      "Extractive 요약 : \n",
      "\n",
      "\n",
      "Extractive 요약 : \n",
      "\n",
      "\n",
      "Extractive 요약 : \n",
      "\n",
      "\n",
      "Extractive 요약 : \n",
      "\n",
      "\n",
      "Extractive 요약 : \n",
      "\n",
      "\n",
      "Extractive 요약 : \n",
      "\n",
      "\n",
      "Extractive 요약 : \n",
      "\n",
      "\n",
      "Extractive 요약 : \n",
      "\n",
      "\n",
      "Extractive 요약 : \n",
      "\n",
      "\n",
      "Extractive 요약 : \n",
      "\n",
      "\n",
      "Extractive 요약 : \n",
      "\n",
      "\n",
      "Extractive 요약 : \n",
      "\n",
      "\n"
     ]
    }
   ],
   "source": [
    "for i in range(100, 150):\n",
    "    print(\"Extractive 요약 :\", summarize(seq2text(encoder_input_test[i]), ratio = 0.9))\n",
    "    print(\"\\n\")"
   ]
  },
  {
   "cell_type": "code",
   "execution_count": 124,
   "metadata": {},
   "outputs": [],
   "source": [
    "text1 = \"\"\"Automatic summarization is the process of reducing a text document with a \\\n",
    "computer program in order to create a summary that retains the most important points \\\n",
    "of the original document. As the problem of information overload has grown, and as \\\n",
    "the quantity of data has increased, so has interest in automatic summarization. \\\n",
    "Technologies that can make a coherent summary take into account variables such as \\\n",
    "length, writing style and syntax. An example of the use of summarization technology \\\n",
    "is search engines such as Google. Document summarization is another.\"\"\"\n",
    "\n",
    "text2 = \"\"\"indian dairy cooperative amul friday released poster captioned anyone congress mp shashi tharoor tweet word went viral amul small word delicious poster read tharoor tweet writing speaking style received various reactions twitter user tweeting got new farrago\"\"\""
   ]
  },
  {
   "cell_type": "code",
   "execution_count": 125,
   "metadata": {},
   "outputs": [
    {
     "name": "stdout",
     "output_type": "stream",
     "text": [
      "Automatic summarization is the process of reducing a text document with a computer program in order to create a summary that retains the most important points of the original document.\n",
      "Document summarization is another.\n"
     ]
    }
   ],
   "source": [
    "print(summarize(text1, ratio = 0.5))"
   ]
  },
  {
   "cell_type": "code",
   "execution_count": 128,
   "metadata": {
    "scrolled": false
   },
   "outputs": [
    {
     "name": "stdout",
     "output_type": "stream",
     "text": [
      "\n"
     ]
    }
   ],
   "source": [
    "print(summarize(text2, words = 1))"
   ]
  },
  {
   "cell_type": "code",
   "execution_count": 132,
   "metadata": {},
   "outputs": [
    {
     "name": "stdout",
     "output_type": "stream",
     "text": [
      "\n"
     ]
    }
   ],
   "source": [
    "print(summarize(clean_text[1], ratio = 0.9))"
   ]
  },
  {
   "cell_type": "markdown",
   "metadata": {},
   "source": [
    "장문의 경우 정상적으로 진행되지만 단문의 경우 진행되지 않는 문제가 발생했다. 파라미터를 ratio가 아닌 words로 적용해도 마찬가지였다."
   ]
  },
  {
   "cell_type": "markdown",
   "metadata": {},
   "source": [
    "## abstractive 방식과 extractive 방식 비교\n",
    "\n",
    "extractive 방식은 너무 짧은 경우 추출이 진행되지 않는 경우가 발생했다.\n",
    "\n",
    "그러나 abstractive 역시 문제가 발생하는데 다음과 같이,\n",
    "\n",
    "실제 요약 : kerala does not need advice on nationalism from rss cm\n",
    "\n",
    "예측 요약 :  rss rss trying to rss leader on rss kerala remark\n",
    "\n",
    "키워드는 어느정도 뽑아내지만 문법적인 면에서 상당히 취약한 것을 확인 할 수 있다."
   ]
  }
 ],
 "metadata": {
  "kernelspec": {
   "display_name": "aiffel",
   "language": "python",
   "name": "aiffel"
  },
  "language_info": {
   "codemirror_mode": {
    "name": "ipython",
    "version": 3
   },
   "file_extension": ".py",
   "mimetype": "text/x-python",
   "name": "python",
   "nbconvert_exporter": "python",
   "pygments_lexer": "ipython3",
   "version": "3.7.9"
  }
 },
 "nbformat": 4,
 "nbformat_minor": 4
}
