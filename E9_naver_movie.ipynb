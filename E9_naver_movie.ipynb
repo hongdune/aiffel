{
 "cells": [
  {
   "cell_type": "code",
   "execution_count": 1,
   "metadata": {
    "scrolled": false
   },
   "outputs": [
    {
     "data": {
      "text/html": [
       "<div>\n",
       "<style scoped>\n",
       "    .dataframe tbody tr th:only-of-type {\n",
       "        vertical-align: middle;\n",
       "    }\n",
       "\n",
       "    .dataframe tbody tr th {\n",
       "        vertical-align: top;\n",
       "    }\n",
       "\n",
       "    .dataframe thead th {\n",
       "        text-align: right;\n",
       "    }\n",
       "</style>\n",
       "<table border=\"1\" class=\"dataframe\">\n",
       "  <thead>\n",
       "    <tr style=\"text-align: right;\">\n",
       "      <th></th>\n",
       "      <th>id</th>\n",
       "      <th>document</th>\n",
       "      <th>label</th>\n",
       "    </tr>\n",
       "  </thead>\n",
       "  <tbody>\n",
       "    <tr>\n",
       "      <th>0</th>\n",
       "      <td>9976970</td>\n",
       "      <td>아 더빙.. 진짜 짜증나네요 목소리</td>\n",
       "      <td>0</td>\n",
       "    </tr>\n",
       "    <tr>\n",
       "      <th>1</th>\n",
       "      <td>3819312</td>\n",
       "      <td>흠...포스터보고 초딩영화줄....오버연기조차 가볍지 않구나</td>\n",
       "      <td>1</td>\n",
       "    </tr>\n",
       "    <tr>\n",
       "      <th>2</th>\n",
       "      <td>10265843</td>\n",
       "      <td>너무재밓었다그래서보는것을추천한다</td>\n",
       "      <td>0</td>\n",
       "    </tr>\n",
       "    <tr>\n",
       "      <th>3</th>\n",
       "      <td>9045019</td>\n",
       "      <td>교도소 이야기구먼 ..솔직히 재미는 없다..평점 조정</td>\n",
       "      <td>0</td>\n",
       "    </tr>\n",
       "    <tr>\n",
       "      <th>4</th>\n",
       "      <td>6483659</td>\n",
       "      <td>사이몬페그의 익살스런 연기가 돋보였던 영화!스파이더맨에서 늙어보이기만 했던 커스틴 ...</td>\n",
       "      <td>1</td>\n",
       "    </tr>\n",
       "  </tbody>\n",
       "</table>\n",
       "</div>"
      ],
      "text/plain": [
       "         id                                           document  label\n",
       "0   9976970                                아 더빙.. 진짜 짜증나네요 목소리      0\n",
       "1   3819312                  흠...포스터보고 초딩영화줄....오버연기조차 가볍지 않구나      1\n",
       "2  10265843                                  너무재밓었다그래서보는것을추천한다      0\n",
       "3   9045019                      교도소 이야기구먼 ..솔직히 재미는 없다..평점 조정      0\n",
       "4   6483659  사이몬페그의 익살스런 연기가 돋보였던 영화!스파이더맨에서 늙어보이기만 했던 커스틴 ...      1"
      ]
     },
     "execution_count": 1,
     "metadata": {},
     "output_type": "execute_result"
    }
   ],
   "source": [
    "import pandas as pd\n",
    "import urllib.request\n",
    "%matplotlib inline\n",
    "import matplotlib.pyplot as plt\n",
    "import seaborn as sns\n",
    "import re\n",
    "from konlpy.tag import Okt\n",
    "from tensorflow import keras\n",
    "from keras.layers.embeddings import Embedding\n",
    "from tensorflow.keras.preprocessing.text import Tokenizer\n",
    "import numpy as np\n",
    "from tensorflow.keras.preprocessing.sequence import pad_sequences\n",
    "from collections import Counter\n",
    "\n",
    "# 데이터를 읽어봅시다. \n",
    "train_data = pd.read_table('~/aiffel/sentiment_classification/ratings_train.txt')\n",
    "test_data = pd.read_table('~/aiffel/sentiment_classification/ratings_test.txt')\n",
    "\n",
    "train_data.head()"
   ]
  },
  {
   "cell_type": "code",
   "execution_count": 2,
   "metadata": {},
   "outputs": [
    {
     "data": {
      "text/html": [
       "<div>\n",
       "<style scoped>\n",
       "    .dataframe tbody tr th:only-of-type {\n",
       "        vertical-align: middle;\n",
       "    }\n",
       "\n",
       "    .dataframe tbody tr th {\n",
       "        vertical-align: top;\n",
       "    }\n",
       "\n",
       "    .dataframe thead th {\n",
       "        text-align: right;\n",
       "    }\n",
       "</style>\n",
       "<table border=\"1\" class=\"dataframe\">\n",
       "  <thead>\n",
       "    <tr style=\"text-align: right;\">\n",
       "      <th></th>\n",
       "      <th>id</th>\n",
       "      <th>document</th>\n",
       "      <th>label</th>\n",
       "    </tr>\n",
       "  </thead>\n",
       "  <tbody>\n",
       "    <tr>\n",
       "      <th>0</th>\n",
       "      <td>6270596</td>\n",
       "      <td>굳 ㅋ</td>\n",
       "      <td>1</td>\n",
       "    </tr>\n",
       "    <tr>\n",
       "      <th>1</th>\n",
       "      <td>9274899</td>\n",
       "      <td>GDNTOPCLASSINTHECLUB</td>\n",
       "      <td>0</td>\n",
       "    </tr>\n",
       "    <tr>\n",
       "      <th>2</th>\n",
       "      <td>8544678</td>\n",
       "      <td>뭐야 이 평점들은.... 나쁘진 않지만 10점 짜리는 더더욱 아니잖아</td>\n",
       "      <td>0</td>\n",
       "    </tr>\n",
       "    <tr>\n",
       "      <th>3</th>\n",
       "      <td>6825595</td>\n",
       "      <td>지루하지는 않은데 완전 막장임... 돈주고 보기에는....</td>\n",
       "      <td>0</td>\n",
       "    </tr>\n",
       "    <tr>\n",
       "      <th>4</th>\n",
       "      <td>6723715</td>\n",
       "      <td>3D만 아니었어도 별 다섯 개 줬을텐데.. 왜 3D로 나와서 제 심기를 불편하게 하죠??</td>\n",
       "      <td>0</td>\n",
       "    </tr>\n",
       "  </tbody>\n",
       "</table>\n",
       "</div>"
      ],
      "text/plain": [
       "        id                                           document  label\n",
       "0  6270596                                                굳 ㅋ      1\n",
       "1  9274899                               GDNTOPCLASSINTHECLUB      0\n",
       "2  8544678             뭐야 이 평점들은.... 나쁘진 않지만 10점 짜리는 더더욱 아니잖아      0\n",
       "3  6825595                   지루하지는 않은데 완전 막장임... 돈주고 보기에는....      0\n",
       "4  6723715  3D만 아니었어도 별 다섯 개 줬을텐데.. 왜 3D로 나와서 제 심기를 불편하게 하죠??      0"
      ]
     },
     "execution_count": 2,
     "metadata": {},
     "output_type": "execute_result"
    }
   ],
   "source": [
    "test_data.head()"
   ]
  },
  {
   "cell_type": "code",
   "execution_count": 3,
   "metadata": {},
   "outputs": [],
   "source": [
    "# #한글만 남겨보기\n",
    "# train_data['document'] = train_data['document'].str.replace(\"[^ㄱ-ㅎㅏ-ㅣ가-힣 ]\",\"\")\n",
    "# train_data"
   ]
  },
  {
   "cell_type": "markdown",
   "metadata": {},
   "source": [
    "한글만을 남기는 것은 '...', '10', '0' 등의 요소로 인해 효과적이진 않았다."
   ]
  },
  {
   "cell_type": "code",
   "execution_count": 4,
   "metadata": {},
   "outputs": [],
   "source": [
    "# #불용어 추가하기\n",
    "# with open('/home/aiffel0042/Downloads/korean.txt', 'r') as f:\n",
    "#     list_file = f.readlines()\n",
    "# stopwords = [line.rstrip('\\n') for line in list_file] \n",
    "\n",
    "# print(len(stopwords))"
   ]
  },
  {
   "cell_type": "markdown",
   "metadata": {},
   "source": [
    "600여개의 불용어를 추가해 보았으나 불용어를 추가하는 것은 정확도에 1%미만의 변동으로 큰 의미가 없었으며 오히려 리소스만 낭비되었다."
   ]
  },
  {
   "cell_type": "code",
   "execution_count": 5,
   "metadata": {},
   "outputs": [],
   "source": [
    "from konlpy.tag import Mecab\n",
    "tokenizer = Mecab()\n",
    "stopwords = ['의','가','이','은','들', '을', '는','잘','걍','과','도','를','으로','자','에','와','한','하다', '하네요']\n",
    "\n",
    "def load_data(train_data, test_data, num_words=10000):\n",
    "    train_data.drop_duplicates(subset=['document'], inplace=True)\n",
    "    train_data = train_data.dropna(how = 'any') \n",
    "    test_data.drop_duplicates(subset=['document'], inplace=True)\n",
    "    test_data = test_data.dropna(how = 'any') \n",
    "\n",
    "    X_train = []\n",
    "    for sentence in train_data['document']:\n",
    "        temp_X = tokenizer.morphs(sentence) # 토큰화\n",
    "        temp_X = [word for word in temp_X if not word in stopwords] # 불용어 제거\n",
    "        X_train.append(temp_X)\n",
    "\n",
    "    X_test = []\n",
    "    for sentence in test_data['document']:\n",
    "        temp_X = tokenizer.morphs(sentence) # 토큰화\n",
    "        temp_X = [word for word in temp_X if not word in stopwords] # 불용어 제거\n",
    "        X_test.append(temp_X)\n",
    "\n",
    "    words = np.concatenate(X_train).tolist()\n",
    "    counter = Counter(words)\n",
    "    counter = counter.most_common(10000-4)\n",
    "    vocab = ['<PAD>', '<BOS>', '<UNK>', '<UNUSED>'] + [key for key, _ in counter]\n",
    "    word_to_index = {word:index for index, word in enumerate(vocab)}\n",
    "\n",
    "    def wordlist_to_indexlist(wordlist):\n",
    "        return [word_to_index[word] if word in word_to_index else word_to_index['<UNK>'] for word in wordlist]\n",
    "\n",
    "    X_train = list(map(wordlist_to_indexlist, X_train))\n",
    "    X_test = list(map(wordlist_to_indexlist, X_test))\n",
    "\n",
    "    return X_train, np.array(list(train_data['label'])), X_test, np.array(list(test_data['label'])), word_to_index\n",
    "\n",
    "X_train, y_train, X_test, y_test, word_to_index = load_data(train_data, test_data)"
   ]
  },
  {
   "cell_type": "code",
   "execution_count": 6,
   "metadata": {},
   "outputs": [],
   "source": [
    "index_to_word = {index:word for word, index in word_to_index.items()}"
   ]
  },
  {
   "cell_type": "code",
   "execution_count": 7,
   "metadata": {},
   "outputs": [
    {
     "name": "stdout",
     "output_type": "stream",
     "text": [
      "잼\n",
      "2192\n"
     ]
    }
   ],
   "source": [
    "#데이터 변환 확인\n",
    "print(index_to_word[101])\n",
    "print(word_to_index['강'])"
   ]
  },
  {
   "cell_type": "code",
   "execution_count": 8,
   "metadata": {},
   "outputs": [],
   "source": [
    "# 문장 1개를 활용할 딕셔너리와 함께 주면, 단어 인덱스 리스트 벡터로 변환해 주는 함수입니다. \n",
    "# 단, 모든 문장은 <BOS>로 시작하는 것으로 합니다. \n",
    "def get_encoded_sentence(sentence, word_to_index):\n",
    "    return [word_to_index['<BOS>']]+[word_to_index[word] if word in word_to_index else word_to_index['<UNK>'] for word in sentence.split()]\n",
    "\n",
    "# 여러 개의 문장 리스트를 한꺼번에 단어 인덱스 리스트 벡터로 encode해 주는 함수입니다. \n",
    "def get_encoded_sentences(sentences, word_to_index):\n",
    "    return [get_encoded_sentence(sentence, word_to_index) for sentence in sentences]\n",
    "\n",
    "# 숫자 벡터로 encode된 문장을 원래대로 decode하는 함수입니다. \n",
    "def get_decoded_sentence(encoded_sentence, index_to_word):\n",
    "    return ' '.join(index_to_word[index] if index in index_to_word else '<UNK>' for index in encoded_sentence[1:])  #[1:]를 통해 <BOS>를 제외\n",
    "\n",
    "# 여러개의 숫자 벡터로 encode된 문장을 한꺼번에 원래대로 decode하는 함수입니다. \n",
    "def get_decoded_sentences(encoded_sentences, index_to_word):\n",
    "    return [get_decoded_sentence(encoded_sentence, index_to_word) for encoded_sentence in encoded_sentences]"
   ]
  },
  {
   "cell_type": "markdown",
   "metadata": {},
   "source": [
    "get_encoded_sentence(sentence, word_to_index)\n",
    "get_decoded_sentence(encoded_sentence, index_to_word)\n",
    "두가지 함수를 이용해 데이터 확인."
   ]
  },
  {
   "cell_type": "code",
   "execution_count": 9,
   "metadata": {},
   "outputs": [
    {
     "name": "stdout",
     "output_type": "stream",
     "text": [
      "문장길이 평균 :  15.765940237228612\n",
      "문장길이 최대 :  116\n",
      "문장길이 표준편차 :  12.634551799659596\n"
     ]
    }
   ],
   "source": [
    "total_data_text = list(X_train) + list(X_test)\n",
    "# 텍스트데이터 문장길이의 리스트를 생성한 후\n",
    "num_tokens = [len(tokens) for tokens in total_data_text]\n",
    "num_tokens = np.array(num_tokens)\n",
    "# 문장길이의 평균값, 최대값, 표준편차를 계산해 본다. \n",
    "print('문장길이 평균 : ', np.mean(num_tokens))\n",
    "print('문장길이 최대 : ', np.max(num_tokens))\n",
    "print('문장길이 표준편차 : ', np.std(num_tokens))"
   ]
  },
  {
   "cell_type": "code",
   "execution_count": 10,
   "metadata": {},
   "outputs": [
    {
     "data": {
      "image/png": "[encoded data removed]",
      "text/plain": [
       "<Figure size 1152x720 with 1 Axes>"
      ]
     },
     "metadata": {
      "needs_background": "light"
     },
     "output_type": "display_data"
    }
   ],
   "source": [
    "#문장 길이 분포 시각화 대부분의 데이터가 5~25 사이에 몰려있다. but 30~70 사이의 데이터 추이를 주목.\n",
    "plt.rcParams['figure.figsize'] = (16, 10)\n",
    "sns.distplot(num_tokens)\n",
    "plt.show()"
   ]
  },
  {
   "cell_type": "code",
   "execution_count": 11,
   "metadata": {},
   "outputs": [
    {
     "name": "stdout",
     "output_type": "stream",
     "text": [
      "pad_sequences maxlen :  60\n",
      "전체 문장의 98.81744044967978%가 maxlen 설정값 이내에 포함됩니다. \n"
     ]
    }
   ],
   "source": [
    "#최대 문장 길이 결정\n",
    "#최대 길이를 (평균 + 2*표준편차)로 하는 경우\n",
    "# max_tokens = np.mean(num_tokens) + 2 * np.std(num_tokens)\n",
    "max_tokens = 60\n",
    "maxlen = int(max_tokens)\n",
    "print('pad_sequences maxlen : ', maxlen)\n",
    "print('전체 문장의 {}%가 maxlen 설정값 이내에 포함됩니다. '.format(np.sum(num_tokens < max_tokens) / len(num_tokens) * 100))"
   ]
  },
  {
   "cell_type": "markdown",
   "metadata": {},
   "source": [
    "평균 + 2 * 표준편차(약 41)로 하는 경우 여기서 제외된 6.5%는 장문의 리뷰글이다. 이러한 글을 제외했을때와 반대로 너무 짧은 단편적인 감상을 제외했을때 데이터를 비교해 보아야 한다.\n",
    "비교결과 유의미한 차이는 없었다."
   ]
  },
  {
   "cell_type": "code",
   "execution_count": 12,
   "metadata": {},
   "outputs": [
    {
     "name": "stdout",
     "output_type": "stream",
     "text": [
      "(146182, 60)\n"
     ]
    }
   ],
   "source": [
    "#padding추가\n",
    "\n",
    "X_train = keras.preprocessing.sequence.pad_sequences(X_train,\n",
    "                                                        value=word_to_index[\"<PAD>\"],\n",
    "                                                        padding='pre',\n",
    "                                                        maxlen=maxlen)\n",
    "\n",
    "X_test = keras.preprocessing.sequence.pad_sequences(X_test,\n",
    "                                                       value=word_to_index[\"<PAD>\"],\n",
    "                                                       padding='pre',\n",
    "                                                       maxlen=maxlen)\n",
    "\n",
    "print(X_train.shape)"
   ]
  },
  {
   "cell_type": "markdown",
   "metadata": {},
   "source": [
    "어순이 분명하고 감정과 평가에 대한 부분이 뒤에 후술되는 영어와 달리 한국어는 post padding과  pre padding을 직접 비교해보아야한다.\n",
    "post의 accurracy는 약 75%, pre의  accuracy는 약 84%로 10%가량의 차이가 발생하였다."
   ]
  },
  {
   "cell_type": "code",
   "execution_count": 13,
   "metadata": {},
   "outputs": [
    {
     "name": "stdout",
     "output_type": "stream",
     "text": [
      "Model: \"sequential\"\n",
      "_________________________________________________________________\n",
      "Layer (type)                 Output Shape              Param #   \n",
      "=================================================================\n",
      "embedding (Embedding)        (None, None, 200)         2000000   \n",
      "_________________________________________________________________\n",
      "lstm (LSTM)                  (None, 100)               120400    \n",
      "_________________________________________________________________\n",
      "dense (Dense)                (None, 8)                 808       \n",
      "_________________________________________________________________\n",
      "dense_1 (Dense)              (None, 1)                 9         \n",
      "=================================================================\n",
      "Total params: 2,121,217\n",
      "Trainable params: 2,121,217\n",
      "Non-trainable params: 0\n",
      "_________________________________________________________________\n"
     ]
    }
   ],
   "source": [
    "#모델구성\n",
    "vocab_size = 10000    # 어휘 사전의 크기입니다(10,000개의 단어)\n",
    "word_vector_dim = 200  # 워드 벡터의 차원수 (변경가능한 하이퍼파라미터)\n",
    "\n",
    "model = keras.Sequential()\n",
    "model.add(keras.layers.Embedding(vocab_size, word_vector_dim, input_shape=(None,)))\n",
    "model.add(keras.layers.LSTM(100))   # 가장 널리 쓰이는 RNN인 LSTM 레이어를 사용하였습니다. 이때 LSTM state 벡터의 차원수는 8로 하였습니다. (변경가능)\n",
    "model.add(keras.layers.Dense(8, activation='relu'))\n",
    "model.add(keras.layers.Dense(1, activation='sigmoid'))  # 최종 출력은 긍정/부정을 나타내는 1dim 입니다.\n",
    "\n",
    "\n",
    "model.summary()"
   ]
  },
  {
   "cell_type": "code",
   "execution_count": 14,
   "metadata": {},
   "outputs": [],
   "source": [
    "# #모델 2\n",
    "\n",
    "# model = keras.Sequential()\n",
    "# model.add(keras.layers.Conv1D(16, 7, activation='relu'))\n",
    "# model.add(keras.layers.MaxPooling1D(5))\n",
    "# model.add(keras.layers.Conv1D(16, 7, activation='relu'))\n",
    "# model.add(keras.layers.GlobalMaxPooling1D())\n",
    "# model.add(keras.layers.Dense(8, activation='relu'))\n",
    "# model.add(keras.layers.Dense(1, activation='sigmoid')) "
   ]
  },
  {
   "cell_type": "code",
   "execution_count": 15,
   "metadata": {},
   "outputs": [],
   "source": [
    "# #모델 3\n",
    "\n",
    "# model = keras.Sequential()\n",
    "# model.add(Embedding(vocab_size, 100))\n",
    "# model.add(GRU(128))\n",
    "# model.add(Dense(1, activation='sigmoid'))"
   ]
  },
  {
   "cell_type": "code",
   "execution_count": 16,
   "metadata": {},
   "outputs": [
    {
     "name": "stdout",
     "output_type": "stream",
     "text": [
      "(126182, 60)\n",
      "(126182,)\n"
     ]
    }
   ],
   "source": [
    "#validation set 구성\n",
    "\n",
    "# validation set 2만건 분리\n",
    "X_val = X_train[:20000]   \n",
    "y_val = y_train[:20000]\n",
    "\n",
    "# validation set을 제외한 나머지 13만건\n",
    "partial_X_train = X_train[20000:]  \n",
    "partial_y_train = y_train[20000:]\n",
    "\n",
    "print(partial_X_train.shape)\n",
    "print(partial_y_train.shape)"
   ]
  },
  {
   "cell_type": "code",
   "execution_count": 17,
   "metadata": {},
   "outputs": [
    {
     "name": "stdout",
     "output_type": "stream",
     "text": [
      "Epoch 1/3\n",
      "247/247 [==============================] - 8s 31ms/step - loss: 0.4044 - accuracy: 0.8156 - val_loss: 0.3370 - val_accuracy: 0.8529\n",
      "Epoch 2/3\n",
      "247/247 [==============================] - 7s 30ms/step - loss: 0.3118 - accuracy: 0.8664 - val_loss: 0.3311 - val_accuracy: 0.8575\n",
      "Epoch 3/3\n",
      "247/247 [==============================] - 7s 30ms/step - loss: 0.2758 - accuracy: 0.8829 - val_loss: 0.3315 - val_accuracy: 0.8611\n"
     ]
    }
   ],
   "source": [
    "#모델 학습\n",
    "model.compile(optimizer='adam',\n",
    "              loss='binary_crossentropy',\n",
    "              metrics=['accuracy'])\n",
    "              \n",
    "epochs=3  # 몇 epoch를 훈련하면 좋을지 결과를 보면서 바꾸어 봅시다. \n",
    "\n",
    "history = model.fit(partial_X_train,\n",
    "                    partial_y_train,\n",
    "                    epochs=epochs,\n",
    "                    batch_size=512,\n",
    "                    validation_data=(X_val, y_val),\n",
    "                    verbose=1)"
   ]
  },
  {
   "cell_type": "code",
   "execution_count": 18,
   "metadata": {},
   "outputs": [
    {
     "name": "stdout",
     "output_type": "stream",
     "text": [
      "dict_keys(['loss', 'accuracy', 'val_loss', 'val_accuracy'])\n"
     ]
    }
   ],
   "source": [
    "#Loss, Accuracy 그래프 시각화\n",
    "history_dict = history.history\n",
    "print(history_dict.keys()) # epoch에 따른 그래프를 그려볼 수 있는 항목들"
   ]
  },
  {
   "cell_type": "code",
   "execution_count": 19,
   "metadata": {
    "scrolled": true
   },
   "outputs": [
    {
     "data": {
      "image/png": "[encoded data removed]",
      "text/plain": [
       "<Figure size 1152x720 with 1 Axes>"
      ]
     },
     "metadata": {
      "needs_background": "light"
     },
     "output_type": "display_data"
    }
   ],
   "source": [
    "import matplotlib.pyplot as plt\n",
    "\n",
    "acc = history_dict['accuracy']\n",
    "val_acc = history_dict['val_accuracy']\n",
    "loss = history_dict['loss']\n",
    "val_loss = history_dict['val_loss']\n",
    "\n",
    "epochs = range(1, len(acc) + 1)\n",
    "\n",
    "# \"bo\"는 \"파란색 점\"입니다\n",
    "plt.plot(epochs, loss, 'bo', label='Training loss')\n",
    "# b는 \"파란 실선\"입니다\n",
    "plt.plot(epochs, val_loss, 'b', label='Validation loss')\n",
    "plt.title('Training and validation loss')\n",
    "plt.xlabel('Epochs')\n",
    "plt.ylabel('Loss')\n",
    "plt.legend()\n",
    "\n",
    "plt.show()"
   ]
  },
  {
   "cell_type": "markdown",
   "metadata": {},
   "source": [
    "validation loss는 epoch 2 ~ 3까지만 감소한다."
   ]
  },
  {
   "cell_type": "code",
   "execution_count": 20,
   "metadata": {},
   "outputs": [
    {
     "data": {
      "image/png": "[encoded data removed]",
      "text/plain": [
       "<Figure size 1152x720 with 1 Axes>"
      ]
     },
     "metadata": {
      "needs_background": "light"
     },
     "output_type": "display_data"
    }
   ],
   "source": [
    "plt.clf()   # 그림을 초기화합니다\n",
    "\n",
    "plt.plot(epochs, acc, 'bo', label='Training acc')\n",
    "plt.plot(epochs, val_acc, 'b', label='Validation acc')\n",
    "plt.title('Training and validation accuracy')\n",
    "plt.xlabel('Epochs')\n",
    "plt.ylabel('Accuracy')\n",
    "plt.legend()\n",
    "\n",
    "plt.show()"
   ]
  },
  {
   "cell_type": "code",
   "execution_count": 21,
   "metadata": {},
   "outputs": [
    {
     "name": "stdout",
     "output_type": "stream",
     "text": [
      "1537/1537 - 3s - loss: 0.3377 - accuracy: 0.8555\n",
      "[0.33766207098960876, 0.8555241227149963]\n"
     ]
    }
   ],
   "source": [
    "#test 결과\n",
    "results = model.evaluate(X_test,  y_test, verbose=2)\n",
    "\n",
    "print(results)"
   ]
  },
  {
   "cell_type": "markdown",
   "metadata": {},
   "source": [
    "# 테스트 결과\n",
    "\n",
    "loss: 0.3389 - accuracy: 0.8509"
   ]
  },
  {
   "cell_type": "code",
   "execution_count": 22,
   "metadata": {},
   "outputs": [
    {
     "name": "stdout",
     "output_type": "stream",
     "text": [
      "(10000, 200)\n"
     ]
    }
   ],
   "source": [
    "#embedding 적용\n",
    "\n",
    "embedding_layer = model.layers[0]\n",
    "weights = embedding_layer.get_weights()[0]\n",
    "print(weights.shape)    # shape: (vocab_size, embedding_dim)"
   ]
  },
  {
   "cell_type": "code",
   "execution_count": 23,
   "metadata": {},
   "outputs": [],
   "source": [
    "import os\n",
    "\n",
    "# 학습한 Embedding 파라미터를 파일에 써서 저장합니다. \n",
    "word2vec_file_path = os.getenv('HOME')+'/aiffel/sentiment_classification/word2vec.txt'\n",
    "f = open(word2vec_file_path, 'w')\n",
    "f.write('{} {}\\n'.format(vocab_size-4, word_vector_dim))  # 몇개의 벡터를 얼마 사이즈로 기재할지 타이틀을 씁니다.\n",
    "\n",
    "# 단어 개수(에서 특수문자 4개는 제외하고)만큼의 워드 벡터를 파일에 기록합니다. \n",
    "vectors = model.get_weights()[0]\n",
    "for i in range(4,vocab_size):\n",
    "    f.write('{} {}\\n'.format(index_to_word[i], ' '.join(map(str, list(vectors[i, :])))))\n",
    "f.close()"
   ]
  },
  {
   "cell_type": "code",
   "execution_count": 24,
   "metadata": {
    "scrolled": true
   },
   "outputs": [
    {
     "data": {
      "text/plain": [
       "array([-6.77700490e-02, -8.38739425e-02, -3.79652008e-02, -3.64355147e-02,\n",
       "        2.17163041e-02, -5.30745722e-02,  2.31982917e-02, -8.46955576e-04,\n",
       "       -4.22354750e-02, -8.61195382e-04,  2.49737445e-02, -1.37824677e-02,\n",
       "        1.79309887e-03,  2.87664030e-02,  7.22602978e-02, -9.87426378e-03,\n",
       "       -4.06067260e-03, -2.37643048e-02,  2.26680376e-02,  2.36275103e-02,\n",
       "       -1.06625613e-02, -5.92855513e-02, -2.04738546e-02, -2.62902700e-04,\n",
       "        2.23990027e-02,  2.57939864e-02,  1.24485992e-01, -7.14770779e-02,\n",
       "        3.47324200e-02, -3.60249467e-02, -2.89665982e-02,  9.44118481e-03,\n",
       "       -3.55771072e-02, -2.40857750e-02, -5.46406433e-02,  1.94059387e-02,\n",
       "       -1.14298292e-01, -1.30133554e-02,  1.35138084e-03, -4.55042943e-02,\n",
       "        1.21855631e-01, -2.65660789e-02,  2.90467441e-02, -2.22842675e-02,\n",
       "       -9.17262118e-03, -1.64458640e-02, -5.09486161e-02, -6.40038326e-02,\n",
       "       -4.53246608e-02,  2.58280393e-02, -6.78552911e-02,  6.90557957e-02,\n",
       "        6.78466484e-02,  1.13678612e-02, -1.91015135e-02,  4.03492264e-02,\n",
       "        4.02516266e-03, -3.16052824e-01,  2.60808971e-03, -2.11282149e-02,\n",
       "        2.46620048e-02,  4.38173339e-02,  4.96278852e-02,  1.39335031e-02,\n",
       "       -9.37441085e-03,  4.04131785e-02, -1.31490985e-02, -5.15352003e-03,\n",
       "        3.00525166e-02,  3.06083281e-02, -2.27965508e-02, -1.74382254e-02,\n",
       "       -2.70056874e-02, -8.60589277e-03,  2.38939971e-01,  7.79302651e-03,\n",
       "        2.53899377e-02, -6.45906553e-02, -4.85530905e-02,  1.01146735e-02,\n",
       "        3.56947780e-02, -3.98734771e-02,  3.78771313e-02, -3.01199388e-02,\n",
       "        5.52223697e-02, -8.50337744e-02,  3.08978390e-02,  1.11616347e-02,\n",
       "        8.93357792e-05,  8.27427283e-02,  1.10151805e-02, -1.33530885e-01,\n",
       "       -6.32043630e-02,  5.72750717e-02,  1.88291688e-02, -6.59848079e-02,\n",
       "       -1.84099600e-02,  3.56766991e-02, -2.72715800e-02, -1.68042302e-01,\n",
       "        3.73779610e-02, -5.92298023e-02,  1.18844882e-02, -1.92957334e-02,\n",
       "       -2.91043576e-02, -1.84598938e-02, -1.10502047e-02,  8.58636722e-02,\n",
       "        2.65415963e-02,  5.13405837e-02, -9.38745514e-02, -1.70620129e-01,\n",
       "       -1.44546470e-02, -5.27010821e-02, -3.52166593e-02,  9.48186498e-03,\n",
       "       -1.60962306e-02,  2.17933897e-02, -9.71233845e-03,  2.89631523e-02,\n",
       "        4.47631925e-02,  1.46859437e-02, -6.26404881e-02, -1.20407715e-01,\n",
       "       -6.82684928e-02, -9.81644262e-03,  1.37032652e-02, -1.20269461e-02,\n",
       "        1.08127140e-01, -3.04820128e-02, -1.46458363e-02,  3.77653586e-03,\n",
       "        7.53918197e-03, -2.53526121e-01,  2.07962561e-02, -1.55749740e-02,\n",
       "        7.69372061e-02,  9.05606076e-02, -1.50583476e-01, -1.06716469e-01,\n",
       "        1.11435987e-01, -3.30558009e-02,  1.20404176e-02,  5.86733893e-02,\n",
       "       -1.07239895e-02, -1.20264806e-01,  5.80498092e-02,  3.39875408e-02,\n",
       "        4.72637042e-02, -6.64567435e-03, -4.20271218e-01,  9.62415487e-02,\n",
       "       -2.25610174e-02, -6.28892258e-02,  4.98216189e-02, -6.16068428e-04,\n",
       "       -3.44946645e-02,  1.42015338e-01, -4.82579283e-02,  1.73502304e-02,\n",
       "        7.70992190e-02,  6.67199418e-02,  6.44805841e-03,  3.83007452e-02,\n",
       "       -3.74526754e-02,  1.04005553e-01, -8.59511420e-02, -8.56822473e-04,\n",
       "       -2.83431374e-02, -5.71686216e-02, -1.03776976e-01,  3.60951084e-03,\n",
       "       -1.88269059e-03,  2.06562113e-02, -7.46445730e-02, -5.95709644e-02,\n",
       "       -3.88242714e-02, -1.41964492e-03,  7.80923367e-02,  1.25338316e-01,\n",
       "       -2.43662708e-02, -3.23037133e-02, -1.23492070e-02,  2.86543556e-02,\n",
       "        6.90973327e-02,  4.11721915e-02, -5.44697531e-02,  5.24010397e-02,\n",
       "        3.09659168e-02,  4.11681756e-02, -5.32716624e-02,  2.02637594e-02,\n",
       "       -3.08809280e-02, -7.89331459e-03, -1.11030735e-01, -1.52357807e-02,\n",
       "       -7.77324513e-02, -3.39754187e-02,  1.52577246e-02, -4.72372361e-02],\n",
       "      dtype=float32)"
      ]
     },
     "execution_count": 24,
     "metadata": {},
     "output_type": "execute_result"
    }
   ],
   "source": [
    "from gensim.models.keyedvectors import Word2VecKeyedVectors\n",
    "\n",
    "word_vectors = Word2VecKeyedVectors.load_word2vec_format(word2vec_file_path, binary=False)\n",
    "vector = word_vectors['재미']\n",
    "vector"
   ]
  },
  {
   "cell_type": "code",
   "execution_count": 25,
   "metadata": {
    "scrolled": true
   },
   "outputs": [
    {
     "data": {
      "text/plain": [
       "[('대작', 0.7856625318527222),\n",
       " ('완벽', 0.7850098609924316),\n",
       " ('수작', 0.7844745516777039),\n",
       " ('뿌듯', 0.782171368598938),\n",
       " ('습니당', 0.7799915075302124),\n",
       " ('명작', 0.7732791304588318),\n",
       " ('끌리', 0.7702724933624268),\n",
       " ('꼭', 0.7641820311546326),\n",
       " ('정점', 0.7634591460227966),\n",
       " ('올려야', 0.7626177072525024)]"
      ]
     },
     "execution_count": 25,
     "metadata": {},
     "output_type": "execute_result"
    }
   ],
   "source": [
    "word_vectors.similar_by_word(\"사랑\")"
   ]
  },
  {
   "cell_type": "markdown",
   "metadata": {},
   "source": [
    "큰 연관성이 보이지 않는다."
   ]
  },
  {
   "cell_type": "code",
   "execution_count": 26,
   "metadata": {
    "scrolled": false
   },
   "outputs": [
    {
     "data": {
      "text/plain": [
       "array([ 7.2242e-02, -6.9223e-02,  2.6350e-01,  2.6930e-02,  2.7465e-01,\n",
       "       -5.7484e-02,  1.1657e-01, -1.0736e-01,  2.6542e-01, -1.5600e-01,\n",
       "        4.8601e-01,  6.3728e-01,  5.7949e-01,  2.1420e-01, -3.2206e-02,\n",
       "       -9.1503e-03,  2.0928e-01, -8.1857e-02, -2.6783e-01, -2.5602e-01,\n",
       "        1.4733e-01,  4.5259e-01,  3.6965e-01,  2.4644e-01, -4.4918e-02,\n",
       "       -6.7232e-02,  3.1724e-02,  3.3469e-01,  2.6623e-01, -1.1605e-01,\n",
       "       -1.5161e-02,  1.0318e-01,  1.4193e-01, -7.9796e-02,  1.5111e-02,\n",
       "        1.0474e-01, -2.3739e-01, -1.1473e-01, -5.4767e-02,  8.9843e-02,\n",
       "        3.1133e-01,  3.2850e-01,  9.2288e-02, -1.3007e-01, -4.7345e-01,\n",
       "       -4.1861e-01, -2.1817e-01, -1.6687e-02,  3.4634e-01,  1.1898e-01,\n",
       "        2.5232e-01,  5.3454e-03,  9.8491e-02,  1.4123e-01,  2.8660e-02,\n",
       "       -1.1567e-01,  5.5575e-01, -1.4759e-01,  2.7344e-01, -2.9719e-01,\n",
       "        7.8230e-02, -2.1698e-01, -1.9905e-01,  3.0314e-01, -4.5031e-02,\n",
       "        1.6996e-01, -3.5892e-01, -2.6847e-01,  1.4510e-01, -2.0968e-01,\n",
       "       -1.1155e-01, -2.4789e-01,  7.3840e-02, -1.5958e-01, -5.4518e-01,\n",
       "       -2.1918e-01,  4.6502e-01, -4.5190e-01, -3.0823e-02, -5.2310e-02,\n",
       "       -3.0539e-01, -3.2815e-01,  4.9398e-01, -6.1352e-02,  3.5518e-01,\n",
       "       -3.2516e-02, -2.5340e-01,  9.9453e-02, -3.8745e-01,  2.8348e-01,\n",
       "        2.0849e-01,  3.5381e-01,  4.9125e-01,  2.0817e-01, -1.6912e-01,\n",
       "       -1.7050e-01, -3.3246e-01, -2.8901e-02, -3.5438e-02, -6.2448e-01,\n",
       "        2.0265e-01, -3.1291e-01,  2.6814e-01, -1.7607e-02, -7.5575e-02,\n",
       "       -3.5508e-01,  2.6724e-02, -2.9611e-01, -2.8780e-01, -1.5216e-01,\n",
       "       -1.6836e-02,  1.6816e-02,  4.3019e-01, -3.3865e-02, -3.1984e-01,\n",
       "        2.1714e-01,  5.7882e-02, -5.3531e-02,  2.3571e-01,  1.6869e-01,\n",
       "        5.7575e-02, -1.8389e-01,  1.4210e-01, -4.0831e-02, -2.1561e-01,\n",
       "       -7.0739e-02, -9.4748e-02,  6.9231e-02, -1.1031e-01,  6.3621e-02,\n",
       "        4.0665e-01, -1.0841e-01,  1.3543e-01,  3.1294e-01, -6.0529e-03,\n",
       "       -1.6539e-01, -3.2659e-01,  4.8248e-03,  1.1890e-01, -1.0454e-01,\n",
       "       -2.0947e-01, -1.3760e-01, -1.9147e-01, -1.0139e-01,  2.7186e-01,\n",
       "       -7.4093e-02,  4.4072e-01,  3.1493e-01,  8.2520e-02,  1.4896e-01,\n",
       "       -1.9173e-01,  3.0816e-01, -3.1060e-01, -1.9823e-01, -4.9816e-02,\n",
       "       -2.6061e-01, -5.0265e-02, -7.9298e-02, -1.5639e-01, -5.8595e-02,\n",
       "       -9.3044e-02,  1.3687e-01, -1.3375e-01,  5.3847e-02,  2.5587e-01,\n",
       "        9.5366e-03,  1.9998e-01, -1.1988e-01,  1.4942e-01, -2.1318e-01,\n",
       "        1.3337e-04, -1.8778e-01, -1.7056e-01, -1.8550e-01,  2.6642e-01,\n",
       "        2.6330e-01,  1.9200e-01,  4.5847e-01,  2.3541e-01, -2.1610e-01,\n",
       "        7.4057e-02, -2.8515e-01, -1.7574e-01,  9.6531e-02,  1.9998e-01,\n",
       "        1.0503e-01,  6.4972e-02, -4.4216e-02,  2.6575e-01, -7.3315e-02,\n",
       "       -1.9885e-01, -1.3322e-01,  2.9249e-01,  3.5137e-01,  9.2284e-02,\n",
       "        1.4890e-01,  6.4545e-02,  8.2889e-02, -3.0227e-02,  5.7437e-02],\n",
       "      dtype=float32)"
      ]
     },
     "execution_count": 26,
     "metadata": {},
     "output_type": "execute_result"
    }
   ],
   "source": [
    "#한국어 Word2Vec 임베딩 활용하여 성능개선\n",
    "\n",
    "from gensim.models import KeyedVectors\n",
    "from gensim.test.utils import datapath\n",
    "word2vec_path = os.getenv('HOME')+'/aiffel/sentiment_classification/ko.vec'\n",
    "word2vec = KeyedVectors.load_word2vec_format(word2vec_path, binary=False)\n",
    "vector = word2vec['사랑']\n",
    "vector"
   ]
  },
  {
   "cell_type": "code",
   "execution_count": 27,
   "metadata": {
    "scrolled": false
   },
   "outputs": [
    {
     "data": {
      "text/plain": [
       "[('사랑과', 0.6912475228309631),\n",
       " ('그리움', 0.6627303957939148),\n",
       " ('이별', 0.6524810791015625),\n",
       " ('그대', 0.649117112159729),\n",
       " ('연인', 0.6449648141860962),\n",
       " ('슬픔', 0.6445863246917725),\n",
       " ('외로움', 0.6422537565231323),\n",
       " ('사랑이', 0.6219197511672974),\n",
       " ('첫사랑', 0.616836667060852),\n",
       " ('애정', 0.6153576374053955)]"
      ]
     },
     "execution_count": 27,
     "metadata": {},
     "output_type": "execute_result"
    }
   ],
   "source": [
    "# 메모리를 다소 많이 소비하는 작업이니 유의해 주세요.\n",
    "word2vec.similar_by_word(\"사랑\")"
   ]
  },
  {
   "cell_type": "markdown",
   "metadata": {},
   "source": [
    "연관성이 뚜렷하게 보인다."
   ]
  },
  {
   "cell_type": "code",
   "execution_count": 28,
   "metadata": {},
   "outputs": [],
   "source": [
    "vocab_size = 10000    # 어휘 사전의 크기입니다(10,000개의 단어)\n",
    "word_vector_dim = 200  # 워드 벡터의 차원수 (변경가능한 하이퍼파라미터)\n",
    "\n",
    "embedding_matrix = np.random.rand(vocab_size, word_vector_dim)\n",
    "\n",
    "# embedding_matrix에 Word2Vec 워드벡터를 단어 하나씩마다 차례차례 카피한다.\n",
    "for i in range(4,vocab_size):\n",
    "    if index_to_word[i] in word2vec:\n",
    "        embedding_matrix[i] = word2vec[index_to_word[i]]"
   ]
  },
  {
   "cell_type": "code",
   "execution_count": 29,
   "metadata": {},
   "outputs": [
    {
     "name": "stdout",
     "output_type": "stream",
     "text": [
      "Model: \"sequential_1\"\n",
      "_________________________________________________________________\n",
      "Layer (type)                 Output Shape              Param #   \n",
      "=================================================================\n",
      "embedding_1 (Embedding)      (None, 60, 200)           2000000   \n",
      "_________________________________________________________________\n",
      "lstm_1 (LSTM)                (None, 100)               120400    \n",
      "_________________________________________________________________\n",
      "dense_2 (Dense)              (None, 8)                 808       \n",
      "_________________________________________________________________\n",
      "dense_3 (Dense)              (None, 1)                 9         \n",
      "=================================================================\n",
      "Total params: 2,121,217\n",
      "Trainable params: 121,217\n",
      "Non-trainable params: 2,000,000\n",
      "_________________________________________________________________\n"
     ]
    }
   ],
   "source": [
    "import keras\n",
    "from keras.initializers import Constant\n",
    "\n",
    "vocab_size = 10000    # 어휘 사전의 크기입니다(10,000개의 단어)\n",
    "word_vector_dim = 200  # 워드 벡터의 차원수 (변경가능한 하이퍼파라미터)\n",
    "\n",
    "# 모델 구성\n",
    "model2 = keras.Sequential()\n",
    "model2.add(keras.layers.Embedding(vocab_size, \n",
    "                                 word_vector_dim, \n",
    "                                 embeddings_initializer=Constant(embedding_matrix),  # 카피한 임베딩을 여기서 활용\n",
    "                                 input_length=maxlen, \n",
    "                                 trainable=False))\n",
    "model2.add(keras.layers.LSTM(100))\n",
    "model2.add(keras.layers.Dense(8, activation='relu'))\n",
    "model2.add(keras.layers.Dense(1, activation='sigmoid'))  # 최종 출력은 긍정/부정을 나타내는 1dim 입니다.\n",
    "\n",
    "\n",
    "model2.summary()"
   ]
  },
  {
   "cell_type": "code",
   "execution_count": 30,
   "metadata": {},
   "outputs": [
    {
     "name": "stdout",
     "output_type": "stream",
     "text": [
      "Epoch 1/6\n",
      "247/247 [==============================] - 4s 17ms/step - loss: 0.5386 - accuracy: 0.7246 - val_loss: 0.4913 - val_accuracy: 0.7595\n",
      "Epoch 2/6\n",
      "247/247 [==============================] - 4s 16ms/step - loss: 0.4591 - accuracy: 0.7813 - val_loss: 0.4310 - val_accuracy: 0.7997\n",
      "Epoch 3/6\n",
      "247/247 [==============================] - 4s 16ms/step - loss: 0.4199 - accuracy: 0.8049 - val_loss: 0.4028 - val_accuracy: 0.8137\n",
      "Epoch 4/6\n",
      "247/247 [==============================] - 4s 16ms/step - loss: 0.3946 - accuracy: 0.8186 - val_loss: 0.3913 - val_accuracy: 0.8194\n",
      "Epoch 5/6\n",
      "247/247 [==============================] - 4s 16ms/step - loss: 0.3743 - accuracy: 0.8299 - val_loss: 0.3738 - val_accuracy: 0.8302\n",
      "Epoch 6/6\n",
      "247/247 [==============================] - 4s 16ms/step - loss: 0.3571 - accuracy: 0.8401 - val_loss: 0.3728 - val_accuracy: 0.8295\n"
     ]
    }
   ],
   "source": [
    "# 학습의 진행\n",
    "model2.compile(optimizer='adam',\n",
    "              loss='binary_crossentropy',\n",
    "              metrics=['accuracy'])\n",
    "              \n",
    "epochs = 6  # 몇 epoch를 훈련하면 좋을지 결과를 보면서 바꾸어 봅시다. \n",
    "\n",
    "history = model2.fit(partial_X_train,\n",
    "                    partial_y_train,\n",
    "                    epochs=epochs,\n",
    "                    batch_size=512,\n",
    "                    validation_data=(X_val, y_val),\n",
    "                    verbose=1)"
   ]
  },
  {
   "cell_type": "code",
   "execution_count": 31,
   "metadata": {
    "scrolled": true
   },
   "outputs": [
    {
     "data": {
      "image/png": "[encoded data removed]",
      "text/plain": [
       "<Figure size 1152x720 with 1 Axes>"
      ]
     },
     "metadata": {
      "needs_background": "light"
     },
     "output_type": "display_data"
    }
   ],
   "source": [
    "history_dict = history.history\n",
    "\n",
    "plt.clf()\n",
    "acc = history_dict['accuracy']\n",
    "val_acc = history_dict['val_accuracy']\n",
    "loss = history_dict['loss']\n",
    "val_loss = history_dict['val_loss']\n",
    "\n",
    "epochs = range(1, len(acc) + 1)\n",
    "\n",
    "# \"bo\"는 \"파란색 점\"입니다\n",
    "plt.plot(epochs, loss, 'bo', label='Training loss')\n",
    "# b는 \"파란 실선\"입니다\n",
    "plt.plot(epochs, val_loss, 'b', label='Validation loss')\n",
    "plt.title('Training and validation loss')\n",
    "plt.xlabel('Epochs')\n",
    "plt.ylabel('Loss')\n",
    "plt.legend()\n",
    "\n",
    "plt.show()"
   ]
  },
  {
   "cell_type": "markdown",
   "metadata": {},
   "source": [
    "epoch = 6까지 감소"
   ]
  },
  {
   "cell_type": "code",
   "execution_count": 32,
   "metadata": {},
   "outputs": [
    {
     "name": "stdout",
     "output_type": "stream",
     "text": [
      "1537/1537 - 3s - loss: 0.3806 - accuracy: 0.8270\n",
      "[0.38058724999427795, 0.8270236253738403]\n"
     ]
    }
   ],
   "source": [
    "# 테스트셋을 통한 모델 평가\n",
    "results = model2.evaluate(X_test,  y_test, verbose=2)\n",
    "\n",
    "print(results)"
   ]
  },
  {
   "cell_type": "markdown",
   "metadata": {},
   "source": [
    "# 테스트 결과 비교\n",
    "\n",
    "loss: 0.3389 - accuracy: 0.8509\n",
    "\n",
    "loss: 0.3753 - accuracy: 0.8312(불용어 sample 적용시)\n",
    "loss: 0.3806 - accuracy: 0.8270(불용어 sample 미 적용시)\n",
    "\n",
    "오히려 소폭 하락하였다."
   ]
  },
  {
   "cell_type": "markdown",
   "metadata": {},
   "source": [
    "# 총평\n",
    "\n",
    "분명 embedding을 이용한 높은 연관성을 확인하였고 이를 파라미터로 활용했는데 어째서 영향이 없었는지는 알 수 없었다. 오히려 trainable 변수의 default값인 True를 False로 바꾼 영향으로 확률은 더 떨어졌다.\n",
    "train loss - validation loss 그래프를 보면 일반적인 under fitting / over fitting 영역이 드러나지 않고 전형적인 over fitting의 형상의 띄었다.데이터는 적은데 설정한 모델이 이미 충분히 완성도가 높기에 이러한 현상이 벌어진 것이 아닐까 싶다."
   ]
  }
 ],
 "metadata": {
  "kernelspec": {
   "display_name": "aiffel",
   "language": "python",
   "name": "aiffel"
  },
  "language_info": {
   "codemirror_mode": {
    "name": "ipython",
    "version": 3
   },
   "file_extension": ".py",
   "mimetype": "text/x-python",
   "name": "python",
   "nbconvert_exporter": "python",
   "pygments_lexer": "ipython3",
   "version": "3.7.6"
  }
 },
 "nbformat": 4,
 "nbformat_minor": 4
}
