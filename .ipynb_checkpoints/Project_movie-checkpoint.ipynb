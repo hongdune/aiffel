{
 "cells": [
  {
   "cell_type": "code",
   "execution_count": 1,
   "metadata": {
    "scrolled": false
   },
   "outputs": [
    {
     "data": {
      "text/html": [
       "<div>\n",
       "<style scoped>\n",
       "    .dataframe tbody tr th:only-of-type {\n",
       "        vertical-align: middle;\n",
       "    }\n",
       "\n",
       "    .dataframe tbody tr th {\n",
       "        vertical-align: top;\n",
       "    }\n",
       "\n",
       "    .dataframe thead th {\n",
       "        text-align: right;\n",
       "    }\n",
       "</style>\n",
       "<table border=\"1\" class=\"dataframe\">\n",
       "  <thead>\n",
       "    <tr style=\"text-align: right;\">\n",
       "      <th></th>\n",
       "      <th>user_id</th>\n",
       "      <th>movie_id</th>\n",
       "      <th>rating</th>\n",
       "      <th>timestamp</th>\n",
       "    </tr>\n",
       "  </thead>\n",
       "  <tbody>\n",
       "    <tr>\n",
       "      <th>0</th>\n",
       "      <td>1</td>\n",
       "      <td>1193</td>\n",
       "      <td>5</td>\n",
       "      <td>978300760</td>\n",
       "    </tr>\n",
       "    <tr>\n",
       "      <th>1</th>\n",
       "      <td>1</td>\n",
       "      <td>661</td>\n",
       "      <td>3</td>\n",
       "      <td>978302109</td>\n",
       "    </tr>\n",
       "    <tr>\n",
       "      <th>2</th>\n",
       "      <td>1</td>\n",
       "      <td>914</td>\n",
       "      <td>3</td>\n",
       "      <td>978301968</td>\n",
       "    </tr>\n",
       "    <tr>\n",
       "      <th>3</th>\n",
       "      <td>1</td>\n",
       "      <td>3408</td>\n",
       "      <td>4</td>\n",
       "      <td>978300275</td>\n",
       "    </tr>\n",
       "    <tr>\n",
       "      <th>4</th>\n",
       "      <td>1</td>\n",
       "      <td>2355</td>\n",
       "      <td>5</td>\n",
       "      <td>978824291</td>\n",
       "    </tr>\n",
       "  </tbody>\n",
       "</table>\n",
       "</div>"
      ],
      "text/plain": [
       "   user_id  movie_id  rating  timestamp\n",
       "0        1      1193       5  978300760\n",
       "1        1       661       3  978302109\n",
       "2        1       914       3  978301968\n",
       "3        1      3408       4  978300275\n",
       "4        1      2355       5  978824291"
      ]
     },
     "execution_count": 1,
     "metadata": {},
     "output_type": "execute_result"
    }
   ],
   "source": [
    "#데이터 준비와 전처리\n",
    "\n",
    "import pandas as pd\n",
    "import os\n",
    "\n",
    "\n",
    "rating_file_path=os.getenv('HOME') + '/aiffel/recommendata_iu/data/ml-1m/ratings.dat'\n",
    "ratings_cols = ['user_id', 'movie_id', 'rating', 'timestamp']\n",
    "ratings = pd.read_csv(rating_file_path, sep='::', names=ratings_cols, engine='python')\n",
    "orginal_data_size = len(ratings)\n",
    "ratings.head()\n"
   ]
  },
  {
   "cell_type": "code",
   "execution_count": 2,
   "metadata": {},
   "outputs": [
    {
     "data": {
      "text/html": [
       "<div>\n",
       "<style scoped>\n",
       "    .dataframe tbody tr th:only-of-type {\n",
       "        vertical-align: middle;\n",
       "    }\n",
       "\n",
       "    .dataframe tbody tr th {\n",
       "        vertical-align: top;\n",
       "    }\n",
       "\n",
       "    .dataframe thead th {\n",
       "        text-align: right;\n",
       "    }\n",
       "</style>\n",
       "<table border=\"1\" class=\"dataframe\">\n",
       "  <thead>\n",
       "    <tr style=\"text-align: right;\">\n",
       "      <th></th>\n",
       "      <th>user_id</th>\n",
       "      <th>movie_id</th>\n",
       "      <th>rating</th>\n",
       "    </tr>\n",
       "  </thead>\n",
       "  <tbody>\n",
       "    <tr>\n",
       "      <th>0</th>\n",
       "      <td>1</td>\n",
       "      <td>1193</td>\n",
       "      <td>5</td>\n",
       "    </tr>\n",
       "    <tr>\n",
       "      <th>1</th>\n",
       "      <td>1</td>\n",
       "      <td>661</td>\n",
       "      <td>3</td>\n",
       "    </tr>\n",
       "    <tr>\n",
       "      <th>2</th>\n",
       "      <td>1</td>\n",
       "      <td>914</td>\n",
       "      <td>3</td>\n",
       "    </tr>\n",
       "    <tr>\n",
       "      <th>3</th>\n",
       "      <td>1</td>\n",
       "      <td>3408</td>\n",
       "      <td>4</td>\n",
       "    </tr>\n",
       "    <tr>\n",
       "      <th>4</th>\n",
       "      <td>1</td>\n",
       "      <td>2355</td>\n",
       "      <td>5</td>\n",
       "    </tr>\n",
       "    <tr>\n",
       "      <th>5</th>\n",
       "      <td>1</td>\n",
       "      <td>1197</td>\n",
       "      <td>3</td>\n",
       "    </tr>\n",
       "    <tr>\n",
       "      <th>6</th>\n",
       "      <td>1</td>\n",
       "      <td>1287</td>\n",
       "      <td>5</td>\n",
       "    </tr>\n",
       "    <tr>\n",
       "      <th>7</th>\n",
       "      <td>1</td>\n",
       "      <td>2804</td>\n",
       "      <td>5</td>\n",
       "    </tr>\n",
       "    <tr>\n",
       "      <th>8</th>\n",
       "      <td>1</td>\n",
       "      <td>594</td>\n",
       "      <td>4</td>\n",
       "    </tr>\n",
       "    <tr>\n",
       "      <th>9</th>\n",
       "      <td>1</td>\n",
       "      <td>919</td>\n",
       "      <td>4</td>\n",
       "    </tr>\n",
       "  </tbody>\n",
       "</table>\n",
       "</div>"
      ],
      "text/plain": [
       "   user_id  movie_id  rating\n",
       "0        1      1193       5\n",
       "1        1       661       3\n",
       "2        1       914       3\n",
       "3        1      3408       4\n",
       "4        1      2355       5\n",
       "5        1      1197       3\n",
       "6        1      1287       5\n",
       "7        1      2804       5\n",
       "8        1       594       4\n",
       "9        1       919       4"
      ]
     },
     "execution_count": 2,
     "metadata": {},
     "output_type": "execute_result"
    }
   ],
   "source": [
    "using_cols = ['user_id', 'movie_id', 'rating']\n",
    "ratings = ratings[using_cols]\n",
    "ratings.head(10)"
   ]
  },
  {
   "cell_type": "code",
   "execution_count": 3,
   "metadata": {},
   "outputs": [
    {
     "name": "stdout",
     "output_type": "stream",
     "text": [
      "orginal_data_size: 1000209, filtered_data_size: 836478\n",
      "Ratio of Remaining Data is 83.63%\n"
     ]
    }
   ],
   "source": [
    "# 3점 이상만 남깁니다.\n",
    "ratings = ratings[ratings['rating']>=3]\n",
    "filtered_data_size = len(ratings)\n",
    "\n",
    "print(f'orginal_data_size: {orginal_data_size}, filtered_data_size: {filtered_data_size}')\n",
    "print(f'Ratio of Remaining Data is {filtered_data_size / orginal_data_size:.2%}')"
   ]
  },
  {
   "cell_type": "code",
   "execution_count": 4,
   "metadata": {},
   "outputs": [],
   "source": [
    "# rating 컬럼의 이름을 count로 바꿉니다.\n",
    "ratings.rename(columns={'rating':'num'}, inplace=True)"
   ]
  },
  {
   "cell_type": "code",
   "execution_count": 5,
   "metadata": {
    "scrolled": true
   },
   "outputs": [
    {
     "data": {
      "text/html": [
       "<div>\n",
       "<style scoped>\n",
       "    .dataframe tbody tr th:only-of-type {\n",
       "        vertical-align: middle;\n",
       "    }\n",
       "\n",
       "    .dataframe tbody tr th {\n",
       "        vertical-align: top;\n",
       "    }\n",
       "\n",
       "    .dataframe thead th {\n",
       "        text-align: right;\n",
       "    }\n",
       "</style>\n",
       "<table border=\"1\" class=\"dataframe\">\n",
       "  <thead>\n",
       "    <tr style=\"text-align: right;\">\n",
       "      <th></th>\n",
       "      <th>movie_id</th>\n",
       "      <th>title</th>\n",
       "      <th>genre</th>\n",
       "    </tr>\n",
       "  </thead>\n",
       "  <tbody>\n",
       "    <tr>\n",
       "      <th>0</th>\n",
       "      <td>1</td>\n",
       "      <td>Toy Story (1995)</td>\n",
       "      <td>Animation|Children's|Comedy</td>\n",
       "    </tr>\n",
       "    <tr>\n",
       "      <th>1</th>\n",
       "      <td>2</td>\n",
       "      <td>Jumanji (1995)</td>\n",
       "      <td>Adventure|Children's|Fantasy</td>\n",
       "    </tr>\n",
       "    <tr>\n",
       "      <th>2</th>\n",
       "      <td>3</td>\n",
       "      <td>Grumpier Old Men (1995)</td>\n",
       "      <td>Comedy|Romance</td>\n",
       "    </tr>\n",
       "    <tr>\n",
       "      <th>3</th>\n",
       "      <td>4</td>\n",
       "      <td>Waiting to Exhale (1995)</td>\n",
       "      <td>Comedy|Drama</td>\n",
       "    </tr>\n",
       "    <tr>\n",
       "      <th>4</th>\n",
       "      <td>5</td>\n",
       "      <td>Father of the Bride Part II (1995)</td>\n",
       "      <td>Comedy</td>\n",
       "    </tr>\n",
       "  </tbody>\n",
       "</table>\n",
       "</div>"
      ],
      "text/plain": [
       "   movie_id                               title                         genre\n",
       "0         1                    Toy Story (1995)   Animation|Children's|Comedy\n",
       "1         2                      Jumanji (1995)  Adventure|Children's|Fantasy\n",
       "2         3             Grumpier Old Men (1995)                Comedy|Romance\n",
       "3         4            Waiting to Exhale (1995)                  Comedy|Drama\n",
       "4         5  Father of the Bride Part II (1995)                        Comedy"
      ]
     },
     "execution_count": 5,
     "metadata": {},
     "output_type": "execute_result"
    }
   ],
   "source": [
    "# 영화 제목을 보기 위해 메타 데이터를 읽어옵니다.\n",
    "movie_file_path=os.getenv('HOME') + '/aiffel/recommendata_iu/data/ml-1m/movies.dat'\n",
    "cols = ['movie_id', 'title', 'genre'] \n",
    "movies = pd.read_csv(movie_file_path, sep='::', names=cols, engine='python')\n",
    "movies.head()"
   ]
  },
  {
   "cell_type": "code",
   "execution_count": 6,
   "metadata": {},
   "outputs": [
    {
     "data": {
      "text/html": [
       "<div>\n",
       "<style scoped>\n",
       "    .dataframe tbody tr th:only-of-type {\n",
       "        vertical-align: middle;\n",
       "    }\n",
       "\n",
       "    .dataframe tbody tr th {\n",
       "        vertical-align: top;\n",
       "    }\n",
       "\n",
       "    .dataframe thead th {\n",
       "        text-align: right;\n",
       "    }\n",
       "</style>\n",
       "<table border=\"1\" class=\"dataframe\">\n",
       "  <thead>\n",
       "    <tr style=\"text-align: right;\">\n",
       "      <th></th>\n",
       "      <th>user_id</th>\n",
       "      <th>movie_id</th>\n",
       "      <th>num</th>\n",
       "      <th>title</th>\n",
       "      <th>genre</th>\n",
       "    </tr>\n",
       "  </thead>\n",
       "  <tbody>\n",
       "    <tr>\n",
       "      <th>0</th>\n",
       "      <td>1</td>\n",
       "      <td>1193</td>\n",
       "      <td>5</td>\n",
       "      <td>One Flew Over the Cuckoo's Nest (1975)</td>\n",
       "      <td>Drama</td>\n",
       "    </tr>\n",
       "    <tr>\n",
       "      <th>1</th>\n",
       "      <td>1</td>\n",
       "      <td>661</td>\n",
       "      <td>3</td>\n",
       "      <td>James and the Giant Peach (1996)</td>\n",
       "      <td>Animation|Children's|Musical</td>\n",
       "    </tr>\n",
       "    <tr>\n",
       "      <th>2</th>\n",
       "      <td>1</td>\n",
       "      <td>914</td>\n",
       "      <td>3</td>\n",
       "      <td>My Fair Lady (1964)</td>\n",
       "      <td>Musical|Romance</td>\n",
       "    </tr>\n",
       "    <tr>\n",
       "      <th>3</th>\n",
       "      <td>1</td>\n",
       "      <td>3408</td>\n",
       "      <td>4</td>\n",
       "      <td>Erin Brockovich (2000)</td>\n",
       "      <td>Drama</td>\n",
       "    </tr>\n",
       "    <tr>\n",
       "      <th>4</th>\n",
       "      <td>1</td>\n",
       "      <td>2355</td>\n",
       "      <td>5</td>\n",
       "      <td>Bug's Life, A (1998)</td>\n",
       "      <td>Animation|Children's|Comedy</td>\n",
       "    </tr>\n",
       "    <tr>\n",
       "      <th>...</th>\n",
       "      <td>...</td>\n",
       "      <td>...</td>\n",
       "      <td>...</td>\n",
       "      <td>...</td>\n",
       "      <td>...</td>\n",
       "    </tr>\n",
       "    <tr>\n",
       "      <th>1000203</th>\n",
       "      <td>6040</td>\n",
       "      <td>1090</td>\n",
       "      <td>3</td>\n",
       "      <td>Platoon (1986)</td>\n",
       "      <td>Drama|War</td>\n",
       "    </tr>\n",
       "    <tr>\n",
       "      <th>1000205</th>\n",
       "      <td>6040</td>\n",
       "      <td>1094</td>\n",
       "      <td>5</td>\n",
       "      <td>Crying Game, The (1992)</td>\n",
       "      <td>Drama|Romance|War</td>\n",
       "    </tr>\n",
       "    <tr>\n",
       "      <th>1000206</th>\n",
       "      <td>6040</td>\n",
       "      <td>562</td>\n",
       "      <td>5</td>\n",
       "      <td>Welcome to the Dollhouse (1995)</td>\n",
       "      <td>Comedy|Drama</td>\n",
       "    </tr>\n",
       "    <tr>\n",
       "      <th>1000207</th>\n",
       "      <td>6040</td>\n",
       "      <td>1096</td>\n",
       "      <td>4</td>\n",
       "      <td>Sophie's Choice (1982)</td>\n",
       "      <td>Drama</td>\n",
       "    </tr>\n",
       "    <tr>\n",
       "      <th>1000208</th>\n",
       "      <td>6040</td>\n",
       "      <td>1097</td>\n",
       "      <td>4</td>\n",
       "      <td>E.T. the Extra-Terrestrial (1982)</td>\n",
       "      <td>Children's|Drama|Fantasy|Sci-Fi</td>\n",
       "    </tr>\n",
       "  </tbody>\n",
       "</table>\n",
       "<p>836478 rows × 5 columns</p>\n",
       "</div>"
      ],
      "text/plain": [
       "         user_id  movie_id  num                                   title  \\\n",
       "0              1      1193    5  One Flew Over the Cuckoo's Nest (1975)   \n",
       "1              1       661    3        James and the Giant Peach (1996)   \n",
       "2              1       914    3                     My Fair Lady (1964)   \n",
       "3              1      3408    4                  Erin Brockovich (2000)   \n",
       "4              1      2355    5                    Bug's Life, A (1998)   \n",
       "...          ...       ...  ...                                     ...   \n",
       "1000203     6040      1090    3                          Platoon (1986)   \n",
       "1000205     6040      1094    5                 Crying Game, The (1992)   \n",
       "1000206     6040       562    5         Welcome to the Dollhouse (1995)   \n",
       "1000207     6040      1096    4                  Sophie's Choice (1982)   \n",
       "1000208     6040      1097    4       E.T. the Extra-Terrestrial (1982)   \n",
       "\n",
       "                                   genre  \n",
       "0                                  Drama  \n",
       "1           Animation|Children's|Musical  \n",
       "2                        Musical|Romance  \n",
       "3                                  Drama  \n",
       "4            Animation|Children's|Comedy  \n",
       "...                                  ...  \n",
       "1000203                        Drama|War  \n",
       "1000205                Drama|Romance|War  \n",
       "1000206                     Comedy|Drama  \n",
       "1000207                            Drama  \n",
       "1000208  Children's|Drama|Fantasy|Sci-Fi  \n",
       "\n",
       "[836478 rows x 5 columns]"
      ]
     },
     "execution_count": 6,
     "metadata": {},
     "output_type": "execute_result"
    }
   ],
   "source": [
    "#데이터를 병합합니다.\n",
    "\n",
    "df = movies.set_index(\"movie_id\")\n",
    "\n",
    "ratings = ratings.join(df, on = \"movie_id\")\n",
    "\n",
    "ratings"
   ]
  },
  {
   "cell_type": "code",
   "execution_count": 7,
   "metadata": {
    "scrolled": false
   },
   "outputs": [
    {
     "name": "stdout",
     "output_type": "stream",
     "text": [
      "3628\n",
      "6039\n",
      "title\n",
      "American Beauty (1999)                                   3211\n",
      "Star Wars: Episode IV - A New Hope (1977)                2910\n",
      "Star Wars: Episode V - The Empire Strikes Back (1980)    2885\n",
      "Star Wars: Episode VI - Return of the Jedi (1983)        2716\n",
      "Saving Private Ryan (1998)                               2561\n",
      "Terminator 2: Judgment Day (1991)                        2509\n",
      "Silence of the Lambs, The (1991)                         2498\n",
      "Raiders of the Lost Ark (1981)                           2473\n",
      "Back to the Future (1985)                                2460\n",
      "Matrix, The (1999)                                       2434\n",
      "Jurassic Park (1993)                                     2413\n",
      "Sixth Sense, The (1999)                                  2385\n",
      "Fargo (1996)                                             2371\n",
      "Braveheart (1995)                                        2314\n",
      "Men in Black (1997)                                      2297\n",
      "Schindler's List (1993)                                  2257\n",
      "Princess Bride, The (1987)                               2252\n",
      "Shakespeare in Love (1998)                               2213\n",
      "L.A. Confidential (1997)                                 2210\n",
      "Shawshank Redemption, The (1994)                         2194\n",
      "Godfather, The (1972)                                    2167\n",
      "Groundhog Day (1993)                                     2121\n",
      "E.T. the Extra-Terrestrial (1982)                        2102\n",
      "Being John Malkovich (1999)                              2066\n",
      "Ghostbusters (1984)                                      2051\n",
      "Pulp Fiction (1994)                                      2030\n",
      "Forrest Gump (1994)                                      2022\n",
      "Terminator, The (1984)                                   2019\n",
      "Toy Story (1995)                                         2000\n",
      "Fugitive, The (1993)                                     1941\n",
      "Name: user_id, dtype: int64\n"
     ]
    }
   ],
   "source": [
    "#분석해 봅시다\n",
    "\n",
    "#ratings에 있는 유니크한 영화 개수\n",
    "print(ratings['movie_id'].nunique())\n",
    "\n",
    "#rating에 있는 유니크한 사용자 수\n",
    "print(ratings['user_id'].nunique())\n",
    "\n",
    "#가장 인기있는 영화 30개(인기순)\n",
    "rate_count = ratings.groupby('title')['user_id'].count()  #가독성을 위해 movie_id항목이 아닌 title을 사용합니다.\n",
    "print(rate_count.sort_values(axis = 0, ascending=False).head(30))"
   ]
  },
  {
   "cell_type": "code",
   "execution_count": 8,
   "metadata": {},
   "outputs": [
    {
     "data": {
      "text/plain": [
       "[589, 586, 2762, 1721, 2028]"
      ]
     },
     "execution_count": 8,
     "metadata": {},
     "output_type": "execute_result"
    }
   ],
   "source": [
    "k = ['Terminator 2: Judgment Day (1991)' , 'Home Alone (1990)' ,'Sixth Sense, The (1999)' ,'Titanic (1997)' ,'Saving Private Ryan (1998)']\n",
    "\n",
    "my_favorite = []\n",
    "\n",
    "for i in k:\n",
    "    my_favorite.append(int(movies[movies['title'] == i][\"movie_id\"]))\n",
    "\n",
    "my_favorite #호출의 용이성을 위해 문자열 제목을 movie_id를 참조하여 변경\n"
   ]
  },
  {
   "cell_type": "code",
   "execution_count": 9,
   "metadata": {},
   "outputs": [
    {
     "data": {
      "text/html": [
       "<div>\n",
       "<style scoped>\n",
       "    .dataframe tbody tr th:only-of-type {\n",
       "        vertical-align: middle;\n",
       "    }\n",
       "\n",
       "    .dataframe tbody tr th {\n",
       "        vertical-align: top;\n",
       "    }\n",
       "\n",
       "    .dataframe thead th {\n",
       "        text-align: right;\n",
       "    }\n",
       "</style>\n",
       "<table border=\"1\" class=\"dataframe\">\n",
       "  <thead>\n",
       "    <tr style=\"text-align: right;\">\n",
       "      <th></th>\n",
       "      <th>user_id</th>\n",
       "      <th>movie_id</th>\n",
       "      <th>num</th>\n",
       "      <th>title</th>\n",
       "      <th>genre</th>\n",
       "    </tr>\n",
       "  </thead>\n",
       "  <tbody>\n",
       "    <tr>\n",
       "      <th>1000203</th>\n",
       "      <td>6040</td>\n",
       "      <td>1090</td>\n",
       "      <td>3</td>\n",
       "      <td>Platoon (1986)</td>\n",
       "      <td>Drama|War</td>\n",
       "    </tr>\n",
       "    <tr>\n",
       "      <th>1000205</th>\n",
       "      <td>6040</td>\n",
       "      <td>1094</td>\n",
       "      <td>5</td>\n",
       "      <td>Crying Game, The (1992)</td>\n",
       "      <td>Drama|Romance|War</td>\n",
       "    </tr>\n",
       "    <tr>\n",
       "      <th>1000206</th>\n",
       "      <td>6040</td>\n",
       "      <td>562</td>\n",
       "      <td>5</td>\n",
       "      <td>Welcome to the Dollhouse (1995)</td>\n",
       "      <td>Comedy|Drama</td>\n",
       "    </tr>\n",
       "    <tr>\n",
       "      <th>1000207</th>\n",
       "      <td>6040</td>\n",
       "      <td>1096</td>\n",
       "      <td>4</td>\n",
       "      <td>Sophie's Choice (1982)</td>\n",
       "      <td>Drama</td>\n",
       "    </tr>\n",
       "    <tr>\n",
       "      <th>1000208</th>\n",
       "      <td>6040</td>\n",
       "      <td>1097</td>\n",
       "      <td>4</td>\n",
       "      <td>E.T. the Extra-Terrestrial (1982)</td>\n",
       "      <td>Children's|Drama|Fantasy|Sci-Fi</td>\n",
       "    </tr>\n",
       "    <tr>\n",
       "      <th>0</th>\n",
       "      <td>6041</td>\n",
       "      <td>589</td>\n",
       "      <td>5</td>\n",
       "      <td>NaN</td>\n",
       "      <td>NaN</td>\n",
       "    </tr>\n",
       "    <tr>\n",
       "      <th>1</th>\n",
       "      <td>6041</td>\n",
       "      <td>586</td>\n",
       "      <td>5</td>\n",
       "      <td>NaN</td>\n",
       "      <td>NaN</td>\n",
       "    </tr>\n",
       "    <tr>\n",
       "      <th>2</th>\n",
       "      <td>6041</td>\n",
       "      <td>2762</td>\n",
       "      <td>5</td>\n",
       "      <td>NaN</td>\n",
       "      <td>NaN</td>\n",
       "    </tr>\n",
       "    <tr>\n",
       "      <th>3</th>\n",
       "      <td>6041</td>\n",
       "      <td>1721</td>\n",
       "      <td>5</td>\n",
       "      <td>NaN</td>\n",
       "      <td>NaN</td>\n",
       "    </tr>\n",
       "    <tr>\n",
       "      <th>4</th>\n",
       "      <td>6041</td>\n",
       "      <td>2028</td>\n",
       "      <td>5</td>\n",
       "      <td>NaN</td>\n",
       "      <td>NaN</td>\n",
       "    </tr>\n",
       "  </tbody>\n",
       "</table>\n",
       "</div>"
      ],
      "text/plain": [
       "        user_id  movie_id  num                              title  \\\n",
       "1000203    6040      1090    3                     Platoon (1986)   \n",
       "1000205    6040      1094    5            Crying Game, The (1992)   \n",
       "1000206    6040       562    5    Welcome to the Dollhouse (1995)   \n",
       "1000207    6040      1096    4             Sophie's Choice (1982)   \n",
       "1000208    6040      1097    4  E.T. the Extra-Terrestrial (1982)   \n",
       "0          6041       589    5                                NaN   \n",
       "1          6041       586    5                                NaN   \n",
       "2          6041      2762    5                                NaN   \n",
       "3          6041      1721    5                                NaN   \n",
       "4          6041      2028    5                                NaN   \n",
       "\n",
       "                                   genre  \n",
       "1000203                        Drama|War  \n",
       "1000205                Drama|Romance|War  \n",
       "1000206                     Comedy|Drama  \n",
       "1000207                            Drama  \n",
       "1000208  Children's|Drama|Fantasy|Sci-Fi  \n",
       "0                                    NaN  \n",
       "1                                    NaN  \n",
       "2                                    NaN  \n",
       "3                                    NaN  \n",
       "4                                    NaN  "
      ]
     },
     "execution_count": 9,
     "metadata": {},
     "output_type": "execute_result"
    }
   ],
   "source": [
    "# ratings['user_id'].max() = 6040이기때문에 id는 6041로 지정 rating = 5\n",
    "my_playlist = pd.DataFrame({'user_id': ['6041']*5, 'movie_id': my_favorite, 'num':[5]*5})\n",
    "\n",
    "ratings = ratings.append(my_playlist)\n",
    "\n",
    "ratings.tail(10)"
   ]
  },
  {
   "cell_type": "code",
   "execution_count": 10,
   "metadata": {},
   "outputs": [],
   "source": [
    "#CSR matrix를 직접 만들어 봅시다.\n",
    "\n",
    "# 고유한 유저, 아티스트를 찾아내는 코드\n",
    "user_unique = ratings['user_id'].unique()\n",
    "movie_unique = ratings['movie_id'].unique()\n",
    "\n",
    "# 유저, 아티스트 indexing 하는 코드 idx는 index의 약자입니다.\n",
    "user_to_idx = {v:k for k,v in enumerate(user_unique)}\n",
    "movie_to_idx = {v:k for k,v in enumerate(movie_unique)}"
   ]
  },
  {
   "cell_type": "code",
   "execution_count": 11,
   "metadata": {},
   "outputs": [
    {
     "name": "stdout",
     "output_type": "stream",
     "text": [
      "6039\n",
      "6040\n",
      "3628\n",
      "92\n"
     ]
    }
   ],
   "source": [
    "# 인덱싱이 잘 되었는지 확인해 봅니다. \n",
    "print(user_to_idx['6041'])\n",
    "print(ratings['user_id'].nunique()) #6039 -> 6040\n",
    "print(ratings['movie_id'].nunique()) #3628 -> 3628 영화의 갯수는 동일, 유저의 수는 1명 증가 확인.\n",
    "print(movie_to_idx[int(movies[movies['title'] == 'Terminator 2: Judgment Day (1991)'][\"movie_id\"])])"
   ]
  },
  {
   "cell_type": "code",
   "execution_count": 12,
   "metadata": {},
   "outputs": [
    {
     "name": "stdout",
     "output_type": "stream",
     "text": [
      "user_id column indexing OK!!\n",
      "movie_id column indexing OK!!\n"
     ]
    },
    {
     "data": {
      "text/html": [
       "<div>\n",
       "<style scoped>\n",
       "    .dataframe tbody tr th:only-of-type {\n",
       "        vertical-align: middle;\n",
       "    }\n",
       "\n",
       "    .dataframe tbody tr th {\n",
       "        vertical-align: top;\n",
       "    }\n",
       "\n",
       "    .dataframe thead th {\n",
       "        text-align: right;\n",
       "    }\n",
       "</style>\n",
       "<table border=\"1\" class=\"dataframe\">\n",
       "  <thead>\n",
       "    <tr style=\"text-align: right;\">\n",
       "      <th></th>\n",
       "      <th>user_id</th>\n",
       "      <th>movie_id</th>\n",
       "      <th>num</th>\n",
       "      <th>title</th>\n",
       "      <th>genre</th>\n",
       "    </tr>\n",
       "  </thead>\n",
       "  <tbody>\n",
       "    <tr>\n",
       "      <th>0</th>\n",
       "      <td>0</td>\n",
       "      <td>0</td>\n",
       "      <td>5</td>\n",
       "      <td>One Flew Over the Cuckoo's Nest (1975)</td>\n",
       "      <td>Drama</td>\n",
       "    </tr>\n",
       "    <tr>\n",
       "      <th>1</th>\n",
       "      <td>0</td>\n",
       "      <td>1</td>\n",
       "      <td>3</td>\n",
       "      <td>James and the Giant Peach (1996)</td>\n",
       "      <td>Animation|Children's|Musical</td>\n",
       "    </tr>\n",
       "    <tr>\n",
       "      <th>2</th>\n",
       "      <td>0</td>\n",
       "      <td>2</td>\n",
       "      <td>3</td>\n",
       "      <td>My Fair Lady (1964)</td>\n",
       "      <td>Musical|Romance</td>\n",
       "    </tr>\n",
       "    <tr>\n",
       "      <th>3</th>\n",
       "      <td>0</td>\n",
       "      <td>3</td>\n",
       "      <td>4</td>\n",
       "      <td>Erin Brockovich (2000)</td>\n",
       "      <td>Drama</td>\n",
       "    </tr>\n",
       "    <tr>\n",
       "      <th>4</th>\n",
       "      <td>0</td>\n",
       "      <td>4</td>\n",
       "      <td>5</td>\n",
       "      <td>Bug's Life, A (1998)</td>\n",
       "      <td>Animation|Children's|Comedy</td>\n",
       "    </tr>\n",
       "    <tr>\n",
       "      <th>...</th>\n",
       "      <td>...</td>\n",
       "      <td>...</td>\n",
       "      <td>...</td>\n",
       "      <td>...</td>\n",
       "      <td>...</td>\n",
       "    </tr>\n",
       "    <tr>\n",
       "      <th>0</th>\n",
       "      <td>6039</td>\n",
       "      <td>92</td>\n",
       "      <td>5</td>\n",
       "      <td>NaN</td>\n",
       "      <td>NaN</td>\n",
       "    </tr>\n",
       "    <tr>\n",
       "      <th>1</th>\n",
       "      <td>6039</td>\n",
       "      <td>507</td>\n",
       "      <td>5</td>\n",
       "      <td>NaN</td>\n",
       "      <td>NaN</td>\n",
       "    </tr>\n",
       "    <tr>\n",
       "      <th>2</th>\n",
       "      <td>6039</td>\n",
       "      <td>38</td>\n",
       "      <td>5</td>\n",
       "      <td>NaN</td>\n",
       "      <td>NaN</td>\n",
       "    </tr>\n",
       "    <tr>\n",
       "      <th>3</th>\n",
       "      <td>6039</td>\n",
       "      <td>27</td>\n",
       "      <td>5</td>\n",
       "      <td>NaN</td>\n",
       "      <td>NaN</td>\n",
       "    </tr>\n",
       "    <tr>\n",
       "      <th>4</th>\n",
       "      <td>6039</td>\n",
       "      <td>48</td>\n",
       "      <td>5</td>\n",
       "      <td>NaN</td>\n",
       "      <td>NaN</td>\n",
       "    </tr>\n",
       "  </tbody>\n",
       "</table>\n",
       "<p>836483 rows × 5 columns</p>\n",
       "</div>"
      ],
      "text/plain": [
       "    user_id  movie_id  num                                   title  \\\n",
       "0         0         0    5  One Flew Over the Cuckoo's Nest (1975)   \n",
       "1         0         1    3        James and the Giant Peach (1996)   \n",
       "2         0         2    3                     My Fair Lady (1964)   \n",
       "3         0         3    4                  Erin Brockovich (2000)   \n",
       "4         0         4    5                    Bug's Life, A (1998)   \n",
       "..      ...       ...  ...                                     ...   \n",
       "0      6039        92    5                                     NaN   \n",
       "1      6039       507    5                                     NaN   \n",
       "2      6039        38    5                                     NaN   \n",
       "3      6039        27    5                                     NaN   \n",
       "4      6039        48    5                                     NaN   \n",
       "\n",
       "                           genre  \n",
       "0                          Drama  \n",
       "1   Animation|Children's|Musical  \n",
       "2                Musical|Romance  \n",
       "3                          Drama  \n",
       "4    Animation|Children's|Comedy  \n",
       "..                           ...  \n",
       "0                            NaN  \n",
       "1                            NaN  \n",
       "2                            NaN  \n",
       "3                            NaN  \n",
       "4                            NaN  \n",
       "\n",
       "[836483 rows x 5 columns]"
      ]
     },
     "execution_count": 12,
     "metadata": {},
     "output_type": "execute_result"
    }
   ],
   "source": [
    "# indexing을 통해 데이터 컬럼 내 값을 바꾸는 코드\n",
    " \n",
    "temp_user_data = ratings['user_id'].map(user_to_idx.get).dropna()\n",
    "if len(temp_user_data) == len(ratings):   # 모든 row가 정상적으로 인덱싱되었다면\n",
    "    print('user_id column indexing OK!!')\n",
    "    ratings['user_id'] = temp_user_data   # data['user_id']을 인덱싱된 Series로 교체해 줍니다. \n",
    "else:\n",
    "    print('user_id column indexing Fail!!')\n",
    "\n",
    "# artist_to_idx을 통해 artist 컬럼도 동일한 방식으로 인덱싱해 줍니다. \n",
    "temp_movie_data = ratings['movie_id'].map(movie_to_idx.get).dropna()\n",
    "if len(temp_movie_data) == len(ratings):\n",
    "    print('movie_id column indexing OK!!')\n",
    "    ratings['movie_id'] = temp_movie_data\n",
    "else:\n",
    "    print('movie column indexing Fail!!')\n",
    "\n",
    "ratings"
   ]
  },
  {
   "cell_type": "code",
   "execution_count": 13,
   "metadata": {},
   "outputs": [
    {
     "data": {
      "text/plain": [
       "<6040x3628 sparse matrix of type '<class 'numpy.int64'>'\n",
       "\twith 836483 stored elements in Compressed Sparse Row format>"
      ]
     },
     "execution_count": 13,
     "metadata": {},
     "output_type": "execute_result"
    }
   ],
   "source": [
    "from scipy.sparse import csr_matrix\n",
    "\n",
    "\n",
    "num_user = ratings['user_id'].nunique()\n",
    "num_artist = ratings['movie_id'].nunique()\n",
    "\n",
    "csr_data = csr_matrix((ratings.num, (ratings.user_id, ratings.movie_id)), shape= (num_user, num_artist))\n",
    "csr_data"
   ]
  },
  {
   "cell_type": "code",
   "execution_count": 14,
   "metadata": {},
   "outputs": [],
   "source": [
    "#als_model = AlternatingLeastSquares 모델을 직접 구성하여 훈련시켜 봅시다.\n",
    "\n",
    "\n",
    "from implicit.als import AlternatingLeastSquares\n",
    "import os\n",
    "import numpy as np\n",
    "\n",
    "# implicit 라이브러리에서 권장하고 있는 부분입니다. 학습 내용과는 무관합니다.\n",
    "os.environ['OPENBLAS_NUM_THREADS']='1'\n",
    "os.environ['KMP_DUPLICATE_LIB_OK']='True'\n",
    "os.environ['MKL_NUM_THREADS']='1'"
   ]
  },
  {
   "cell_type": "code",
   "execution_count": 15,
   "metadata": {},
   "outputs": [],
   "source": [
    "# Implicit AlternatingLeastSquares 모델의 선언\n",
    "als_model = AlternatingLeastSquares(factors=100, regularization=0.01, use_gpu=False, iterations=15, dtype=np.float32)"
   ]
  },
  {
   "cell_type": "code",
   "execution_count": 16,
   "metadata": {},
   "outputs": [
    {
     "data": {
      "text/plain": [
       "<3628x6040 sparse matrix of type '<class 'numpy.int64'>'\n",
       "\twith 836483 stored elements in Compressed Sparse Column format>"
      ]
     },
     "execution_count": 16,
     "metadata": {},
     "output_type": "execute_result"
    }
   ],
   "source": [
    "# als 모델은 input으로 (item X user 꼴의 matrix를 받기 때문에 Transpose해줍니다.)\n",
    "csr_data_transpose = csr_data.T\n",
    "csr_data_transpose"
   ]
  },
  {
   "cell_type": "code",
   "execution_count": 17,
   "metadata": {},
   "outputs": [
    {
     "data": {
      "application/vnd.jupyter.widget-view+json": {
       "model_id": "25a886bcd52947469e5d34a09b8d0bb2",
       "version_major": 2,
       "version_minor": 0
      },
      "text/plain": [
       "HBox(children=(FloatProgress(value=0.0, max=15.0), HTML(value='')))"
      ]
     },
     "metadata": {},
     "output_type": "display_data"
    },
    {
     "name": "stdout",
     "output_type": "stream",
     "text": [
      "\n"
     ]
    }
   ],
   "source": [
    "als_model.fit(csr_data_transpose)"
   ]
  },
  {
   "cell_type": "code",
   "execution_count": 18,
   "metadata": {},
   "outputs": [
    {
     "name": "stdout",
     "output_type": "stream",
     "text": [
      "슝=3\n"
     ]
    }
   ],
   "source": [
    "mine, terminator2 = user_to_idx['6041'], movie_to_idx[589]\n",
    "mine_vector, terminator2_vector = als_model.user_factors[mine], als_model.item_factors[terminator2]\n",
    "\n",
    "print('슝=3')"
   ]
  },
  {
   "cell_type": "code",
   "execution_count": 19,
   "metadata": {},
   "outputs": [
    {
     "data": {
      "text/plain": [
       "array([-1.3756492 , -0.9439546 ,  0.00227376,  1.0441139 ,  0.18503919,\n",
       "        0.6442654 , -0.14960262,  0.4130029 , -0.45474535,  0.4395634 ,\n",
       "        0.41522613, -0.9655469 ,  0.18160018, -0.56021386,  0.17850037,\n",
       "        0.20759219, -0.11315695,  0.8140895 , -0.7335163 , -0.1218634 ,\n",
       "        0.24060547,  0.08286361, -0.7389755 ,  0.39627525, -0.3266273 ,\n",
       "        0.78366446, -0.53263605,  0.4595253 ,  0.5453975 , -0.5618565 ,\n",
       "        0.07714178, -0.38414982, -0.43871653, -0.30159667,  0.02711426,\n",
       "        0.4094529 ,  0.23174812,  0.17220758,  0.06281042, -0.16704696,\n",
       "        0.3792799 ,  0.49969575,  0.1085358 ,  0.3390181 ,  0.03382057,\n",
       "        0.18574856,  0.35730082,  0.02951659,  0.20662399, -0.17459925,\n",
       "       -0.02656456, -0.31495047, -0.9705977 ,  0.20802742,  0.52641696,\n",
       "       -0.4082082 , -1.0176269 ,  0.02035997,  0.35817996,  0.42507625,\n",
       "        0.38373446, -0.7021932 ,  0.06352413,  1.0355349 , -0.14186299,\n",
       "        0.4045348 ,  0.0490848 ,  0.29675645,  0.3105174 ,  0.20554927,\n",
       "       -0.76060665, -0.06763398, -0.2498289 ,  1.1611637 ,  0.27246785,\n",
       "        0.96343213,  1.0262011 ,  0.8943228 , -0.01907801, -0.5647136 ,\n",
       "       -1.001619  , -0.06186377, -0.683851  ,  0.01226094,  0.30130225,\n",
       "        0.05476612,  0.61258453, -1.6261945 , -0.22343838, -0.18714364,\n",
       "        0.47940186, -0.4231084 ,  0.501217  , -1.314986  ,  0.19409701,\n",
       "       -0.13628514, -0.3432576 ,  0.71836954,  0.23354766, -0.13733438],\n",
       "      dtype=float32)"
      ]
     },
     "execution_count": 19,
     "metadata": {},
     "output_type": "execute_result"
    }
   ],
   "source": [
    "mine_vector"
   ]
  },
  {
   "cell_type": "code",
   "execution_count": 20,
   "metadata": {
    "scrolled": true
   },
   "outputs": [
    {
     "data": {
      "text/plain": [
       "array([-2.56375801e-02, -2.15830915e-02, -7.63843767e-03,  3.79960537e-02,\n",
       "        7.86466338e-03,  1.87489893e-02, -4.16328898e-03,  3.88933644e-02,\n",
       "        2.79943757e-02,  2.31862906e-02,  1.99797396e-02, -2.22040955e-02,\n",
       "        1.44624114e-02,  5.64145972e-04,  3.67967337e-02,  1.71935931e-02,\n",
       "       -2.58683022e-02, -7.57831335e-03,  4.33014380e-03,  2.13785898e-02,\n",
       "        7.44022522e-03,  8.65246542e-03, -8.87357630e-03, -3.07266274e-03,\n",
       "        2.58708443e-03,  5.15341982e-02,  1.35475472e-02,  3.95835713e-02,\n",
       "        1.90347824e-02, -3.37765878e-03,  4.18523280e-03, -5.31049957e-03,\n",
       "       -6.48268906e-04, -1.61747821e-02,  3.61888879e-03,  1.17708221e-02,\n",
       "        9.99420416e-03,  1.02031725e-02, -7.07961759e-03, -2.03946996e-02,\n",
       "        3.30465399e-02,  2.34839488e-02,  1.05132917e-02,  1.88960470e-02,\n",
       "       -1.27468891e-02, -1.13136293e-02, -5.13142627e-03,  1.81513801e-02,\n",
       "       -9.43759084e-03,  1.28920451e-02,  1.51488557e-02, -9.24858544e-03,\n",
       "       -1.04504237e-02,  3.10794450e-02,  4.53024358e-03, -2.09753541e-03,\n",
       "       -2.17785034e-02,  2.78041381e-02,  2.24471819e-02,  7.59085268e-03,\n",
       "       -6.88299304e-04, -9.19470377e-03, -6.50340831e-03,  4.58042324e-02,\n",
       "        6.43767696e-03,  2.82772928e-02,  2.59956103e-02,  1.90001447e-02,\n",
       "        1.08692031e-02,  1.51030803e-02, -2.48941593e-02,  2.24958230e-02,\n",
       "        2.06214450e-02,  1.05725797e-02, -8.96070997e-05,  1.84407178e-02,\n",
       "        1.03944698e-02,  3.01768780e-02,  5.02961595e-03,  2.20801868e-02,\n",
       "       -1.68706253e-02,  1.48077095e-02, -1.12887323e-02, -4.96834982e-03,\n",
       "       -6.62804535e-03,  1.43036759e-03,  4.83232224e-03, -2.45734826e-02,\n",
       "        7.62700220e-04, -1.70758069e-02, -1.51025476e-02,  3.90870823e-03,\n",
       "        2.58921664e-02, -1.37962131e-02, -1.84700303e-02, -2.19294839e-02,\n",
       "       -1.40912840e-02,  1.34474011e-02,  7.39088980e-03,  1.55936424e-02],\n",
       "      dtype=float32)"
      ]
     },
     "execution_count": 20,
     "metadata": {},
     "output_type": "execute_result"
    }
   ],
   "source": [
    "terminator2_vector"
   ]
  },
  {
   "cell_type": "code",
   "execution_count": 21,
   "metadata": {},
   "outputs": [
    {
     "data": {
      "text/plain": [
       "0.5742769"
      ]
     },
     "execution_count": 21,
     "metadata": {},
     "output_type": "execute_result"
    }
   ],
   "source": [
    "# zimin과 black_eyed_peas를 내적하는 코드\n",
    "np.dot(mine_vector, terminator2_vector)"
   ]
  },
  {
   "cell_type": "code",
   "execution_count": 22,
   "metadata": {},
   "outputs": [
    {
     "data": {
      "text/plain": [
       "0.030438442"
      ]
     },
     "execution_count": 22,
     "metadata": {},
     "output_type": "execute_result"
    }
   ],
   "source": [
    "# 6::Heat (1995)::Action|Crime|Thriller\n",
    "\n",
    "heat = movie_to_idx[6]\n",
    "heat_vector = als_model.item_factors[heat]\n",
    "np.dot(mine_vector, heat_vector)"
   ]
  },
  {
   "cell_type": "code",
   "execution_count": 23,
   "metadata": {},
   "outputs": [
    {
     "data": {
      "text/plain": [
       "[(92, 0.18553486),\n",
       " (124, 0.14429782),\n",
       " (107, 0.13167673),\n",
       " (62, 0.12861505),\n",
       " (175, 0.119067304),\n",
       " (200, 0.115228534),\n",
       " (141, 0.09222886),\n",
       " (87, 0.08910578),\n",
       " (3466, 0.084202304),\n",
       " (75, 0.08086982),\n",
       " (375, 0.07778993),\n",
       " (651, 0.07759891),\n",
       " (193, 0.07697806),\n",
       " (3333, 0.07160783),\n",
       " (145, 0.07068097)]"
      ]
     },
     "execution_count": 23,
     "metadata": {},
     "output_type": "execute_result"
    }
   ],
   "source": [
    "#589, 586, 2762, 1721, 2028\n",
    "\n",
    "favorite_movie = 589\n",
    "movie_id = movie_to_idx[favorite_movie]\n",
    "similar_movie = als_model.similar_items(movie_id, N=15)\n",
    "similar_movie"
   ]
  },
  {
   "cell_type": "code",
   "execution_count": 24,
   "metadata": {
    "scrolled": true
   },
   "outputs": [
    {
     "name": "stdout",
     "output_type": "stream",
     "text": [
      "585    Terminator 2: Judgment Day (1991)\n",
      "Name: title, dtype: object\n",
      "585    Action|Sci-Fi|Thriller\n",
      "Name: genre, dtype: object\n",
      "2502    Matrix, The (1999)\n",
      "Name: title, dtype: object\n",
      "2502    Action|Sci-Fi|Thriller\n",
      "Name: genre, dtype: object\n",
      "476    Jurassic Park (1993)\n",
      "Name: title, dtype: object\n",
      "476    Action|Adventure|Sci-Fi\n",
      "Name: genre, dtype: object\n",
      "2847    Total Recall (1990)\n",
      "Name: title, dtype: object\n",
      "2847    Action|Adventure|Sci-Fi|Thriller\n",
      "Name: genre, dtype: object\n",
      "1539    Men in Black (1997)\n",
      "Name: title, dtype: object\n",
      "1539    Action|Adventure|Comedy|Sci-Fi\n",
      "Name: genre, dtype: object\n",
      "1220    Terminator, The (1984)\n",
      "Name: title, dtype: object\n",
      "1220    Action|Sci-Fi|Thriller\n",
      "Name: genre, dtype: object\n",
      "453    Fugitive, The (1993)\n",
      "Name: title, dtype: object\n",
      "453    Action|Thriller\n",
      "Name: genre, dtype: object\n",
      "108    Braveheart (1995)\n",
      "Name: title, dtype: object\n",
      "108    Action|Drama|War\n",
      "Name: genre, dtype: object\n",
      "977    Schlafes Bruder (Brother of Sleep) (1995)\n",
      "Name: title, dtype: object\n",
      "977    Drama\n",
      "Name: genre, dtype: object\n",
      "1568    Hunt for Red October, The (1990)\n",
      "Name: title, dtype: object\n",
      "1568    Action|Thriller\n",
      "Name: genre, dtype: object\n",
      "1533    Face/Off (1997)\n",
      "Name: title, dtype: object\n",
      "1533    Action|Sci-Fi|Thriller\n",
      "Name: genre, dtype: object\n",
      "1182    Aliens (1986)\n",
      "Name: title, dtype: object\n",
      "1182    Action|Sci-Fi|Thriller|War\n",
      "Name: genre, dtype: object\n",
      "1196    Alien (1979)\n",
      "Name: title, dtype: object\n",
      "1196    Action|Horror|Sci-Fi|Thriller\n",
      "Name: genre, dtype: object\n",
      "2539    Heaven (1998)\n",
      "Name: title, dtype: object\n",
      "2539    Thriller\n",
      "Name: genre, dtype: object\n",
      "1491    Fifth Element, The (1997)\n",
      "Name: title, dtype: object\n",
      "1491    Action|Sci-Fi\n",
      "Name: genre, dtype: object\n"
     ]
    }
   ],
   "source": [
    "#artist_to_idx 를 뒤집어, index로부터 artist 이름을 얻는 dict를 생성합니다. \n",
    "idx_to_movie = {v:k for k,v in movie_to_idx.items()}\n",
    "a = [idx_to_movie[i[0]] for i in similar_movie]\n",
    "\n",
    "for i in a:\n",
    "    print(movies[movies['movie_id'] == i][\"title\"])\n",
    "    print(movies[movies['movie_id'] == i][\"genre\"])"
   ]
  },
  {
   "cell_type": "markdown",
   "metadata": {},
   "source": [
    "\n",
    "\n"
   ]
  },
  {
   "cell_type": "markdown",
   "metadata": {},
   "source": [
    "# 데이터 전처리\n",
    "데이터 처리 과정에서 가장 의미 없는 timestamp항목을 제거하였으며 가시성을 위해 movies의 title과 genre항목을 병합하여주었다.\n",
    "또한 column명 중 rating의 경우 ratings.rating이 ratings의 rating 항목을 호출하는 것이 아닌 .rating 함수로 작용하는 것 때문에 num으로 변경하였다.\n",
    "\n",
    "# 모델 평가\n",
    "직접 레이팅을 5점을 준 영화의 경우 50%가 넘었으며 랜덤하게 뽑은 영화에의 경우 1.6%가 나오는 등 확실한 차이를 보였다.\n",
    "15개의 유사 영화의 경우 20%내외로 점수가 높지는 않았지만 추천된 영화는 대부분 비슷한 장르인 Sci_Fi와 Thriller로 뽑히는 것을 확인할 수 있었다."
   ]
  }
 ],
 "metadata": {
  "kernelspec": {
   "display_name": "aiffel",
   "language": "python",
   "name": "aiffel"
  },
  "language_info": {
   "codemirror_mode": {
    "name": "ipython",
    "version": 3
   },
   "file_extension": ".py",
   "mimetype": "text/x-python",
   "name": "python",
   "nbconvert_exporter": "python",
   "pygments_lexer": "ipython3",
   "version": "3.7.9"
  }
 },
 "nbformat": 4,
 "nbformat_minor": 4
}
