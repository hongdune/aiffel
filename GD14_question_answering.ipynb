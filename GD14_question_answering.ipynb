{
 "cells": [
  {
   "cell_type": "markdown",
   "metadata": {},
   "source": [
    "# 14-6. 프로젝트: 한국어 QA 모델 만들기"
   ]
  },
  {
   "cell_type": "code",
   "execution_count": 1,
   "metadata": {},
   "outputs": [],
   "source": [
    "from tensorflow.keras.utils import get_file\n",
    "from tensorflow.keras.preprocessing.sequence import pad_sequences\n",
    "from tensorflow.keras.utils import to_categorical\n",
    "import numpy as np\n",
    "import tarfile\n",
    "from nltk import FreqDist\n",
    "from functools import reduce\n",
    "import os\n",
    "import re\n",
    "from ckonlpy.tag import Twitter\n",
    "from tensorflow.keras.models import Sequential, Model\n",
    "from tensorflow.keras.layers import Embedding\n",
    "from tensorflow.keras.layers import Permute, dot, add, concatenate\n",
    "from tensorflow.keras.layers import LSTM, Dense, Dropout, Input, Activation\n",
    "import matplotlib.pyplot as plt"
   ]
  },
  {
   "cell_type": "markdown",
   "metadata": {},
   "source": [
    "## Step 1. 데이터 셋 준비"
   ]
  },
  {
   "cell_type": "code",
   "execution_count": 2,
   "metadata": {},
   "outputs": [],
   "source": [
    "# 환경에 맞게 경로 적절히 수정\n",
    "DATA_DIR = os.getenv('HOME')+'/aiffel/memory_network'\n",
    "TRAIN_FILE = os.path.join(DATA_DIR, \"qa1_single-supporting-fact_train_kor.txt\")\n",
    "TEST_FILE = os.path.join(DATA_DIR, \"qa1_single-supporting-fact_test_kor.txt\")"
   ]
  },
  {
   "cell_type": "code",
   "execution_count": 3,
   "metadata": {},
   "outputs": [
    {
     "name": "stdout",
     "output_type": "stream",
     "text": [
      "1 필웅이는 화장실로 갔습니다.\n",
      "2 은경이는 복도로 이동했습니다.\n",
      "3 필웅이는 어디야? \t화장실\t1\n",
      "4 수종이는 복도로 복귀했습니다.\n",
      "5 경임이는 정원으로 갔습니다.\n",
      "6 수종이는 어디야? \t복도\t4\n",
      "7 은경이는 사무실로 갔습니다.\n",
      "8 경임이는 화장실로 뛰어갔습니다.\n",
      "9 수종이는 어디야? \t복도\t4\n",
      "10 필웅이는 복도로 갔습니다.\n",
      "11 수종이는 사무실로 가버렸습니다.\n",
      "12 수종이는 어디야? \t사무실\t11\n",
      "13 은경이는 정원으로 복귀했습니다.\n",
      "14 은경이는 침실로 갔습니다.\n",
      "15 경임이는 어디야? \t화장실\t8\n",
      "1 경임이는 사무실로 가버렸습니다.\n",
      "2 경임이는 화장실로 이동했습니다.\n",
      "3 경임이는 어디야? \t화장실\t2\n",
      "4 필웅이는 침실로 이동했습니다.\n",
      "5 수종이는 복도로 갔습니다.\n"
     ]
    }
   ],
   "source": [
    "i = 0\n",
    "lines = open(TRAIN_FILE , \"rb\")\n",
    "for line in lines:\n",
    "    line = line.decode(\"utf-8\").strip()\n",
    "    # lno, text = line.split(\" \", 1) # ID와 TEXT 분리\n",
    "    i = i + 1\n",
    "    print(line)\n",
    "    if i == 20:\n",
    "        break"
   ]
  },
  {
   "cell_type": "code",
   "execution_count": 4,
   "metadata": {},
   "outputs": [],
   "source": [
    "def read_data(dir):\n",
    "    stories, questions, answers = [], [], [] # 각각 스토리, 질문, 답변을 저장할 예정\n",
    "    story_temp = [] # 현재 시점의 스토리 임시 저장\n",
    "    lines = open(dir, \"rb\")\n",
    "\n",
    "    for line in lines:\n",
    "        line = line.decode(\"utf-8\") # b' 제거\n",
    "        line = line.strip() # '\\n' 제거\n",
    "        idx, text = line.split(\" \", 1) # 맨 앞에 있는 id number 분리\n",
    "        # 여기까지는 모든 줄에 적용되는 전처리\n",
    "\n",
    "        if int(idx) == 1:\n",
    "            story_temp = []\n",
    "        \n",
    "        if \"\\t\" in text: # 현재 읽는 줄이 질문 (tab) 답변 (tab)인 경우\n",
    "            question, answer, _ = text.split(\"\\t\") # 질문과 답변을 각각 저장\n",
    "            stories.append([x for x in story_temp if x]) # 지금까지의 누적 스토리를 스토리에 저장\n",
    "            questions.append(question)\n",
    "            answers.append(answer)\n",
    "\n",
    "        else: # 현재 읽는 줄이 스토리인 경우\n",
    "            story_temp.append(text) # 임시 저장\n",
    "\n",
    "    lines.close()\n",
    "    return stories, questions, answers"
   ]
  },
  {
   "cell_type": "code",
   "execution_count": 5,
   "metadata": {},
   "outputs": [],
   "source": [
    "train_data = read_data(TRAIN_FILE)\n",
    "test_data = read_data(TEST_FILE)"
   ]
  },
  {
   "cell_type": "code",
   "execution_count": 6,
   "metadata": {},
   "outputs": [],
   "source": [
    "train_stories, train_questions, train_answers = read_data(TRAIN_FILE)\n",
    "test_stories, test_questions, test_answers = read_data(TEST_FILE)"
   ]
  },
  {
   "cell_type": "code",
   "execution_count": 7,
   "metadata": {},
   "outputs": [
    {
     "name": "stdout",
     "output_type": "stream",
     "text": [
      "10000\n",
      "10000\n",
      "10000\n",
      "1000\n",
      "1000\n",
      "1000\n"
     ]
    }
   ],
   "source": [
    "print(len(train_stories))\n",
    "print(len(train_questions))\n",
    "print(len(train_answers))\n",
    "print(len(test_stories))\n",
    "print(len(test_questions))\n",
    "print(len(test_answers))"
   ]
  },
  {
   "cell_type": "code",
   "execution_count": 8,
   "metadata": {},
   "outputs": [
    {
     "data": {
      "text/plain": [
       "['수종이는 화장실로 뛰어갔습니다.',\n",
       " '경임이는 사무실로 갔습니다.',\n",
       " '은경이는 부엌으로 이동했습니다.',\n",
       " '경임이는 화장실로 갔습니다.',\n",
       " '수종이는 복도로 갔습니다.',\n",
       " '필웅이는 부엌으로 가버렸습니다.',\n",
       " '수종이는 부엌으로 이동했습니다.',\n",
       " '수종이는 화장실로 가버렸습니다.']"
      ]
     },
     "execution_count": 8,
     "metadata": {},
     "output_type": "execute_result"
    }
   ],
   "source": [
    "train_stories[3878]"
   ]
  },
  {
   "cell_type": "code",
   "execution_count": 9,
   "metadata": {},
   "outputs": [
    {
     "data": {
      "text/plain": [
       "['필웅이는 어디야? ', '수종이는 어디야? ', '수종이는 어디야? ', '수종이는 어디야? ', '경임이는 어디야? ']"
      ]
     },
     "execution_count": 9,
     "metadata": {},
     "output_type": "execute_result"
    }
   ],
   "source": [
    "train_questions[:5]"
   ]
  },
  {
   "cell_type": "code",
   "execution_count": 10,
   "metadata": {
    "scrolled": true
   },
   "outputs": [
    {
     "data": {
      "text/plain": [
       "['화장실', '복도', '복도', '사무실', '화장실']"
      ]
     },
     "execution_count": 10,
     "metadata": {},
     "output_type": "execute_result"
    }
   ],
   "source": [
    "train_answers[:5]"
   ]
  },
  {
   "cell_type": "code",
   "execution_count": null,
   "metadata": {},
   "outputs": [],
   "source": []
  },
  {
   "cell_type": "markdown",
   "metadata": {},
   "source": [
    "## Step 2. tokenizer"
   ]
  },
  {
   "cell_type": "code",
   "execution_count": 11,
   "metadata": {},
   "outputs": [],
   "source": [
    "names = []\n",
    "\n",
    "for i in range(10000):\n",
    "    sen_list = train_stories[i]\n",
    "    for j in range(0, len(sen_list)):\n",
    "        sen = sen_list[j].split(' ')\n",
    "        name = sen[0][:-1]\n",
    "        if name not in names:\n",
    "            names.append(name)"
   ]
  },
  {
   "cell_type": "code",
   "execution_count": 12,
   "metadata": {},
   "outputs": [
    {
     "data": {
      "text/plain": [
       "['필웅이', '은경이', '수종이', '경임이']"
      ]
     },
     "execution_count": 12,
     "metadata": {},
     "output_type": "execute_result"
    }
   ],
   "source": [
    "names"
   ]
  },
  {
   "cell_type": "code",
   "execution_count": 13,
   "metadata": {},
   "outputs": [
    {
     "name": "stderr",
     "output_type": "stream",
     "text": [
      "/home/aiffel0042/anaconda3/envs/aiffel/lib/python3.7/site-packages/konlpy/tag/_okt.py:16: UserWarning: \"Twitter\" has changed to \"Okt\" since KoNLPy v0.4.5.\n",
      "  warn('\"Twitter\" has changed to \"Okt\" since KoNLPy v0.4.5.')\n"
     ]
    },
    {
     "name": "stdout",
     "output_type": "stream",
     "text": [
      "필웅이\n",
      "은경이\n",
      "수종이\n",
      "경임이\n"
     ]
    }
   ],
   "source": [
    "twitter = Twitter()\n",
    "\n",
    "for name in names:\n",
    "    twitter.add_dictionary(name, 'Noun')\n",
    "    print(name)"
   ]
  },
  {
   "cell_type": "markdown",
   "metadata": {},
   "source": [
    "## Step 3. 형태소 분석 후 불용어 처리하기"
   ]
  },
  {
   "cell_type": "code",
   "execution_count": 14,
   "metadata": {},
   "outputs": [],
   "source": [
    "stopwords = ['는', '로', '으로']"
   ]
  },
  {
   "cell_type": "code",
   "execution_count": 15,
   "metadata": {},
   "outputs": [],
   "source": [
    "# def preprocess_data(train_data, test_data):\n",
    "#     counter = FreqDist()\n",
    "    \n",
    "#     # 두 문장의 story를 하나의 문장으로 통합하는 함수\n",
    "#     flatten = lambda data: reduce(lambda x, y: x + y, data)\n",
    "\n",
    "#     # 각 샘플의 길이를 저장하는 리스트\n",
    "#     story_len = []\n",
    "#     question_len = []\n",
    "    \n",
    "#     for stories, questions, answers in [train_data, test_data]:\n",
    "#         for story in stories:\n",
    "#             stories = twitter.morphs(flatten(story)) # 스토리의 문장들을 펼친 후 토큰화\n",
    "#             story_len.append(len(stories)) # 각 story의 길이 저장\n",
    "#             for word in stories: # 단어 집합에 단어 추가\n",
    "#                 counter[word] += 1\n",
    "#         for question in questions:\n",
    "#             question = twitter.morphs(question)\n",
    "#             question_len.append(len(question))\n",
    "#             for word in question:\n",
    "#                 counter[word] += 1\n",
    "#         for answer in answers:\n",
    "#             answer = twitter.morphs(answer)\n",
    "#             for word in answer:\n",
    "#                 counter[word] += 1\n",
    "\n",
    "#     # 단어장 생성\n",
    "#     word2idx = {word : (idx + 1) for idx, (word, _) in enumerate(counter.most_common())}\n",
    "#     idx2word = {idx : word for word, idx in word2idx.items()}\n",
    "\n",
    "#     # 가장 긴 샘플의 길이\n",
    "#     story_max_len = np.max(story_len)\n",
    "#     question_max_len = np.max(question_len)\n",
    "\n",
    "#     return word2idx, idx2word, story_max_len, question_max_len"
   ]
  },
  {
   "cell_type": "code",
   "execution_count": 16,
   "metadata": {},
   "outputs": [],
   "source": [
    "def preprocess_data(train_data, test_data): #불용어 사용\n",
    "    counter = FreqDist()\n",
    "    \n",
    "    # 두 문장의 story를 하나의 문장으로 통합하는 함수\n",
    "    flatten = lambda data: reduce(lambda x, y: x + y, data)\n",
    "\n",
    "    # 각 샘플의 길이를 저장하는 리스트\n",
    "    story_len = []\n",
    "    question_len = []\n",
    "    \n",
    "    for stories, questions, answers in [train_data, test_data]:\n",
    "        for story in stories:\n",
    "            stories = twitter.morphs(flatten(story)) # 스토리의 문장들을 펼친 후 토큰화\n",
    "            story_len.append(len(stories)) # 각 story의 길이 저장\n",
    "            for word in stories: # 단어 집합에 단어 추가\n",
    "                if word not in stopwords:\n",
    "                    counter[word] += 1\n",
    "        for question in questions:\n",
    "            question = twitter.morphs(question)\n",
    "            question_len.append(len(question))\n",
    "            for word in question:\n",
    "                if word not in stopwords:\n",
    "                    counter[word] += 1\n",
    "        for answer in answers:\n",
    "            answer = twitter.morphs(answer)\n",
    "            for word in answer:\n",
    "                if word not in stopwords:\n",
    "                    counter[word] += 1\n",
    "\n",
    "    # 단어장 생성\n",
    "    word2idx = {word : (idx + 1) for idx, (word, _) in enumerate(counter.most_common())}\n",
    "    idx2word = {idx : word for word, idx in word2idx.items()}\n",
    "\n",
    "    # 가장 긴 샘플의 길이\n",
    "    story_max_len = np.max(story_len)\n",
    "    question_max_len = np.max(question_len)\n",
    "\n",
    "    return word2idx, idx2word, story_max_len, question_max_len"
   ]
  },
  {
   "cell_type": "code",
   "execution_count": 17,
   "metadata": {},
   "outputs": [],
   "source": [
    "word2idx, idx2word, story_max_len, question_max_len = preprocess_data(train_data, test_data)"
   ]
  },
  {
   "cell_type": "code",
   "execution_count": 18,
   "metadata": {
    "scrolled": true
   },
   "outputs": [
    {
     "name": "stdout",
     "output_type": "stream",
     "text": [
      "{'.': 1, '했습니다': 2, '경임이': 3, '은경이': 4, '수종이': 5, '필웅이': 6, '이동': 7, '가버렸습니다': 8, '뛰어갔습니다': 9, '복귀': 10, '화장실': 11, '정원': 12, '복도': 13, '갔습니다': 14, '사무실': 15, '부엌': 16, '침실': 17, '어디': 18, '야': 19, '?': 20}\n"
     ]
    }
   ],
   "source": [
    "print(word2idx)"
   ]
  },
  {
   "cell_type": "code",
   "execution_count": 40,
   "metadata": {},
   "outputs": [
    {
     "name": "stdout",
     "output_type": "stream",
     "text": [
      "{1: '.', 2: '했습니다', 3: '경임이', 4: '은경이', 5: '수종이', 6: '필웅이', 7: '이동', 8: '가버렸습니다', 9: '뛰어갔습니다', 10: '복귀', 11: '화장실', 12: '정원', 13: '복도', 14: '갔습니다', 15: '사무실', 16: '부엌', 17: '침실', 18: '어디', 19: '야', 20: '?'}\n"
     ]
    }
   ],
   "source": [
    "print(idx2word)"
   ]
  },
  {
   "cell_type": "code",
   "execution_count": 19,
   "metadata": {},
   "outputs": [],
   "source": [
    "vocab_size = len(word2idx) + 1"
   ]
  },
  {
   "cell_type": "code",
   "execution_count": 41,
   "metadata": {},
   "outputs": [],
   "source": [
    "#vocab에 pad 추가\n",
    "\n",
    "word2idx['<pad>'] = 0\n",
    "idx2word[0] = '<pad>'"
   ]
  },
  {
   "cell_type": "code",
   "execution_count": 42,
   "metadata": {},
   "outputs": [
    {
     "name": "stdout",
     "output_type": "stream",
     "text": [
      "{'.': 1, '했습니다': 2, '경임이': 3, '은경이': 4, '수종이': 5, '필웅이': 6, '이동': 7, '가버렸습니다': 8, '뛰어갔습니다': 9, '복귀': 10, '화장실': 11, '정원': 12, '복도': 13, '갔습니다': 14, '사무실': 15, '부엌': 16, '침실': 17, '어디': 18, '야': 19, '?': 20, '<pad>': 0}\n",
      "{1: '.', 2: '했습니다', 3: '경임이', 4: '은경이', 5: '수종이', 6: '필웅이', 7: '이동', 8: '가버렸습니다', 9: '뛰어갔습니다', 10: '복귀', 11: '화장실', 12: '정원', 13: '복도', 14: '갔습니다', 15: '사무실', 16: '부엌', 17: '침실', 18: '어디', 19: '야', 20: '?', 0: '<pad>'}\n"
     ]
    }
   ],
   "source": [
    "print(word2idx)\n",
    "print(idx2word)"
   ]
  },
  {
   "cell_type": "code",
   "execution_count": 20,
   "metadata": {},
   "outputs": [
    {
     "name": "stdout",
     "output_type": "stream",
     "text": [
      "스토리의 최대 길이 : 70\n",
      "질문의 최대 길이 : 5\n"
     ]
    }
   ],
   "source": [
    "print('스토리의 최대 길이 :',story_max_len)\n",
    "print('질문의 최대 길이 :',question_max_len)"
   ]
  },
  {
   "cell_type": "code",
   "execution_count": null,
   "metadata": {},
   "outputs": [],
   "source": []
  },
  {
   "cell_type": "markdown",
   "metadata": {},
   "source": [
    "## Step 4. vectorize"
   ]
  },
  {
   "cell_type": "code",
   "execution_count": 21,
   "metadata": {},
   "outputs": [],
   "source": [
    "# def vectorize(data, word2idx, story_maxlen, question_maxlen):\n",
    "#     Xs, Xq, Y = [], [], []\n",
    "#     flatten = lambda data: reduce(lambda x, y: x + y, data)\n",
    "\n",
    "#     stories, questions, answers = data\n",
    "#     for story, question, answer in zip(stories, questions, answers):\n",
    "#         xs = [word2idx[w] for w in twitter.morphs(flatten(story))]\n",
    "#         xq = [word2idx[w] for w in twitter.morphs(question)]\n",
    "#         Xs.append(xs)\n",
    "#         Xq.append(xq)\n",
    "#         Y.append(word2idx[answer])\n",
    "\n",
    "#     # 스토리와 질문은 각각의 최대 길이로 패딩\n",
    "#     # 정답은 원-핫 인코딩\n",
    "#     return pad_sequences(Xs, maxlen=story_maxlen),\\\n",
    "#            pad_sequences(Xq, maxlen=question_maxlen),\\\n",
    "#            to_categorical(Y, num_classes=len(word2idx) + 1)"
   ]
  },
  {
   "cell_type": "code",
   "execution_count": 22,
   "metadata": {},
   "outputs": [],
   "source": [
    "def vectorize(data, word2idx, story_maxlen, question_maxlen): #불용어 사용\n",
    "    Xs, Xq, Y = [], [], []\n",
    "    flatten = lambda data: reduce(lambda x, y: x + y, data)\n",
    "\n",
    "    stories, questions, answers = data\n",
    "    for story, question, answer in zip(stories, questions, answers):\n",
    "        xs = []\n",
    "        for w in twitter.morphs(flatten(story)):\n",
    "            if w not in stopwords:\n",
    "                xs.append(word2idx[w])\n",
    "        \n",
    "        xq = []\n",
    "        for w in twitter.morphs(flatten(question)):\n",
    "            if w not in stopwords:\n",
    "                xq.append(word2idx[w])\n",
    "\n",
    "        Xs.append(xs)\n",
    "        Xq.append(xq)\n",
    "        Y.append(word2idx[answer])\n",
    "\n",
    "    # 스토리와 질문은 각각의 최대 길이로 패딩\n",
    "    # 정답은 원-핫 인코딩\n",
    "    return pad_sequences(Xs, maxlen=story_maxlen),\\\n",
    "           pad_sequences(Xq, maxlen=question_maxlen),\\\n",
    "           to_categorical(Y, num_classes=len(word2idx) + 1)"
   ]
  },
  {
   "cell_type": "code",
   "execution_count": 23,
   "metadata": {},
   "outputs": [],
   "source": [
    "Xstrain, Xqtrain, Ytrain = vectorize(train_data, word2idx, story_max_len, question_max_len)\n",
    "Xstest, Xqtest, Ytest = vectorize(test_data, word2idx, story_max_len, question_max_len)"
   ]
  },
  {
   "cell_type": "code",
   "execution_count": 24,
   "metadata": {},
   "outputs": [
    {
     "name": "stdout",
     "output_type": "stream",
     "text": [
      "(10000, 70) (10000, 5) (10000, 21) (1000, 70) (1000, 5) (1000, 21)\n"
     ]
    }
   ],
   "source": [
    "print(Xstrain.shape, Xqtrain.shape, Ytrain.shape, Xstest.shape, Xqtest.shape, Ytest.shape)"
   ]
  },
  {
   "cell_type": "code",
   "execution_count": null,
   "metadata": {},
   "outputs": [],
   "source": []
  },
  {
   "cell_type": "markdown",
   "metadata": {},
   "source": [
    "## Step 5. momory network"
   ]
  },
  {
   "cell_type": "code",
   "execution_count": 25,
   "metadata": {},
   "outputs": [],
   "source": [
    "# 에포크 횟수\n",
    "train_epochs = 120\n",
    "# 배치 크기\n",
    "batch_size = 32\n",
    "# 임베딩 크기\n",
    "embed_size = 50\n",
    "# LSTM의 크기\n",
    "lstm_size = 64\n",
    "# 과적합 방지 기법인 드롭아웃 적용 비율\n",
    "dropout_rate = 0.30"
   ]
  },
  {
   "cell_type": "code",
   "execution_count": 26,
   "metadata": {},
   "outputs": [
    {
     "name": "stdout",
     "output_type": "stream",
     "text": [
      "Stories : Tensor(\"input_1:0\", shape=(None, 70), dtype=float32)\n",
      "Question: Tensor(\"input_2:0\", shape=(None, 5), dtype=float32)\n"
     ]
    }
   ],
   "source": [
    "input_sequence = Input((story_max_len,))\n",
    "question = Input((question_max_len,))\n",
    " \n",
    "print('Stories :', input_sequence)\n",
    "print('Question:', question)"
   ]
  },
  {
   "cell_type": "code",
   "execution_count": 27,
   "metadata": {},
   "outputs": [],
   "source": [
    "# 스토리를 위한 첫번째 임베딩. 그림에서의 Embedding A\n",
    "input_encoder_m = Sequential()\n",
    "input_encoder_m.add(Embedding(input_dim=vocab_size,\n",
    "                              output_dim=embed_size))\n",
    "input_encoder_m.add(Dropout(dropout_rate))\n",
    "# 결과 : (samples, story_max_len, embed_size) / 샘플의 수, 문장의 최대 길이, 임베딩 벡터의 차원\n",
    " \n",
    "# 스토리를 위한 두번째 임베딩. 그림에서의 Embedding C\n",
    "# 임베딩 벡터의 차원을 question_max_len(질문의 최대 길이)로 한다.\n",
    "input_encoder_c = Sequential()\n",
    "input_encoder_c.add(Embedding(input_dim=vocab_size,\n",
    "                              output_dim=question_max_len))\n",
    "input_encoder_c.add(Dropout(dropout_rate))\n",
    "# 결과 : (samples, story_max_len, question_max_len) / 샘플의 수, 문장의 최대 길이, 질문의 최대 길이(임베딩 벡터의 차원)"
   ]
  },
  {
   "cell_type": "code",
   "execution_count": 28,
   "metadata": {},
   "outputs": [],
   "source": [
    "# 질문을 위한 임베딩. 그림에서의 Embedding B\n",
    "question_encoder = Sequential()\n",
    "question_encoder.add(Embedding(input_dim=vocab_size,\n",
    "                               output_dim=embed_size,\n",
    "                               input_length=question_max_len))\n",
    "question_encoder.add(Dropout(dropout_rate))\n",
    "# 결과 : (samples, question_max_len, embed_size) / 샘플의 수, 질문의 최대 길이, 임베딩 벡터의 차원"
   ]
  },
  {
   "cell_type": "code",
   "execution_count": 29,
   "metadata": {},
   "outputs": [
    {
     "name": "stdout",
     "output_type": "stream",
     "text": [
      "Input encoded m Tensor(\"sequential/Identity:0\", shape=(None, 70, 50), dtype=float32)\n",
      "Input encoded c Tensor(\"sequential_1/Identity:0\", shape=(None, 70, 5), dtype=float32)\n",
      "Question encoded Tensor(\"sequential_2/Identity:0\", shape=(None, 5, 50), dtype=float32)\n"
     ]
    }
   ],
   "source": [
    "# 실질적인 임베딩 과정\n",
    "input_encoded_m = input_encoder_m(input_sequence)\n",
    "input_encoded_c = input_encoder_c(input_sequence)\n",
    "question_encoded = question_encoder(question)\n",
    "\n",
    "print('Input encoded m', input_encoded_m)\n",
    "print('Input encoded c', input_encoded_c)\n",
    "print('Question encoded', question_encoded)"
   ]
  },
  {
   "cell_type": "code",
   "execution_count": 30,
   "metadata": {},
   "outputs": [
    {
     "name": "stdout",
     "output_type": "stream",
     "text": [
      "Match shape Tensor(\"activation/Identity:0\", shape=(None, 70, 5), dtype=float32)\n"
     ]
    }
   ],
   "source": [
    "# 스토리 단어들과 질문 단어들 간의 유사도를 구하는 과정\n",
    "# 유사도는 내적을 사용한다.\n",
    "match = dot([input_encoded_m, question_encoded], axes=-1, normalize=False)\n",
    "match = Activation('softmax')(match)\n",
    "print('Match shape', match)\n",
    "# 결과 : (samples, story_max_len, question_max_len) / 샘플의 수, 문장의 최대 길이, 질문의 최대 길이"
   ]
  },
  {
   "cell_type": "code",
   "execution_count": 31,
   "metadata": {},
   "outputs": [
    {
     "name": "stdout",
     "output_type": "stream",
     "text": [
      "Response shape Tensor(\"permute/Identity:0\", shape=(None, 5, 70), dtype=float32)\n"
     ]
    }
   ],
   "source": [
    "# 매칭 유사도 행렬과 질문에 대한 임베딩을 더한다.\n",
    "response = add([match, input_encoded_c])  # (samples, story_maxlen, question_max_len)\n",
    "response = Permute((2, 1))(response)  # (samples, question_max_len, story_maxlen)\n",
    "print('Response shape', response)"
   ]
  },
  {
   "cell_type": "code",
   "execution_count": 32,
   "metadata": {},
   "outputs": [
    {
     "name": "stdout",
     "output_type": "stream",
     "text": [
      "Answer shape Tensor(\"concatenate/Identity:0\", shape=(None, 5, 120), dtype=float32)\n"
     ]
    }
   ],
   "source": [
    "# concatenate the response vector with the question vector sequence\n",
    "answer = concatenate([response, question_encoded])\n",
    "print('Answer shape', answer)\n",
    " \n",
    "answer = LSTM(lstm_size)(answer)  # Generate tensors of shape 32\n",
    "answer = Dropout(dropout_rate)(answer)\n",
    "answer = Dense(vocab_size)(answer)  # (samples, vocab_size)\n",
    "# we output a probability distribution over the vocabulary\n",
    "answer = Activation('softmax')(answer)"
   ]
  },
  {
   "cell_type": "code",
   "execution_count": null,
   "metadata": {},
   "outputs": [],
   "source": []
  },
  {
   "cell_type": "markdown",
   "metadata": {},
   "source": [
    "## Step 6. training"
   ]
  },
  {
   "cell_type": "code",
   "execution_count": 33,
   "metadata": {
    "scrolled": true
   },
   "outputs": [
    {
     "name": "stdout",
     "output_type": "stream",
     "text": [
      "Epoch 1/120\n",
      "313/313 [==============================] - 1s 4ms/step - loss: 1.8940 - acc: 0.1654 - val_loss: 1.7976 - val_acc: 0.1960\n",
      "Epoch 2/120\n",
      "313/313 [==============================] - 1s 2ms/step - loss: 1.7452 - acc: 0.2268 - val_loss: 1.6397 - val_acc: 0.2890\n",
      "Epoch 3/120\n",
      "313/313 [==============================] - 1s 3ms/step - loss: 1.6316 - acc: 0.3132 - val_loss: 1.5417 - val_acc: 0.3730\n",
      "Epoch 4/120\n",
      "313/313 [==============================] - 1s 3ms/step - loss: 1.5318 - acc: 0.3853 - val_loss: 1.5003 - val_acc: 0.4170\n",
      "Epoch 5/120\n",
      "313/313 [==============================] - 1s 3ms/step - loss: 1.4874 - acc: 0.4194 - val_loss: 1.4567 - val_acc: 0.4480\n",
      "Epoch 6/120\n",
      "313/313 [==============================] - 1s 3ms/step - loss: 1.4309 - acc: 0.4569 - val_loss: 1.4098 - val_acc: 0.4390\n",
      "Epoch 7/120\n",
      "313/313 [==============================] - 1s 3ms/step - loss: 1.3801 - acc: 0.4759 - val_loss: 1.3781 - val_acc: 0.4780\n",
      "Epoch 8/120\n",
      "313/313 [==============================] - 1s 3ms/step - loss: 1.3471 - acc: 0.4792 - val_loss: 1.3498 - val_acc: 0.4780\n",
      "Epoch 9/120\n",
      "313/313 [==============================] - 1s 3ms/step - loss: 1.3287 - acc: 0.4969 - val_loss: 1.3232 - val_acc: 0.4950\n",
      "Epoch 10/120\n",
      "313/313 [==============================] - 1s 3ms/step - loss: 1.3040 - acc: 0.4967 - val_loss: 1.2963 - val_acc: 0.5090\n",
      "Epoch 11/120\n",
      "313/313 [==============================] - 1s 3ms/step - loss: 1.2865 - acc: 0.5052 - val_loss: 1.2539 - val_acc: 0.5160\n",
      "Epoch 12/120\n",
      "313/313 [==============================] - 1s 3ms/step - loss: 1.2617 - acc: 0.5136 - val_loss: 1.2411 - val_acc: 0.5170\n",
      "Epoch 13/120\n",
      "313/313 [==============================] - 1s 3ms/step - loss: 1.2496 - acc: 0.5085 - val_loss: 1.2378 - val_acc: 0.5270\n",
      "Epoch 14/120\n",
      "313/313 [==============================] - 1s 3ms/step - loss: 1.2295 - acc: 0.5215 - val_loss: 1.2200 - val_acc: 0.5260\n",
      "Epoch 15/120\n",
      "313/313 [==============================] - 1s 3ms/step - loss: 1.2192 - acc: 0.5226 - val_loss: 1.2218 - val_acc: 0.5150\n",
      "Epoch 16/120\n",
      "313/313 [==============================] - 1s 3ms/step - loss: 1.2118 - acc: 0.5200 - val_loss: 1.1981 - val_acc: 0.5180\n",
      "Epoch 17/120\n",
      "313/313 [==============================] - 1s 3ms/step - loss: 1.1980 - acc: 0.5180 - val_loss: 1.2234 - val_acc: 0.5170\n",
      "Epoch 18/120\n",
      "313/313 [==============================] - 1s 3ms/step - loss: 1.1897 - acc: 0.5258 - val_loss: 1.2960 - val_acc: 0.4810\n",
      "Epoch 19/120\n",
      "313/313 [==============================] - 1s 3ms/step - loss: 1.1865 - acc: 0.5231 - val_loss: 1.2000 - val_acc: 0.5110\n",
      "Epoch 20/120\n",
      "313/313 [==============================] - 1s 3ms/step - loss: 1.1835 - acc: 0.5229 - val_loss: 1.1897 - val_acc: 0.5180\n",
      "Epoch 21/120\n",
      "313/313 [==============================] - 1s 3ms/step - loss: 1.1758 - acc: 0.5270 - val_loss: 1.1901 - val_acc: 0.5260\n",
      "Epoch 22/120\n",
      "313/313 [==============================] - 1s 3ms/step - loss: 1.1592 - acc: 0.5345 - val_loss: 1.1903 - val_acc: 0.5240\n",
      "Epoch 23/120\n",
      "313/313 [==============================] - 1s 3ms/step - loss: 1.1578 - acc: 0.5270 - val_loss: 1.1891 - val_acc: 0.5170\n",
      "Epoch 24/120\n",
      "313/313 [==============================] - 1s 3ms/step - loss: 1.1451 - acc: 0.5319 - val_loss: 1.1986 - val_acc: 0.5150\n",
      "Epoch 25/120\n",
      "313/313 [==============================] - 1s 3ms/step - loss: 1.1504 - acc: 0.5334 - val_loss: 1.1824 - val_acc: 0.5220\n",
      "Epoch 26/120\n",
      "313/313 [==============================] - 1s 3ms/step - loss: 1.1395 - acc: 0.5318 - val_loss: 1.1793 - val_acc: 0.5090\n",
      "Epoch 27/120\n",
      "313/313 [==============================] - 1s 3ms/step - loss: 1.1332 - acc: 0.5343 - val_loss: 1.1860 - val_acc: 0.5280\n",
      "Epoch 28/120\n",
      "313/313 [==============================] - 1s 3ms/step - loss: 1.1271 - acc: 0.5350 - val_loss: 1.1969 - val_acc: 0.5220\n",
      "Epoch 29/120\n",
      "313/313 [==============================] - 1s 3ms/step - loss: 1.1186 - acc: 0.5362 - val_loss: 1.1982 - val_acc: 0.5220\n",
      "Epoch 30/120\n",
      "313/313 [==============================] - 1s 3ms/step - loss: 1.1145 - acc: 0.5337 - val_loss: 1.1790 - val_acc: 0.5170\n",
      "Epoch 31/120\n",
      "313/313 [==============================] - 1s 3ms/step - loss: 1.1079 - acc: 0.5447 - val_loss: 1.1850 - val_acc: 0.5230\n",
      "Epoch 32/120\n",
      "313/313 [==============================] - 1s 3ms/step - loss: 1.1019 - acc: 0.5418 - val_loss: 1.1757 - val_acc: 0.5270\n",
      "Epoch 33/120\n",
      "313/313 [==============================] - 1s 3ms/step - loss: 1.0989 - acc: 0.5492 - val_loss: 1.2084 - val_acc: 0.5290\n",
      "Epoch 34/120\n",
      "313/313 [==============================] - 1s 3ms/step - loss: 1.0911 - acc: 0.5522 - val_loss: 1.1943 - val_acc: 0.5300\n",
      "Epoch 35/120\n",
      "313/313 [==============================] - 1s 3ms/step - loss: 1.0835 - acc: 0.5492 - val_loss: 1.1738 - val_acc: 0.5180\n",
      "Epoch 36/120\n",
      "313/313 [==============================] - 1s 3ms/step - loss: 1.0775 - acc: 0.5622 - val_loss: 1.1677 - val_acc: 0.5240\n",
      "Epoch 37/120\n",
      "313/313 [==============================] - 1s 3ms/step - loss: 1.0759 - acc: 0.5545 - val_loss: 1.1723 - val_acc: 0.5400\n",
      "Epoch 38/120\n",
      "313/313 [==============================] - 1s 4ms/step - loss: 1.0605 - acc: 0.5641 - val_loss: 1.1782 - val_acc: 0.5470\n",
      "Epoch 39/120\n",
      "313/313 [==============================] - 1s 3ms/step - loss: 1.0518 - acc: 0.5701 - val_loss: 1.1869 - val_acc: 0.5460\n",
      "Epoch 40/120\n",
      "313/313 [==============================] - 1s 3ms/step - loss: 1.0428 - acc: 0.5752 - val_loss: 1.1508 - val_acc: 0.5580\n",
      "Epoch 41/120\n",
      "313/313 [==============================] - 1s 3ms/step - loss: 1.0216 - acc: 0.5936 - val_loss: 1.1247 - val_acc: 0.5660\n",
      "Epoch 42/120\n",
      "313/313 [==============================] - 1s 3ms/step - loss: 1.0114 - acc: 0.6044 - val_loss: 1.1108 - val_acc: 0.5840\n",
      "Epoch 43/120\n",
      "313/313 [==============================] - 1s 3ms/step - loss: 0.9825 - acc: 0.6201 - val_loss: 1.0673 - val_acc: 0.6020\n",
      "Epoch 44/120\n",
      "313/313 [==============================] - 1s 3ms/step - loss: 0.9586 - acc: 0.6335 - val_loss: 1.0722 - val_acc: 0.6110\n",
      "Epoch 45/120\n",
      "313/313 [==============================] - 1s 3ms/step - loss: 0.9206 - acc: 0.6488 - val_loss: 1.0346 - val_acc: 0.6230\n",
      "Epoch 46/120\n",
      "313/313 [==============================] - 1s 3ms/step - loss: 0.8830 - acc: 0.6658 - val_loss: 0.9436 - val_acc: 0.6610\n",
      "Epoch 47/120\n",
      "313/313 [==============================] - 1s 3ms/step - loss: 0.8485 - acc: 0.6867 - val_loss: 0.9010 - val_acc: 0.6840\n",
      "Epoch 48/120\n",
      "313/313 [==============================] - 1s 3ms/step - loss: 0.8121 - acc: 0.7037 - val_loss: 0.8913 - val_acc: 0.7010\n",
      "Epoch 49/120\n",
      "313/313 [==============================] - 1s 3ms/step - loss: 0.7665 - acc: 0.7229 - val_loss: 0.8233 - val_acc: 0.7190\n",
      "Epoch 50/120\n",
      "313/313 [==============================] - 1s 3ms/step - loss: 0.7254 - acc: 0.7404 - val_loss: 0.7890 - val_acc: 0.7310\n",
      "Epoch 51/120\n",
      "313/313 [==============================] - 1s 3ms/step - loss: 0.6953 - acc: 0.7506 - val_loss: 0.7550 - val_acc: 0.7410\n",
      "Epoch 52/120\n",
      "313/313 [==============================] - 1s 3ms/step - loss: 0.6467 - acc: 0.7668 - val_loss: 0.7303 - val_acc: 0.7410\n",
      "Epoch 53/120\n",
      "313/313 [==============================] - 1s 3ms/step - loss: 0.6195 - acc: 0.7777 - val_loss: 0.6884 - val_acc: 0.7490\n",
      "Epoch 54/120\n",
      "313/313 [==============================] - 1s 3ms/step - loss: 0.5881 - acc: 0.7843 - val_loss: 0.6550 - val_acc: 0.7630\n",
      "Epoch 55/120\n",
      "313/313 [==============================] - 1s 3ms/step - loss: 0.5543 - acc: 0.7950 - val_loss: 0.6319 - val_acc: 0.7740\n",
      "Epoch 56/120\n",
      "313/313 [==============================] - 1s 3ms/step - loss: 0.5372 - acc: 0.8049 - val_loss: 0.5987 - val_acc: 0.7790\n",
      "Epoch 57/120\n",
      "313/313 [==============================] - 1s 3ms/step - loss: 0.4931 - acc: 0.8204 - val_loss: 0.5797 - val_acc: 0.7900\n",
      "Epoch 58/120\n",
      "313/313 [==============================] - 1s 3ms/step - loss: 0.4741 - acc: 0.8232 - val_loss: 0.5433 - val_acc: 0.8000\n",
      "Epoch 59/120\n",
      "313/313 [==============================] - 1s 3ms/step - loss: 0.4506 - acc: 0.8343 - val_loss: 0.5438 - val_acc: 0.8110\n",
      "Epoch 60/120\n",
      "313/313 [==============================] - 1s 3ms/step - loss: 0.4139 - acc: 0.8479 - val_loss: 0.5096 - val_acc: 0.8270\n",
      "Epoch 61/120\n",
      "313/313 [==============================] - 1s 3ms/step - loss: 0.4004 - acc: 0.8521 - val_loss: 0.5004 - val_acc: 0.8250\n",
      "Epoch 62/120\n"
     ]
    },
    {
     "name": "stdout",
     "output_type": "stream",
     "text": [
      "313/313 [==============================] - 1s 3ms/step - loss: 0.3735 - acc: 0.8653 - val_loss: 0.4518 - val_acc: 0.8360\n",
      "Epoch 63/120\n",
      "313/313 [==============================] - 1s 3ms/step - loss: 0.3606 - acc: 0.8695 - val_loss: 0.4486 - val_acc: 0.8420\n",
      "Epoch 64/120\n",
      "313/313 [==============================] - 1s 3ms/step - loss: 0.3482 - acc: 0.8717 - val_loss: 0.4132 - val_acc: 0.8550\n",
      "Epoch 65/120\n",
      "313/313 [==============================] - 1s 3ms/step - loss: 0.3308 - acc: 0.8831 - val_loss: 0.4258 - val_acc: 0.8440\n",
      "Epoch 66/120\n",
      "313/313 [==============================] - 1s 3ms/step - loss: 0.3208 - acc: 0.8839 - val_loss: 0.4237 - val_acc: 0.8450\n",
      "Epoch 67/120\n",
      "313/313 [==============================] - 1s 3ms/step - loss: 0.3113 - acc: 0.8852 - val_loss: 0.3991 - val_acc: 0.8480\n",
      "Epoch 68/120\n",
      "313/313 [==============================] - 1s 3ms/step - loss: 0.3041 - acc: 0.8875 - val_loss: 0.4136 - val_acc: 0.8490\n",
      "Epoch 69/120\n",
      "313/313 [==============================] - 1s 3ms/step - loss: 0.2925 - acc: 0.8917 - val_loss: 0.4060 - val_acc: 0.8510\n",
      "Epoch 70/120\n",
      "313/313 [==============================] - 1s 3ms/step - loss: 0.2839 - acc: 0.8982 - val_loss: 0.4188 - val_acc: 0.8550\n",
      "Epoch 71/120\n",
      "313/313 [==============================] - 1s 3ms/step - loss: 0.2770 - acc: 0.8975 - val_loss: 0.3810 - val_acc: 0.8520\n",
      "Epoch 72/120\n",
      "313/313 [==============================] - 1s 3ms/step - loss: 0.2651 - acc: 0.9005 - val_loss: 0.3844 - val_acc: 0.8540\n",
      "Epoch 73/120\n",
      "313/313 [==============================] - 1s 3ms/step - loss: 0.2590 - acc: 0.9075 - val_loss: 0.3960 - val_acc: 0.8650\n",
      "Epoch 74/120\n",
      "313/313 [==============================] - 1s 3ms/step - loss: 0.2535 - acc: 0.9055 - val_loss: 0.3907 - val_acc: 0.8560\n",
      "Epoch 75/120\n",
      "313/313 [==============================] - 1s 3ms/step - loss: 0.2519 - acc: 0.9066 - val_loss: 0.3878 - val_acc: 0.8650\n",
      "Epoch 76/120\n",
      "313/313 [==============================] - 1s 3ms/step - loss: 0.2395 - acc: 0.9102 - val_loss: 0.4195 - val_acc: 0.8580\n",
      "Epoch 77/120\n",
      "313/313 [==============================] - 1s 3ms/step - loss: 0.2345 - acc: 0.9135 - val_loss: 0.3822 - val_acc: 0.8660\n",
      "Epoch 78/120\n",
      "313/313 [==============================] - 1s 3ms/step - loss: 0.2269 - acc: 0.9181 - val_loss: 0.3814 - val_acc: 0.8650\n",
      "Epoch 79/120\n",
      "313/313 [==============================] - 1s 3ms/step - loss: 0.2246 - acc: 0.9183 - val_loss: 0.3868 - val_acc: 0.8660\n",
      "Epoch 80/120\n",
      "313/313 [==============================] - 1s 3ms/step - loss: 0.2273 - acc: 0.9165 - val_loss: 0.3699 - val_acc: 0.8660\n",
      "Epoch 81/120\n",
      "313/313 [==============================] - 1s 3ms/step - loss: 0.2195 - acc: 0.9201 - val_loss: 0.3747 - val_acc: 0.8710\n",
      "Epoch 82/120\n",
      "313/313 [==============================] - 1s 3ms/step - loss: 0.2162 - acc: 0.9216 - val_loss: 0.3766 - val_acc: 0.8730\n",
      "Epoch 83/120\n",
      "313/313 [==============================] - 1s 3ms/step - loss: 0.1993 - acc: 0.9285 - val_loss: 0.3924 - val_acc: 0.8700\n",
      "Epoch 84/120\n",
      "313/313 [==============================] - 1s 3ms/step - loss: 0.1981 - acc: 0.9272 - val_loss: 0.3999 - val_acc: 0.8680\n",
      "Epoch 85/120\n",
      "313/313 [==============================] - 1s 3ms/step - loss: 0.1929 - acc: 0.9315 - val_loss: 0.3536 - val_acc: 0.8760\n",
      "Epoch 86/120\n",
      "313/313 [==============================] - 1s 3ms/step - loss: 0.1861 - acc: 0.9341 - val_loss: 0.3888 - val_acc: 0.8740\n",
      "Epoch 87/120\n",
      "313/313 [==============================] - 1s 3ms/step - loss: 0.1757 - acc: 0.9364 - val_loss: 0.3533 - val_acc: 0.8830\n",
      "Epoch 88/120\n",
      "313/313 [==============================] - 1s 3ms/step - loss: 0.1802 - acc: 0.9346 - val_loss: 0.3607 - val_acc: 0.8860\n",
      "Epoch 89/120\n",
      "313/313 [==============================] - 1s 3ms/step - loss: 0.1595 - acc: 0.9425 - val_loss: 0.3836 - val_acc: 0.8780\n",
      "Epoch 90/120\n",
      "313/313 [==============================] - 1s 3ms/step - loss: 0.1631 - acc: 0.9427 - val_loss: 0.3671 - val_acc: 0.8820\n",
      "Epoch 91/120\n",
      "313/313 [==============================] - 1s 3ms/step - loss: 0.1625 - acc: 0.9420 - val_loss: 0.3585 - val_acc: 0.8890\n",
      "Epoch 92/120\n",
      "313/313 [==============================] - 1s 3ms/step - loss: 0.1509 - acc: 0.9459 - val_loss: 0.3463 - val_acc: 0.8890\n",
      "Epoch 93/120\n",
      "313/313 [==============================] - 1s 3ms/step - loss: 0.1486 - acc: 0.9473 - val_loss: 0.3808 - val_acc: 0.8880\n",
      "Epoch 94/120\n",
      "313/313 [==============================] - 1s 3ms/step - loss: 0.1344 - acc: 0.9531 - val_loss: 0.3731 - val_acc: 0.8870\n",
      "Epoch 95/120\n",
      "313/313 [==============================] - 1s 3ms/step - loss: 0.1287 - acc: 0.9534 - val_loss: 0.3266 - val_acc: 0.8930\n",
      "Epoch 96/120\n",
      "313/313 [==============================] - 1s 3ms/step - loss: 0.1310 - acc: 0.9533 - val_loss: 0.3522 - val_acc: 0.8860\n",
      "Epoch 97/120\n",
      "313/313 [==============================] - 1s 3ms/step - loss: 0.1351 - acc: 0.9556 - val_loss: 0.3168 - val_acc: 0.9020\n",
      "Epoch 98/120\n",
      "313/313 [==============================] - 1s 3ms/step - loss: 0.1188 - acc: 0.9572 - val_loss: 0.3257 - val_acc: 0.8990\n",
      "Epoch 99/120\n",
      "313/313 [==============================] - 1s 3ms/step - loss: 0.1142 - acc: 0.9598 - val_loss: 0.3011 - val_acc: 0.9000\n",
      "Epoch 100/120\n",
      "313/313 [==============================] - 1s 3ms/step - loss: 0.1115 - acc: 0.9606 - val_loss: 0.3644 - val_acc: 0.8910\n",
      "Epoch 101/120\n",
      "313/313 [==============================] - 1s 3ms/step - loss: 0.1160 - acc: 0.9599 - val_loss: 0.2950 - val_acc: 0.8990\n",
      "Epoch 102/120\n",
      "313/313 [==============================] - 1s 3ms/step - loss: 0.1039 - acc: 0.9652 - val_loss: 0.2832 - val_acc: 0.9120\n",
      "Epoch 103/120\n",
      "313/313 [==============================] - 1s 3ms/step - loss: 0.1073 - acc: 0.9617 - val_loss: 0.3111 - val_acc: 0.9040\n",
      "Epoch 104/120\n",
      "313/313 [==============================] - 1s 3ms/step - loss: 0.1047 - acc: 0.9625 - val_loss: 0.2772 - val_acc: 0.9120\n",
      "Epoch 105/120\n",
      "313/313 [==============================] - 1s 3ms/step - loss: 0.0982 - acc: 0.9657 - val_loss: 0.2961 - val_acc: 0.9040\n",
      "Epoch 106/120\n",
      "313/313 [==============================] - 1s 3ms/step - loss: 0.0972 - acc: 0.9681 - val_loss: 0.2889 - val_acc: 0.9110\n",
      "Epoch 107/120\n",
      "313/313 [==============================] - 1s 3ms/step - loss: 0.0979 - acc: 0.9674 - val_loss: 0.2870 - val_acc: 0.9210\n",
      "Epoch 108/120\n",
      "313/313 [==============================] - 1s 3ms/step - loss: 0.0977 - acc: 0.9686 - val_loss: 0.2932 - val_acc: 0.9190\n",
      "Epoch 109/120\n",
      "313/313 [==============================] - 1s 3ms/step - loss: 0.0942 - acc: 0.9679 - val_loss: 0.3110 - val_acc: 0.9230\n",
      "Epoch 110/120\n",
      "313/313 [==============================] - 1s 3ms/step - loss: 0.0873 - acc: 0.9717 - val_loss: 0.2741 - val_acc: 0.9220\n",
      "Epoch 111/120\n",
      "313/313 [==============================] - 1s 3ms/step - loss: 0.0891 - acc: 0.9701 - val_loss: 0.2991 - val_acc: 0.9190\n",
      "Epoch 112/120\n",
      "313/313 [==============================] - 1s 3ms/step - loss: 0.0887 - acc: 0.9692 - val_loss: 0.3350 - val_acc: 0.9130\n",
      "Epoch 113/120\n",
      "313/313 [==============================] - 1s 3ms/step - loss: 0.0836 - acc: 0.9716 - val_loss: 0.2939 - val_acc: 0.9220\n",
      "Epoch 114/120\n",
      "313/313 [==============================] - 1s 3ms/step - loss: 0.0840 - acc: 0.9698 - val_loss: 0.2709 - val_acc: 0.9260\n",
      "Epoch 115/120\n",
      "313/313 [==============================] - 1s 3ms/step - loss: 0.0758 - acc: 0.9748 - val_loss: 0.2855 - val_acc: 0.9230\n",
      "Epoch 116/120\n",
      "313/313 [==============================] - 1s 3ms/step - loss: 0.0731 - acc: 0.9754 - val_loss: 0.2919 - val_acc: 0.9200\n",
      "Epoch 117/120\n",
      "313/313 [==============================] - 1s 3ms/step - loss: 0.0723 - acc: 0.9763 - val_loss: 0.2934 - val_acc: 0.9230\n",
      "Epoch 118/120\n",
      "313/313 [==============================] - 1s 3ms/step - loss: 0.0730 - acc: 0.9774 - val_loss: 0.2803 - val_acc: 0.9260\n",
      "Epoch 119/120\n",
      "313/313 [==============================] - 1s 3ms/step - loss: 0.0746 - acc: 0.9751 - val_loss: 0.2951 - val_acc: 0.9220\n",
      "Epoch 120/120\n",
      "313/313 [==============================] - 1s 3ms/step - loss: 0.0762 - acc: 0.9755 - val_loss: 0.3441 - val_acc: 0.9070\n"
     ]
    }
   ],
   "source": [
    "# 모델 컴파일\n",
    "model = Model([input_sequence, question], answer)\n",
    "model.compile(optimizer='rmsprop', loss='categorical_crossentropy',\n",
    "              metrics=['acc'])\n",
    " \n",
    "# 테스트 데이터를 검증 데이터로 사용하면서 모델 훈련 시작\n",
    "history = model.fit([Xstrain, Xqtrain],\n",
    "         Ytrain, batch_size, train_epochs,\n",
    "         validation_data=([Xstest, Xqtest], Ytest))\n",
    " \n",
    "# 훈련 후에는 모델 저장\n",
    "model_path = os.getenv('HOME')+'/aiffel/memory_network/model_with_stopwords.h5'\n",
    "model.save(model_path)"
   ]
  },
  {
   "cell_type": "code",
   "execution_count": 34,
   "metadata": {},
   "outputs": [
    {
     "name": "stdout",
     "output_type": "stream",
     "text": [
      "32/32 [==============================] - 0s 1ms/step - loss: 0.3441 - acc: 0.9070\n",
      "\n",
      " 테스트 정확도: 0.9070\n"
     ]
    }
   ],
   "source": [
    "print(\"\\n 테스트 정확도: %.4f\" % (model.evaluate([Xstest, Xqtest], Ytest)[1]))"
   ]
  },
  {
   "cell_type": "markdown",
   "metadata": {},
   "source": [
    "불용어 미 사용시 테스트 정확도: 0.9190"
   ]
  },
  {
   "cell_type": "code",
   "execution_count": 35,
   "metadata": {
    "scrolled": false
   },
   "outputs": [
    {
     "data": {
      "image/png": "[encoded data removed]",
      "text/plain": [
       "<Figure size 432x288 with 2 Axes>"
      ]
     },
     "metadata": {
      "needs_background": "light"
     },
     "output_type": "display_data"
    }
   ],
   "source": [
    "# plot accuracy and loss plot\n",
    "plt.subplot(211)\n",
    "plt.title(\"Accuracy\")\n",
    "plt.plot(history.history[\"acc\"], color=\"g\", label=\"train\")\n",
    "plt.plot(history.history[\"val_acc\"], color=\"b\", label=\"validation\")\n",
    "plt.legend(loc=\"best\")\n",
    "\n",
    "plt.subplot(212)\n",
    "plt.title(\"Loss\")\n",
    "plt.plot(history.history[\"loss\"], color=\"g\", label=\"train\")\n",
    "plt.plot(history.history[\"val_loss\"], color=\"b\", label=\"validation\")\n",
    "plt.legend(loc=\"best\")\n",
    "\n",
    "plt.tight_layout()\n",
    "plt.show()\n",
    "\n",
    "# labels\n",
    "ytest = np.argmax(Ytest, axis=1)\n",
    "\n",
    "# get predictions\n",
    "Ytest_ = model.predict([Xstest, Xqtest])\n",
    "ytest_ = np.argmax(Ytest_, axis=1)"
   ]
  },
  {
   "attachments": {
    "without_stopwords.png": {
     "image/png": "[encoded data removed]"
    }
   },
   "cell_type": "markdown",
   "metadata": {},
   "source": [
    "stopwords 사용시 학습 그래프\n",
    "\n",
    "![without_stopwords.png](attachment:without_stopwords.png)"
   ]
  },
  {
   "cell_type": "code",
   "execution_count": 39,
   "metadata": {},
   "outputs": [
    {
     "name": "stdout",
     "output_type": "stream",
     "text": [
      "[ 0  4 18 19 20]\n",
      "{1: '.', 2: '했습니다', 3: '경임이', 4: '은경이', 5: '수종이', 6: '필웅이', 7: '이동', 8: '가버렸습니다', 9: '뛰어갔습니다', 10: '복귀', 11: '화장실', 12: '정원', 13: '복도', 14: '갔습니다', 15: '사무실', 16: '부엌', 17: '침실', 18: '어디', 19: '야', 20: '?'}\n",
      "{'.': 1, '했습니다': 2, '경임이': 3, '은경이': 4, '수종이': 5, '필웅이': 6, '이동': 7, '가버렸습니다': 8, '뛰어갔습니다': 9, '복귀': 10, '화장실': 11, '정원': 12, '복도': 13, '갔습니다': 14, '사무실': 15, '부엌': 16, '침실': 17, '어디': 18, '야': 19, '?': 20}\n"
     ]
    }
   ],
   "source": [
    "print(Xqtest[0])\n",
    "\n",
    "print(idx2word)\n",
    "print(word2idx)"
   ]
  },
  {
   "cell_type": "code",
   "execution_count": 37,
   "metadata": {},
   "outputs": [
    {
     "name": "stdout",
     "output_type": "stream",
     "text": [
      "필웅이\n",
      "어디\n",
      "야\n",
      "?\n"
     ]
    }
   ],
   "source": [
    "a = Xqtest[100]\n",
    "\n",
    "for i in a:\n",
    "    if i != 0:\n",
    "        print(idx2word[i])"
   ]
  },
  {
   "cell_type": "code",
   "execution_count": 43,
   "metadata": {},
   "outputs": [
    {
     "name": "stdout",
     "output_type": "stream",
     "text": [
      "질문                |실제값  |예측값\n",
      "---------------------------------------\n",
      "<pad> 은경이 어디 야 ?    : 복도      복도\n",
      "<pad> 필웅이 어디 야 ?    : 화장실     화장실\n",
      "<pad> 경임이 어디 야 ?    : 부엌      부엌\n",
      "<pad> 경임이 어디 야 ?    : 복도      복도\n",
      "<pad> 경임이 어디 야 ?    : 부엌      부엌\n",
      "<pad> 경임이 어디 야 ?    : 복도      복도\n",
      "<pad> 경임이 어디 야 ?    : 정원      정원\n",
      "<pad> 수종이 어디 야 ?    : 복도      복도\n",
      "<pad> 경임이 어디 야 ?    : 사무실     사무실\n",
      "<pad> 수종이 어디 야 ?    : 사무실     정원\n",
      "<pad> 필웅이 어디 야 ?    : 부엌      부엌\n",
      "<pad> 필웅이 어디 야 ?    : 정원      정원\n",
      "<pad> 수종이 어디 야 ?    : 사무실     사무실\n",
      "<pad> 필웅이 어디 야 ?    : 침실      침실\n",
      "<pad> 필웅이 어디 야 ?    : 침실      침실\n",
      "<pad> 은경이 어디 야 ?    : 부엌      부엌\n",
      "<pad> 은경이 어디 야 ?    : 정원      정원\n",
      "<pad> 은경이 어디 야 ?    : 부엌      부엌\n",
      "<pad> 수종이 어디 야 ?    : 사무실     사무실\n",
      "<pad> 은경이 어디 야 ?    : 부엌      화장실\n",
      "<pad> 필웅이 어디 야 ?    : 복도      복도\n",
      "<pad> 은경이 어디 야 ?    : 사무실     사무실\n",
      "<pad> 은경이 어디 야 ?    : 사무실     사무실\n",
      "<pad> 경임이 어디 야 ?    : 복도      복도\n",
      "<pad> 수종이 어디 야 ?    : 침실      침실\n",
      "<pad> 경임이 어디 야 ?    : 침실      침실\n",
      "<pad> 필웅이 어디 야 ?    : 침실      침실\n",
      "<pad> 수종이 어디 야 ?    : 부엌      부엌\n",
      "<pad> 수종이 어디 야 ?    : 부엌      부엌\n",
      "<pad> 수종이 어디 야 ?    : 부엌      부엌\n"
     ]
    }
   ],
   "source": [
    "NUM_DISPLAY = 30\n",
    "\n",
    "print(\"{:18}|{:5}|{}\".format(\"질문\", \"실제값\", \"예측값\"))\n",
    "print(39 * \"-\")\n",
    "\n",
    "for i in range(NUM_DISPLAY):\n",
    "    question = \" \".join([idx2word[x] for x in Xqtest[i].tolist()])\n",
    "    label = idx2word[ytest[i]]\n",
    "    prediction = idx2word[ytest_[i]]\n",
    "    print(\"{:20}: {:7} {}\".format(question, label, prediction))"
   ]
  },
  {
   "cell_type": "markdown",
   "metadata": {},
   "source": [
    "## Step 7. 총평"
   ]
  },
  {
   "cell_type": "markdown",
   "metadata": {},
   "source": [
    "불용어, 는, 로, 으로 등을 제거하자 학습 속도 자체는 상당히 빨라졌다. 다만 정확도는 소폭 감소하였다."
   ]
  }
 ],
 "metadata": {
  "kernelspec": {
   "display_name": "aiffel",
   "language": "python",
   "name": "aiffel"
  },
  "language_info": {
   "codemirror_mode": {
    "name": "ipython",
    "version": 3
   },
   "file_extension": ".py",
   "mimetype": "text/x-python",
   "name": "python",
   "nbconvert_exporter": "python",
   "pygments_lexer": "ipython3",
   "version": "3.7.9"
  }
 },
 "nbformat": 4,
 "nbformat_minor": 4
}
